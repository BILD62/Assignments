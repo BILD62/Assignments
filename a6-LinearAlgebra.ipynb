{
 "cells": [
  {
   "cell_type": "markdown",
   "id": "5e7930a2",
   "metadata": {
    "deletable": false,
    "editable": false,
    "nbgrader": {
     "cell_type": "markdown",
     "checksum": "2db5030821f9bbc8dba93a6ed53ab0c1",
     "grade": false,
     "grade_id": "cell-f202eb9ada3b784c",
     "locked": true,
     "schema_version": 3,
     "solution": false
    }
   },
   "source": [
    "# Assignment a6: Linear Algebra\n",
    "\n",
    "\n",
    "## Q1\n",
    "Using NumPy, create a two-dimensional vector, where the x-coordinate is 12, and the y-coordinate is 5. Assign this vector to an object called `vector`."
   ]
  },
  {
   "cell_type": "code",
   "execution_count": null,
   "id": "603205a8",
   "metadata": {
    "deletable": false,
    "nbgrader": {
     "cell_type": "code",
     "checksum": "4a1e2d0cfb5845f6c001a49e713450f6",
     "grade": false,
     "grade_id": "cell-9be52e26d65137a0",
     "locked": false,
     "schema_version": 3,
     "solution": true
    }
   },
   "outputs": [],
   "source": [
    "# YOUR CODE HERE\n",
    "raise NotImplementedError()"
   ]
  },
  {
   "cell_type": "code",
   "execution_count": null,
   "id": "fded0c80",
   "metadata": {
    "deletable": false,
    "editable": false,
    "nbgrader": {
     "cell_type": "code",
     "checksum": "aee0e4b355062161912fb84c30d6f8e4",
     "grade": true,
     "grade_id": "cell-f2669f2b98c712d9",
     "locked": true,
     "points": 2,
     "schema_version": 3,
     "solution": false
    }
   },
   "outputs": [],
   "source": [
    "assert isinstance(vector,np.ndarray)"
   ]
  },
  {
   "cell_type": "code",
   "execution_count": null,
   "id": "da57b035",
   "metadata": {
    "deletable": false,
    "editable": false,
    "nbgrader": {
     "cell_type": "code",
     "checksum": "2e088a7e8295eeb1ecd92250536dfc7f",
     "grade": true,
     "grade_id": "cell-c8a5d94c248de7d0",
     "locked": true,
     "points": 3,
     "schema_version": 3,
     "solution": false
    }
   },
   "outputs": [],
   "source": [
    "# Hidden tests"
   ]
  },
  {
   "cell_type": "markdown",
   "id": "963ddba2",
   "metadata": {},
   "source": [
    "## Q2\n",
    "\n",
    "Find the unit vector of the `vector` above and assign it to `vector_unit`."
   ]
  },
  {
   "cell_type": "code",
   "execution_count": null,
   "id": "c838a81f",
   "metadata": {
    "deletable": false,
    "nbgrader": {
     "cell_type": "code",
     "checksum": "e25805188735ad526ba7aef9f2a8030e",
     "grade": false,
     "grade_id": "cell-373893a38dd743ec",
     "locked": false,
     "schema_version": 3,
     "solution": true
    }
   },
   "outputs": [],
   "source": [
    "# YOUR CODE HERE\n",
    "raise NotImplementedError()"
   ]
  },
  {
   "cell_type": "code",
   "execution_count": null,
   "id": "62b3782b",
   "metadata": {
    "deletable": false,
    "editable": false,
    "nbgrader": {
     "cell_type": "code",
     "checksum": "5022cbb6d0b9edd7568e9e373043e96a",
     "grade": true,
     "grade_id": "cell-aa6049e77a396c93",
     "locked": true,
     "points": 2,
     "schema_version": 3,
     "solution": false
    }
   },
   "outputs": [],
   "source": [
    "assert isinstance(vector_unit,np.ndarray)"
   ]
  },
  {
   "cell_type": "code",
   "execution_count": null,
   "id": "f51ea192",
   "metadata": {
    "deletable": false,
    "editable": false,
    "nbgrader": {
     "cell_type": "code",
     "checksum": "3d7ac8113b476144526a4e17a7dfb47b",
     "grade": true,
     "grade_id": "cell-5fec3fe69690f33b",
     "locked": true,
     "points": 3,
     "schema_version": 3,
     "solution": false
    }
   },
   "outputs": [],
   "source": [
    "# Hidden tests"
   ]
  },
  {
   "cell_type": "markdown",
   "id": "00aa725f",
   "metadata": {
    "deletable": false,
    "editable": false,
    "nbgrader": {
     "cell_type": "markdown",
     "checksum": "2c062f0a77ee44a9acc1f29a01a75df2",
     "grade": false,
     "grade_id": "cell-3f4de4a8181dfae3",
     "locked": true,
     "schema_version": 3,
     "solution": false
    }
   },
   "source": [
    "## Q3\n",
    "\n",
    "**True or False**: a vector with coordinates (1,1) is a unit vector. Your response should be a Boolean assigned to `Q3`."
   ]
  },
  {
   "cell_type": "code",
   "execution_count": null,
   "id": "d9142b33",
   "metadata": {
    "deletable": false,
    "nbgrader": {
     "cell_type": "code",
     "checksum": "b85c91b0dd26cfa68af13cb8aad13320",
     "grade": false,
     "grade_id": "cell-100fe29dbe7b3ef3",
     "locked": false,
     "schema_version": 3,
     "solution": true
    }
   },
   "outputs": [],
   "source": [
    "# YOUR CODE HERE\n",
    "raise NotImplementedError()"
   ]
  },
  {
   "cell_type": "code",
   "execution_count": null,
   "id": "3f5ac2a6",
   "metadata": {
    "deletable": false,
    "editable": false,
    "nbgrader": {
     "cell_type": "code",
     "checksum": "67a4431b61e3ec6a1cfeba617ff86584",
     "grade": true,
     "grade_id": "cell-b19483f3a55c6fad",
     "locked": true,
     "points": 3,
     "schema_version": 3,
     "solution": false
    }
   },
   "outputs": [],
   "source": [
    "assert isinstance(Q3,bool)\n",
    "\n",
    "# Hidden tests"
   ]
  },
  {
   "cell_type": "markdown",
   "id": "cc790738",
   "metadata": {
    "deletable": false,
    "editable": false,
    "nbgrader": {
     "cell_type": "markdown",
     "checksum": "dc1dc1eeb93a2a2ad5f061a40bedadea",
     "grade": false,
     "grade_id": "cell-207b9dfc354bb9f1",
     "locked": true,
     "schema_version": 3,
     "solution": false
    }
   },
   "source": [
    "## Q4\n",
    "\n",
    "Write a function `vector_addition` that takes two vectors represented as lists and returns their sum. For example, given vectors [1, 2, 3] and [4, 5, 6], the function should return [5, 7, 9]."
   ]
  },
  {
   "cell_type": "code",
   "execution_count": null,
   "id": "92752441",
   "metadata": {
    "deletable": false,
    "nbgrader": {
     "cell_type": "code",
     "checksum": "31b7097c03481cfa4455fbcb4cf43409",
     "grade": false,
     "grade_id": "cell-14d487e20ea1b49a",
     "locked": false,
     "schema_version": 3,
     "solution": true
    }
   },
   "outputs": [],
   "source": [
    "# YOUR CODE HERE\n",
    "raise NotImplementedError()"
   ]
  },
  {
   "cell_type": "code",
   "execution_count": null,
   "id": "2c56b47c",
   "metadata": {
    "deletable": false,
    "editable": false,
    "nbgrader": {
     "cell_type": "code",
     "checksum": "7e02bbdb72633826f6a6f05cb594a38c",
     "grade": true,
     "grade_id": "cell-b3a1ee5263ffacd5",
     "locked": true,
     "points": 10,
     "schema_version": 3,
     "solution": false
    }
   },
   "outputs": [],
   "source": [
    "# Hidden tests"
   ]
  },
  {
   "cell_type": "markdown",
   "id": "7ad573f6",
   "metadata": {
    "deletable": false,
    "editable": false,
    "nbgrader": {
     "cell_type": "markdown",
     "checksum": "1525134a3dac934fd10dddda70b5b9e0",
     "grade": false,
     "grade_id": "cell-8f7869af61044df5",
     "locked": true,
     "schema_version": 3,
     "solution": false
    }
   },
   "source": [
    "## Q5\n",
    "\n",
    "Write a function `create_vector` that can take a vector and designed magnitude (length) as inputs, and will return a vector in the same direction, but with a magnitude corresponding to the second input."
   ]
  },
  {
   "cell_type": "code",
   "execution_count": null,
   "id": "bb02d0d2",
   "metadata": {
    "deletable": false,
    "nbgrader": {
     "cell_type": "code",
     "checksum": "75758b6c252e2616c45df67451564c85",
     "grade": false,
     "grade_id": "cell-491e5108f687aae9",
     "locked": false,
     "schema_version": 3,
     "solution": true
    }
   },
   "outputs": [],
   "source": [
    "# YOUR CODE HERE\n",
    "raise NotImplementedError()"
   ]
  },
  {
   "cell_type": "code",
   "execution_count": null,
   "id": "88711f5c",
   "metadata": {
    "deletable": false,
    "editable": false,
    "nbgrader": {
     "cell_type": "code",
     "checksum": "254670be2032bd63468b6c9b56195649",
     "grade": true,
     "grade_id": "cell-57544efb48405a39",
     "locked": true,
     "points": 5,
     "schema_version": 3,
     "solution": false
    }
   },
   "outputs": [],
   "source": [
    "# Hidden tests"
   ]
  },
  {
   "cell_type": "markdown",
   "id": "b797a072",
   "metadata": {},
   "source": [
    "## Q6\n",
    "\n",
    "**Enzyme Kinetics: Deciphering Substrate Concentrations**\n",
    "\n",
    "Consider an enzymatic reaction involving 2 enzymes, denoted as E<sub>1</sub> and E<sub>2</sub>, which are part of a biochemical pathway. These enzymes are influenced by the concentrations of 2 substrates, S<sub>1</sub> and S<sub>2</sub>. Let $c_{E_1}$ and $(c_{E_2}$ represent the catalytic activities of enzymes $E_1$ and $E_2$, respectively. The concentrations of substrates are denoted as $s_1$ and $s_2$.\n",
    "\n",
    "The relationship between substrate concentrations and enzyme activities is modeled by the following system of linear equations:\n",
    "\n",
    "\\begin{align*}\n",
    "c_{E_1} &= 2 \\cdot s_1 + 3 \\cdot s_2 \\\\\n",
    "c_{E_2} &= -s_1 + 4 \\cdot s_2\n",
    "\\end{align*}\n",
    "\n",
    "Assume that you have only measured the activities of enzymes ($c_{E_1}=10$ and $c_{E_2}=5$) and are attempting to deduce the concentrations of substrates.\n",
    "\n",
    "### Step 1\n",
    "Write the matrix equation representing the system of linear equations in terms of matrices and vectors.\n",
    "\n",
    "- Create the coefficients matrix and assign it to `coeff_matrix`.\n",
    "- Assign the inverse of that matrix to `inverse_matrix`.\n",
    "- Create a vector of the measured enzyme activities and assign it to `enzyme_activities`."
   ]
  },
  {
   "cell_type": "code",
   "execution_count": null,
   "id": "1eeceecc",
   "metadata": {
    "deletable": false,
    "nbgrader": {
     "cell_type": "code",
     "checksum": "d1742055af86591560dfe4a3163fa46a",
     "grade": false,
     "grade_id": "cell-a48a9616b9393ee7",
     "locked": false,
     "schema_version": 3,
     "solution": true
    }
   },
   "outputs": [],
   "source": [
    "# YOUR CODE HERE\n",
    "raise NotImplementedError()"
   ]
  },
  {
   "cell_type": "code",
   "execution_count": null,
   "id": "4ae6b516",
   "metadata": {
    "deletable": false,
    "editable": false,
    "nbgrader": {
     "cell_type": "code",
     "checksum": "33b4f3625d55782a91415bef32e05b9b",
     "grade": true,
     "grade_id": "cell-7dee79db9186a222",
     "locked": true,
     "points": 2,
     "schema_version": 3,
     "solution": false
    }
   },
   "outputs": [],
   "source": [
    "assert isinstance(coeff_matrix,np.ndarray)\n",
    "assert isinstance(inverse_matrix,np.ndarray)\n",
    "assert isinstance(enzyme_activities,np.ndarray)"
   ]
  },
  {
   "cell_type": "code",
   "execution_count": null,
   "id": "f69574fc",
   "metadata": {
    "deletable": false,
    "editable": false,
    "nbgrader": {
     "cell_type": "code",
     "checksum": "fd7acfbd97bcb9175926bef950eaacc7",
     "grade": true,
     "grade_id": "cell-bfdc3de4680312ee",
     "locked": true,
     "points": 2,
     "schema_version": 3,
     "solution": false
    }
   },
   "outputs": [],
   "source": [
    "# Hidden tests"
   ]
  },
  {
   "cell_type": "code",
   "execution_count": null,
   "id": "6e3315f3",
   "metadata": {
    "deletable": false,
    "editable": false,
    "nbgrader": {
     "cell_type": "code",
     "checksum": "c5d0feb26db676821a1db98afb8316fc",
     "grade": true,
     "grade_id": "cell-b4301670a154973d",
     "locked": true,
     "points": 2,
     "schema_version": 3,
     "solution": false
    }
   },
   "outputs": [],
   "source": [
    "# Hidden tests"
   ]
  },
  {
   "cell_type": "code",
   "execution_count": null,
   "id": "95804b89",
   "metadata": {
    "deletable": false,
    "editable": false,
    "nbgrader": {
     "cell_type": "code",
     "checksum": "7e6415751eab17a891f70207e28c74db",
     "grade": true,
     "grade_id": "cell-fa542689b9c44e61",
     "locked": true,
     "points": 2,
     "schema_version": 3,
     "solution": false
    }
   },
   "outputs": [],
   "source": [
    "# Hidden tests"
   ]
  },
  {
   "cell_type": "markdown",
   "id": "4936acf4",
   "metadata": {
    "deletable": false,
    "editable": false,
    "nbgrader": {
     "cell_type": "markdown",
     "checksum": "941f94ab73e769e9dcd7ab7ddec402af",
     "grade": false,
     "grade_id": "cell-9f17163cb53066d6",
     "locked": true,
     "schema_version": 3,
     "solution": false
    }
   },
   "source": [
    "### Step 2\n",
    "Solve the matrix equation to find the concentrations of substrates ($(s_1$ and $s_2$) given the observed enzyme activities ($c_{E_1}$ and $c_{E_2}$). Assign the output of this to `substrate_concentrations`."
   ]
  },
  {
   "cell_type": "code",
   "execution_count": null,
   "id": "4a48cfb3",
   "metadata": {
    "deletable": false,
    "nbgrader": {
     "cell_type": "code",
     "checksum": "99137500676198f91d46d85bc00ab94a",
     "grade": false,
     "grade_id": "cell-1cea2da5c6a71b77",
     "locked": false,
     "schema_version": 3,
     "solution": true
    }
   },
   "outputs": [],
   "source": [
    "# YOUR CODE HERE\n",
    "raise NotImplementedError()"
   ]
  },
  {
   "cell_type": "code",
   "execution_count": null,
   "id": "65197b65",
   "metadata": {
    "deletable": false,
    "editable": false,
    "nbgrader": {
     "cell_type": "code",
     "checksum": "aee98fc1a7bd48a3bf39c1639c6facd8",
     "grade": true,
     "grade_id": "cell-092c49f6e30ae5b0",
     "locked": true,
     "points": 2,
     "schema_version": 3,
     "solution": false
    }
   },
   "outputs": [],
   "source": [
    "assert isinstance(substrate_concentrations,np.ndarray)"
   ]
  },
  {
   "cell_type": "code",
   "execution_count": null,
   "id": "8b6ef7af",
   "metadata": {
    "deletable": false,
    "editable": false,
    "nbgrader": {
     "cell_type": "code",
     "checksum": "d55923a2eb8bae5c23bd7921a199450f",
     "grade": true,
     "grade_id": "cell-8e8db7f98fc52fe9",
     "locked": true,
     "points": 3,
     "schema_version": 3,
     "solution": false
    }
   },
   "outputs": [],
   "source": [
    "# Hidden tests"
   ]
  },
  {
   "cell_type": "markdown",
   "id": "a0d0a5c2",
   "metadata": {},
   "source": [
    "## Q7\n",
    "One of the biggest use cases of linear algebra in biology is to enable dimensionality reduction. Below, we'll create a dataset containing 100 cells, with 8 different types of information about each cell (stored in `cell_fields`). We have already **mean centered** this dataset, so it is ready for analysis.\n",
    "\n",
    "**Run the cell below to store the dataset and preview it.**"
   ]
  },
  {
   "cell_type": "code",
   "execution_count": null,
   "id": "15d2a061",
   "metadata": {},
   "outputs": [],
   "source": [
    "cell_fields = ['latency', 'volume', 'depth', 'maxrate', 'spont', 'width', 'axon', 'dendrite']\n",
    "x_data = pd.read_csv('neurons.csv')\n",
    "x_data = x_data[cell_fields] # only use cell_fields columns\n",
    "x_data.head()"
   ]
  },
  {
   "cell_type": "markdown",
   "id": "77f56c3d",
   "metadata": {},
   "source": [
    "The first step is to create the covariance matrix. This will show us how each of the measurements of our cell are related. **Run the cell below to create the covariance matrix and visualize it.**"
   ]
  },
  {
   "cell_type": "code",
   "execution_count": null,
   "id": "f59377eb",
   "metadata": {},
   "outputs": [],
   "source": [
    "import matplotlib.pyplot as plt\n",
    "\n",
    "covariance_matrix = x_data.cov()\n",
    "\n",
    "plt.imshow(covariance_matrix, cmap='viridis')\n",
    "plt.colorbar()\n",
    "plt.title('Covariance Matrix (\\u03A3)')\n",
    "plt.xticks(range(len(cell_fields)), cell_fields, rotation='vertical')\n",
    "plt.yticks(range(len(cell_fields)), cell_fields)\n",
    "\n",
    "plt.show()"
   ]
  },
  {
   "cell_type": "markdown",
   "id": "6110aa21",
   "metadata": {
    "deletable": false,
    "editable": false,
    "nbgrader": {
     "cell_type": "markdown",
     "checksum": "6fb060a7e58a986c48f3546d217c7851",
     "grade": false,
     "grade_id": "cell-72841e705181724c",
     "locked": true,
     "schema_version": 3,
     "solution": false
    }
   },
   "source": [
    "Now we are ready to compute the eigenvectors and eigenvalues and then visualize our results!\n",
    "\n",
    "### Steps 1-3\n",
    "1. Compute the eigenvectors and eigenvalues using `np.linalg.eigh()` and assign the outputs to `eigenvalues` and `eigenvectors`. [Documentation for `np.linalg.eigh()` is here.](https://numpy.org/doc/stable/reference/generated/numpy.linalg.eigh.html)\n",
    "2. `eigenvectors` should be an by an 8 array, where each column is an eigenvector. Slice this array to get the first two eigenvectors (in other words, the first two columns of the data and assign this to `top_eigenvectors`.\n",
    "3. Compute the dot product between `x_data` and `top_eigenvectors` and assign this to `transformed_data`."
   ]
  },
  {
   "cell_type": "code",
   "execution_count": null,
   "id": "26622512",
   "metadata": {
    "deletable": false,
    "nbgrader": {
     "cell_type": "code",
     "checksum": "4df20e62efebd7ecfb85c45e49f5310e",
     "grade": false,
     "grade_id": "cell-106ffb2ddf2b9ee6",
     "locked": false,
     "schema_version": 3,
     "solution": true
    }
   },
   "outputs": [],
   "source": [
    "# YOUR CODE HERE\n",
    "raise NotImplementedError()"
   ]
  },
  {
   "cell_type": "code",
   "execution_count": null,
   "id": "3c0e637e",
   "metadata": {
    "deletable": false,
    "editable": false,
    "nbgrader": {
     "cell_type": "code",
     "checksum": "7232311b630770b1629767b4712348c7",
     "grade": true,
     "grade_id": "cell-546e292fa24ccb2f",
     "locked": true,
     "points": 2,
     "schema_version": 3,
     "solution": false
    }
   },
   "outputs": [],
   "source": [
    "assert isinstance(eigenvalues,np.ndarray)\n",
    "assert isinstance(eigenvectors,np.ndarray)\n",
    "assert isinstance(top_eigenvectors,np.ndarray)"
   ]
  },
  {
   "cell_type": "code",
   "execution_count": null,
   "id": "8212b499",
   "metadata": {
    "deletable": false,
    "editable": false,
    "nbgrader": {
     "cell_type": "code",
     "checksum": "0e7a5ac510838ec7e109e76903a7f501",
     "grade": true,
     "grade_id": "cell-8f4b25a183e335e2",
     "locked": true,
     "points": 2,
     "schema_version": 3,
     "solution": false
    }
   },
   "outputs": [],
   "source": []
  },
  {
   "cell_type": "markdown",
   "id": "137dbd80",
   "metadata": {
    "deletable": false,
    "editable": false,
    "nbgrader": {
     "cell_type": "markdown",
     "checksum": "790b8704e930cc6e88443b27bbd8257c",
     "grade": false,
     "grade_id": "cell-feb83e7929b783d4",
     "locked": true,
     "schema_version": 3,
     "solution": false
    }
   },
   "source": [
    "### Step 4\n",
    "Finally, visualize your results by plotting the first column of `transformed_data` on the x-axis of a scatter plot, with the second column on the y-axis. You should see three fairly discrete clumps of datapoints when you do this.\n",
    "\n",
    "**Note**: You do not need any axis labels on this plot. This step is manually graded."
   ]
  },
  {
   "cell_type": "code",
   "execution_count": null,
   "id": "4cb958d8",
   "metadata": {
    "deletable": false,
    "nbgrader": {
     "cell_type": "code",
     "checksum": "36467c8947c673496260d4ff75d1eed8",
     "grade": true,
     "grade_id": "cell-e4b2b0fa54c63b0a",
     "locked": false,
     "points": 5,
     "schema_version": 3,
     "solution": true
    }
   },
   "outputs": [],
   "source": [
    "# YOUR CODE HERE\n",
    "raise NotImplementedError()"
   ]
  }
 ],
 "metadata": {
  "kernelspec": {
   "display_name": "Python 3 (ipykernel)",
   "language": "python",
   "name": "python3"
  },
  "language_info": {
   "codemirror_mode": {
    "name": "ipython",
    "version": 3
   },
   "file_extension": ".py",
   "mimetype": "text/x-python",
   "name": "python",
   "nbconvert_exporter": "python",
   "pygments_lexer": "ipython3",
   "version": "3.9.5"
  }
 },
 "nbformat": 4,
 "nbformat_minor": 5
}
