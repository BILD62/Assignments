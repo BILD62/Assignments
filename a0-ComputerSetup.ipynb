{
 "cells": [
  {
   "cell_type": "markdown",
   "metadata": {
    "deletable": false,
    "editable": false,
    "nbgrader": {
     "cell_type": "markdown",
     "checksum": "f61f6176482b2cceef3a89100a45ad1c",
     "grade": false,
     "grade_id": "cell-c0b2605705acf23e",
     "locked": true,
     "schema_version": 3,
     "solution": false
    }
   },
   "source": [
    "# Assignment 0: Tools & setting up your computer\n",
    "\n",
    "This assignment simply checks that you can access our assignments and will familiarize you with submitting assignments via NBGrader.\n",
    "\n",
    "\n",
    "**PLEASE DO NOT CHANGE THE NAME OF THIS FILE.**\n",
    "\n",
    "**PLEASE DO NOT COPY & PASTE OR DELETE CELLS INCLUDED IN THE ASSIGNMENT.**\n",
    "\n",
    "\n",
    "## How to complete assignments\n",
    "\n",
    "Whenever you see:\n",
    "\n",
    "```\n",
    "# YOUR CODE HERE\n",
    "raise NotImplementedError()\n",
    "```\n",
    "\n",
    "You need to **replace (in other words, delete) these lines of code with code that answers the questions** and meets the specified criteria. Make sure you remove the 'raise' line when you do this (or your notebook will raise an error, regardless of any other code, and thus fail the grading tests).\n",
    "\n",
    "You should write the answer to the questions in those cells (the ones with `# YOUR CODE HERE`), but you can also add extra cells to explore / investigate things if you need / want to. \n",
    "\n",
    "Any cell with `assert` statements in it is a test cell. You should not try to change or delete these cells. Note that there might be more than one assert that tests a particular question. \n",
    "\n",
    "If a test does fail, reading the error that is printed out should let you know which test failed, which may be useful for fixing it.\n",
    "\n",
    "Note that some cells, including the test cells, may be read only, which means they won't let you edit them. If you cannot edit a cell - that is normal, and you shouldn't need to edit that cell."
   ]
  },
  {
   "cell_type": "markdown",
   "metadata": {
    "deletable": false,
    "editable": false,
    "nbgrader": {
     "cell_type": "markdown",
     "checksum": "1144afe4f06b134d5841e5dd6be532cd",
     "grade": false,
     "grade_id": "cell-201b22a99b2f74d7",
     "locked": true,
     "schema_version": 3,
     "solution": false
    }
   },
   "source": [
    "## Q1\n",
    "\n",
    "Create a variable called `my_name`, and assign a string to it that is your name. In other words, enter `my_name = 'name'`. Be sure to put your name in single quotes, e.g., `'Ashley'`."
   ]
  },
  {
   "cell_type": "code",
   "execution_count": null,
   "metadata": {
    "deletable": false,
    "nbgrader": {
     "cell_type": "code",
     "checksum": "2231f91f593f763ecebf7f665561330b",
     "grade": false,
     "grade_id": "cell-4995bf24615505c5",
     "locked": false,
     "schema_version": 3,
     "solution": true
    }
   },
   "outputs": [],
   "source": [
    "# YOUR CODE HERE\n",
    "raise NotImplementedError()"
   ]
  },
  {
   "cell_type": "code",
   "execution_count": null,
   "metadata": {
    "deletable": false,
    "editable": false,
    "nbgrader": {
     "cell_type": "code",
     "checksum": "dba345877b51ebcfdc0df397de01b0d3",
     "grade": true,
     "grade_id": "cell-14c71d611db9757d",
     "locked": true,
     "points": 5,
     "schema_version": 3,
     "solution": false
    }
   },
   "outputs": [],
   "source": [
    "## TESTS FOR Q1, worth 5 points\n",
    "# This is a test cell. It checks that the code you wrote does what it's supposed to.\n",
    "# You can use the information in this cell to make sure you've met the expectations for the question.\n",
    "assert  my_name                     # This tests that a variable \"my_name\" exists\n",
    "assert  isinstance(my_name, str)    # isinstance() tests that \"my_name\" is of a particular type (here, a string)"
   ]
  },
  {
   "cell_type": "markdown",
   "metadata": {
    "deletable": false,
    "editable": false,
    "nbgrader": {
     "cell_type": "markdown",
     "checksum": "6468613dc24c67738bb4efb807fa36c4",
     "grade": false,
     "grade_id": "cell-0b7e548919dbf0ea",
     "locked": true,
     "schema_version": 3,
     "solution": false
    }
   },
   "source": [
    "## Q2\n",
    "Occasionally, we'll use these notebooks to ask multiple choice questions. When you respond to a multiple choice question, **be sure to put your response in single quotation marks, the way you did in Q1**.\n",
    "\n",
    "For example, if you wanted to respond \"A\", you should write `answer = 'A'`\n",
    "\n",
    "Respond to the question below:\n",
    "\n",
    "What is the **kernel**?\n",
    "\n",
    "- A) a list of the variables stored in Python memory\n",
    "- B) where your code runs; your Jupyter notebook is connected to the kernel\n",
    "- C) an object that returns a string\n",
    "- D) a way to specify that you are using math variables and not programming variables"
   ]
  },
  {
   "cell_type": "code",
   "execution_count": null,
   "metadata": {
    "deletable": false,
    "nbgrader": {
     "cell_type": "code",
     "checksum": "b95ef1c2a0767ef13a2ee17f5de39d75",
     "grade": false,
     "grade_id": "cell-8d20cdb4d0f455ff",
     "locked": false,
     "schema_version": 3,
     "solution": true
    }
   },
   "outputs": [],
   "source": [
    "# YOUR CODE HERE\n",
    "raise NotImplementedError()"
   ]
  },
  {
   "cell_type": "code",
   "execution_count": null,
   "metadata": {
    "deletable": false,
    "editable": false,
    "nbgrader": {
     "cell_type": "code",
     "checksum": "23e86354d81bc9d499c4cc0893adbdd1",
     "grade": true,
     "grade_id": "cell-e986bfb4e19f48c3",
     "locked": true,
     "points": 5,
     "schema_version": 3,
     "solution": false
    }
   },
   "outputs": [],
   "source": [
    "## TESTS FOR Q2, worth 5 points [Note: Includes A Hidden Test]\n",
    "assert answer\n"
   ]
  },
  {
   "cell_type": "markdown",
   "metadata": {
    "deletable": false,
    "editable": false,
    "nbgrader": {
     "cell_type": "markdown",
     "checksum": "e8d13ac08cd0d358998efff6b39a97fe",
     "grade": false,
     "grade_id": "cell-8b0dc1e2dd78b70d",
     "locked": true,
     "schema_version": 3,
     "solution": false
    }
   },
   "source": [
    "## Q3\n",
    "\n",
    "Write code below that\n",
    "1. Assigns the value \"2\" to `a`\n",
    "2. Assigns the value \"4\" to `b`\n",
    "3. Multiplies `a` times `b` and saves it as a variable, `c`."
   ]
  },
  {
   "cell_type": "code",
   "execution_count": null,
   "metadata": {
    "deletable": false,
    "nbgrader": {
     "cell_type": "code",
     "checksum": "76a4800e29466d648adef2a09b4f15d7",
     "grade": false,
     "grade_id": "cell-3d608ef3ac4ec904",
     "locked": false,
     "schema_version": 3,
     "solution": true
    }
   },
   "outputs": [],
   "source": [
    "# YOUR CODE HERE\n",
    "raise NotImplementedError()"
   ]
  },
  {
   "cell_type": "code",
   "execution_count": null,
   "metadata": {
    "deletable": false,
    "editable": false,
    "nbgrader": {
     "cell_type": "code",
     "checksum": "757aa4446a83df3e1fdcff5db1f04605",
     "grade": true,
     "grade_id": "cell-6de2e461718a7ec4",
     "locked": true,
     "points": 10,
     "schema_version": 3,
     "solution": false
    }
   },
   "outputs": [],
   "source": [
    "## TESTS FOR Q4, worth 10 points [Note: Hidden Tests.]\n",
    "assert a and b and c\n"
   ]
  },
  {
   "cell_type": "markdown",
   "metadata": {
    "deletable": false,
    "editable": false,
    "nbgrader": {
     "cell_type": "markdown",
     "checksum": "1b8abfc3aaa3fc9fe69e989b6485ab8b",
     "grade": false,
     "grade_id": "cell-57e97feda6f15620",
     "locked": true,
     "schema_version": 3,
     "solution": false
    }
   },
   "source": [
    "## Q4\n",
    "How are you feeling so far? Create a variable \"feeling\" and assign your response to it.\n",
    "\n",
    "- A) I've got this.\n",
    "- B) This isn't so bad!\n",
    "- C) I had a lot of trouble getting this to work.\n",
    "- D) I'm deeply, terribly confused."
   ]
  },
  {
   "cell_type": "code",
   "execution_count": null,
   "metadata": {
    "deletable": false,
    "nbgrader": {
     "cell_type": "code",
     "checksum": "c0a2776f06b3b44f6c75690f06fe5cdb",
     "grade": false,
     "grade_id": "cell-9e5ee257e7bd6c04",
     "locked": false,
     "schema_version": 3,
     "solution": true
    }
   },
   "outputs": [],
   "source": [
    "# YOUR CODE HERE\n",
    "raise NotImplementedError()"
   ]
  },
  {
   "cell_type": "code",
   "execution_count": null,
   "metadata": {
    "deletable": false,
    "editable": false,
    "nbgrader": {
     "cell_type": "code",
     "checksum": "089463db97edac05b51bc4665cb26496",
     "grade": true,
     "grade_id": "cell-6465227207217eba",
     "locked": true,
     "points": 5,
     "schema_version": 3,
     "solution": false
    }
   },
   "outputs": [],
   "source": [
    "## TESTS FOR Q5, worth 5 points\n",
    "assert feeling"
   ]
  }
 ],
 "metadata": {
  "kernelspec": {
   "display_name": "Python 3 (ipykernel)",
   "language": "python",
   "name": "python3"
  },
  "language_info": {
   "codemirror_mode": {
    "name": "ipython",
    "version": 3
   },
   "file_extension": ".py",
   "mimetype": "text/x-python",
   "name": "python",
   "nbconvert_exporter": "python",
   "pygments_lexer": "ipython3",
   "version": "3.9.5"
  }
 },
 "nbformat": 4,
 "nbformat_minor": 2
}
