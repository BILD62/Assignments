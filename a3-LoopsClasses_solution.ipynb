{
 "cells": [
  {
   "cell_type": "markdown",
   "id": "5954a586",
   "metadata": {
    "nbgrader": {
     "grade": false,
     "grade_id": "cell-8f23a851521dd686",
     "locked": true,
     "schema_version": 3,
     "solution": false,
     "task": false
    }
   },
   "source": [
    "# Assignment a3\n",
    "\n",
    "## Q1\n",
    "\n",
    "Write a `while` loop that takes a number and continues to subtract 7 from it, until `number` is **negative** (note that 0 is not negative). The loop should start with `number = 21` (provided for you) and include a `counter` which counts how many times the loop executes."
   ]
  },
  {
   "cell_type": "code",
   "execution_count": 1,
   "id": "564c7285",
   "metadata": {
    "nbgrader": {
     "grade": false,
     "grade_id": "cell-98a8ccfa9b2e1fce",
     "locked": false,
     "schema_version": 3,
     "solution": true,
     "task": false
    }
   },
   "outputs": [],
   "source": [
    "number = 21\n",
    "\n",
    "### BEGIN SOLUTION\n",
    "counter = 0\n",
    "\n",
    "while number >= 0:\n",
    "    number = number - 7\n",
    "    counter = counter + 1\n",
    "\n",
    "### END SOLUTION"
   ]
  },
  {
   "cell_type": "code",
   "execution_count": 2,
   "id": "dce71691",
   "metadata": {
    "nbgrader": {
     "grade": true,
     "grade_id": "cell-786293d03fb8406b",
     "locked": true,
     "points": 5,
     "schema_version": 3,
     "solution": false,
     "task": false
    }
   },
   "outputs": [],
   "source": [
    "# Tests for Q1, worth 10 points. Note: hidden tests.\n",
    "\n",
    "assert isinstance(number, int)\n",
    "assert isinstance(counter, int)\n",
    "\n",
    "### BEGIN HIDDEN TESTS\n",
    "assert number == -7\n",
    "### END HIDDEN TESTS"
   ]
  },
  {
   "cell_type": "code",
   "execution_count": null,
   "id": "ed382ea4",
   "metadata": {
    "nbgrader": {
     "grade": true,
     "grade_id": "cell-b194e3d47aa026f1",
     "locked": true,
     "points": 5,
     "schema_version": 3,
     "solution": false,
     "task": false
    }
   },
   "outputs": [],
   "source": [
    "# Second hidden test cell for Q1\n",
    "\n",
    "### BEGIN HIDDEN TESTS\n",
    "assert counter == 4\n",
    "### END HIDDEN TESTS"
   ]
  },
  {
   "cell_type": "markdown",
   "id": "70d51965",
   "metadata": {
    "nbgrader": {
     "grade": false,
     "grade_id": "cell-e18ae0c3c25492c8",
     "locked": true,
     "schema_version": 3,
     "solution": false,
     "task": false
    }
   },
   "source": [
    "## Q2\n",
    "In this question, we'll deepen our understanding of mutability in lists. \n",
    "\n",
    "1. Create a list of three animals (**bear, monkey, zebra**) and assign it to `zoo`.\n",
    "2. Assign `zoo` to `zoo_alias`.\n",
    "3. Change the first item in `zoo` to **tiger**.\n",
    "4. Change the third item in `zoo_alias` to **lion**.\n",
    "5. Use a membership operator to test whether **lion** is in `zoo`. Assign this as a boolean to `has_lions`. "
   ]
  },
  {
   "cell_type": "code",
   "execution_count": 10,
   "id": "97f937d7",
   "metadata": {
    "nbgrader": {
     "grade": false,
     "grade_id": "cell-ed5b1ad32cd07039",
     "locked": false,
     "schema_version": 3,
     "solution": true,
     "task": false
    }
   },
   "outputs": [
    {
     "name": "stdout",
     "output_type": "stream",
     "text": [
      "['tiger', 'monkey', 'lion']\n",
      "['tiger', 'monkey', 'lion']\n",
      "True\n"
     ]
    }
   ],
   "source": [
    "### BEGIN SOLUTION\n",
    "zoo = ['bear','monkey','zebra']\n",
    "zoo_alias = zoo\n",
    "zoo[0] = 'tiger'\n",
    "zoo_alias[2] = 'lion'\n",
    "has_lions = 'lion' in zoo\n",
    "print(zoo)\n",
    "print(zoo_alias)\n",
    "print(has_lions)\n",
    "### END SOLUTION"
   ]
  },
  {
   "cell_type": "code",
   "execution_count": 11,
   "id": "915adf47",
   "metadata": {
    "nbgrader": {
     "grade": true,
     "grade_id": "cell-8678b95de5e898f0",
     "locked": true,
     "points": 5,
     "schema_version": 3,
     "solution": false,
     "task": false
    }
   },
   "outputs": [],
   "source": [
    "# Tests for Q2, worth 10 points. Note: hidden tests.\n",
    "\n",
    "assert isinstance(zoo, list)\n",
    "assert isinstance(zoo_alias, list)\n",
    "assert isinstance(has_lions,bool)\n",
    "\n",
    "### BEGIN HIDDEN TESTS\n",
    "assert zoo == zoo_alias == ['tiger', 'monkey', 'lion'] # if list operations right\n",
    "### END HIDDEN TESTS"
   ]
  },
  {
   "cell_type": "code",
   "execution_count": null,
   "id": "8fab86a0",
   "metadata": {
    "nbgrader": {
     "grade": true,
     "grade_id": "cell-ced1b5006860c6b2",
     "locked": true,
     "points": 5,
     "schema_version": 3,
     "solution": false,
     "task": false
    }
   },
   "outputs": [],
   "source": [
    "# Second hidden test cell for Q2\n",
    "### BEGIN HIDDEN TESTS\n",
    "assert has_lions # if boolean right\n",
    "### END HIDDEN TESTS"
   ]
  },
  {
   "cell_type": "markdown",
   "id": "56a2cb65",
   "metadata": {},
   "source": [
    "## Q3\n",
    "### Zoo inventory\n",
    "\n",
    "Given the zoo composition below (be sure to run the cell below), write a code snippet that creates a dictionary containing each type of animal and how many there are. In other words, the keys in the dictionary should be the animals, and the values should be the animal count. Call the dictionary `zoo_counts`.\n",
    "\n",
    "**Hints**:\n",
    "* You can create an empty dictionary using empty brackets.\n",
    "* You can check if a dictionary already has a key using a membership operator *or* you can find unique values in a list by converting it to an array and using `np.unique()`."
   ]
  },
  {
   "cell_type": "code",
   "execution_count": 3,
   "id": "c18d4357",
   "metadata": {},
   "outputs": [],
   "source": [
    "# Run this cell to establish the zoo\n",
    "sandiego_zoo = ['tiger','monkey','lion','lion','bear','monkey','monkey','monkey','tiger','monkey','monkey']"
   ]
  },
  {
   "cell_type": "code",
   "execution_count": 13,
   "id": "58eeaf07",
   "metadata": {
    "nbgrader": {
     "grade": false,
     "grade_id": "cell-2e43c6efad974686",
     "locked": false,
     "schema_version": 3,
     "solution": true,
     "task": false
    }
   },
   "outputs": [
    {
     "name": "stdout",
     "output_type": "stream",
     "text": [
      "{'tiger': 2, 'monkey': 6, 'lion': 2, 'bear': 1}\n"
     ]
    }
   ],
   "source": [
    "### BEGIN SOLUTION\n",
    "zoo_counts = {} \n",
    "for animal in sandiego_zoo: \n",
    "    if animal in zoo_counts: \n",
    "        zoo_counts[animal] += 1\n",
    "    else:\n",
    "        zoo_counts[animal] = 1 \n",
    "\n",
    "print(zoo_counts)\n",
    "### END SOLUTION"
   ]
  },
  {
   "cell_type": "code",
   "execution_count": 18,
   "id": "91c758d6",
   "metadata": {
    "nbgrader": {
     "grade": true,
     "grade_id": "cell-06e0be1892515253",
     "locked": true,
     "points": 5,
     "schema_version": 3,
     "solution": false,
     "task": false
    }
   },
   "outputs": [],
   "source": [
    "# Tests for Q3, worth 10 points. Note: hidden tests.\n",
    "\n",
    "assert isinstance(zoo_counts, dict)\n",
    "\n",
    "### BEGIN HIDDEN TESTS\n",
    "assert list(zoo_counts.keys()) == ['tiger', 'monkey', 'lion', 'bear'] # If they at least get keys right\n",
    "### END HIDDEN TESTS"
   ]
  },
  {
   "cell_type": "code",
   "execution_count": 19,
   "id": "804d085c",
   "metadata": {
    "nbgrader": {
     "grade": true,
     "grade_id": "cell-ab2e051b05ab4142",
     "locked": true,
     "points": 5,
     "schema_version": 3,
     "solution": false,
     "task": false
    }
   },
   "outputs": [],
   "source": [
    "# Q3 test cell #2\n",
    "### BEGIN HIDDEN TESTS\n",
    "assert zoo_counts == {'tiger': 2, 'monkey': 6, 'lion': 2, 'bear': 1}\n",
    "### END HIDDEN TESTS"
   ]
  },
  {
   "cell_type": "markdown",
   "id": "0dac3563",
   "metadata": {
    "nbgrader": {
     "grade": false,
     "grade_id": "cell-91f8448d40499fbd",
     "locked": true,
     "schema_version": 3,
     "solution": false,
     "task": false
    }
   },
   "source": [
    "## Q4\n",
    "### Are we there yet?\n",
    "Using `input()` and a `while` loop, write a function called `backseat_banter` that checks whether the car is there yet. If the `response` is yes (**in ANY form of capitalization**, e.g. YES, yes, Yes), exit the function and print **We are finally there!**. If the answer is anything but **Yes**, ask again."
   ]
  },
  {
   "cell_type": "code",
   "execution_count": 24,
   "id": "7c30ef65",
   "metadata": {
    "nbgrader": {
     "grade": false,
     "grade_id": "cell-dd3585915c7dd609",
     "locked": false,
     "schema_version": 3,
     "solution": true,
     "task": false
    }
   },
   "outputs": [
    {
     "name": "stdout",
     "output_type": "stream",
     "text": [
      "Are we there yet? yes\n",
      "We are finally there!\n"
     ]
    }
   ],
   "source": [
    "### BEGIN SOLUTION\n",
    "response = input('Are we there yet? ')\n",
    "\n",
    "while response.lower() != 'yes':\n",
    "    response = input('Are we there yet?')\n",
    "    \n",
    "print('We are finally there!')\n",
    "### END SOLUTION"
   ]
  },
  {
   "cell_type": "code",
   "execution_count": 26,
   "id": "af65fa91",
   "metadata": {
    "nbgrader": {
     "grade": true,
     "grade_id": "cell-9b571fde05195eb0",
     "locked": false,
     "points": 15,
     "schema_version": 3,
     "solution": true,
     "task": false
    }
   },
   "outputs": [],
   "source": [
    "# Tests for Q4 (15 points). Note: Manually graded. The only check you see here is that you have a variable called response\n",
    "assert response"
   ]
  },
  {
   "cell_type": "markdown",
   "id": "648299e3",
   "metadata": {
    "nbgrader": {
     "grade": false,
     "grade_id": "cell-031f24a476521235",
     "locked": true,
     "schema_version": 3,
     "solution": false,
     "task": false
    }
   },
   "source": [
    "## Q5a\n",
    "\n",
    "### Create a burrito class\n",
    "\n",
    "Create a class called Burrito. This burrito should have:\n",
    "* An attribute (`is_california`) that is a **boolean** that indicates if the burrito is a california burrito (in other words, if it has **fries** in it!).\n",
    "* An instance-specific attribute, (`contents`) that is a list of contents in the burrito.\n",
    "* A method, (`add_fries`). If there were not already fries in the contents list, this method should add **fries** to the list of `contents` *and* update `is_california` to be true."
   ]
  },
  {
   "cell_type": "code",
   "execution_count": 71,
   "id": "b9e46254",
   "metadata": {
    "nbgrader": {
     "grade": false,
     "grade_id": "cell-5a64823b63dd8ffc",
     "locked": false,
     "schema_version": 3,
     "solution": true,
     "task": false
    }
   },
   "outputs": [],
   "source": [
    "### BEGIN SOLUTION\n",
    "class Burrito: \n",
    "    def __init__(self,contents):\n",
    "        self.contents = contents\n",
    "        if 'fries' in contents:\n",
    "            self.is_california = True\n",
    "        else:\n",
    "            self.is_california = False\n",
    "\n",
    "    def add_fries(self):\n",
    "        if 'fries'not in self.contents:\n",
    "            self.contents.append('fries')\n",
    "            self.is_california = True\n",
    "### END SOLUTION"
   ]
  },
  {
   "cell_type": "code",
   "execution_count": 60,
   "id": "c8903b18",
   "metadata": {
    "nbgrader": {
     "grade": true,
     "grade_id": "cell-acdd925ced2eeb3b",
     "locked": true,
     "points": 5,
     "schema_version": 3,
     "solution": false,
     "task": false
    }
   },
   "outputs": [],
   "source": [
    "# Tests for Q5, worth 10 points.\n",
    "import inspect\n",
    "assert inspect.isclass(Burrito) #Checks if burrito is a class"
   ]
  },
  {
   "cell_type": "code",
   "execution_count": null,
   "id": "e98754f9",
   "metadata": {
    "nbgrader": {
     "grade": true,
     "grade_id": "cell-7367e30633361953",
     "locked": true,
     "points": 5,
     "schema_version": 3,
     "solution": false,
     "task": false
    }
   },
   "outputs": [],
   "source": [
    "# Second test cell for Q5\n",
    "assert inspect.isfunction(Burrito.add_fries) #Checks if add_fries is a method"
   ]
  },
  {
   "cell_type": "markdown",
   "id": "bbde1452",
   "metadata": {
    "nbgrader": {
     "grade": false,
     "grade_id": "cell-e998efbffb529163",
     "locked": true,
     "schema_version": 3,
     "solution": false,
     "task": false
    }
   },
   "source": [
    "## Q5b\n",
    "### Create an instance of your burrito class\n",
    "\n",
    "Below, create an instance of your burrito class called `favorite_burrito` with your three favorite ingredients (anything will work!)"
   ]
  },
  {
   "cell_type": "code",
   "execution_count": 74,
   "id": "07331cdf",
   "metadata": {
    "nbgrader": {
     "grade": false,
     "grade_id": "cell-026003a769ec5776",
     "locked": false,
     "schema_version": 3,
     "solution": true,
     "task": false
    }
   },
   "outputs": [],
   "source": [
    "### BEGIN SOLUTION\n",
    "favorite_burrito = Burrito(['steak','avocado','beans'])\n",
    "### END SOLUTION"
   ]
  },
  {
   "cell_type": "code",
   "execution_count": 75,
   "id": "bfebf8ef",
   "metadata": {
    "nbgrader": {
     "grade": true,
     "grade_id": "cell-fb0ec96a89994593",
     "locked": true,
     "points": 5,
     "schema_version": 3,
     "solution": false,
     "task": false
    }
   },
   "outputs": [],
   "source": [
    "# Tests for Q5b, worth 10 points. Note: hidden tests.\n",
    "assert len(favorite_burrito.contents) == 3\n",
    "\n",
    "### BEGIN HIDDEN TESTS\n",
    "these_contents = favorite_burrito.contents\n",
    "### END HIDDEN TESTS"
   ]
  },
  {
   "cell_type": "code",
   "execution_count": null,
   "id": "e40a7eb2",
   "metadata": {
    "nbgrader": {
     "grade": true,
     "grade_id": "cell-a7773ff181fa8041",
     "locked": true,
     "points": 5,
     "schema_version": 3,
     "solution": false,
     "task": false
    }
   },
   "outputs": [],
   "source": [
    "# Q5b test cell #2\n",
    "### BEGIN HIDDEN TESTS\n",
    "if 'fries' in these_contents:\n",
    "    assert favorite_burrito.is_california == True\n",
    "else:\n",
    "    assert favorite_burrito.is_california == False\n",
    "### END HIDDEN TESTS"
   ]
  },
  {
   "cell_type": "markdown",
   "id": "f04ffb6f",
   "metadata": {
    "nbgrader": {
     "grade": false,
     "grade_id": "cell-cc7c0e3293b98f19",
     "locked": true,
     "schema_version": 3,
     "solution": false,
     "task": false
    }
   },
   "source": [
    "## Q5c\n",
    "### Test `add_fries` method.\n",
    "Test your add fries method below."
   ]
  },
  {
   "cell_type": "code",
   "execution_count": 76,
   "id": "d5127057",
   "metadata": {
    "nbgrader": {
     "grade": false,
     "grade_id": "cell-78cefe7646d503ad",
     "locked": false,
     "schema_version": 3,
     "solution": true,
     "task": false
    }
   },
   "outputs": [],
   "source": [
    "### BEGIN SOLUTION\n",
    "favorite_burrito.add_fries()\n",
    "### END SOLUTION"
   ]
  },
  {
   "cell_type": "code",
   "execution_count": 77,
   "id": "712445ea",
   "metadata": {
    "nbgrader": {
     "grade": true,
     "grade_id": "cell-1aa9b59a88a6d2b2",
     "locked": true,
     "points": 10,
     "schema_version": 3,
     "solution": false,
     "task": false
    }
   },
   "outputs": [],
   "source": [
    "# Tests for Q5c, worth 10 points.\n",
    "assert 'fries' in favorite_burrito.contents\n",
    "assert favorite_burrito.is_california == True "
   ]
  }
 ],
 "metadata": {
  "celltoolbar": "Create Assignment",
  "kernelspec": {
   "display_name": "Python 3 (ipykernel)",
   "language": "python",
   "name": "python3"
  },
  "language_info": {
   "codemirror_mode": {
    "name": "ipython",
    "version": 3
   },
   "file_extension": ".py",
   "mimetype": "text/x-python",
   "name": "python",
   "nbconvert_exporter": "python",
   "pygments_lexer": "ipython3",
   "version": "3.9.5"
  }
 },
 "nbformat": 4,
 "nbformat_minor": 5
}
