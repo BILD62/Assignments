{
 "cells": [
  {
   "cell_type": "markdown",
   "id": "e439ffc1",
   "metadata": {
    "deletable": false,
    "editable": false,
    "nbgrader": {
     "cell_type": "markdown",
     "checksum": "8d2b3caf355c3f6b7837d7e87e9c3274",
     "grade": false,
     "grade_id": "cell-a6c5f3f82f92eb96",
     "locked": true,
     "schema_version": 3,
     "solution": false
    }
   },
   "source": [
    "# Assignment 1: Fixing Functions\n",
    "\n",
    "**PLEASE DO NOT CHANGE THE NAME OF THIS FILE.**\n",
    "\n",
    "**PLEASE DO NOT COPY & PASTE OR DELETE CELLS INCLUDED IN THE ASSIGNMENT.**\n",
    "\n",
    "\n",
    "## How to complete assignments\n",
    "\n",
    "Whenever you see:\n",
    "\n",
    "```\n",
    "# YOUR CODE HERE\n",
    "raise NotImplementedError()\n",
    "```\n",
    "\n",
    "You need to **replace (in other words, delete) these lines of code with code that answers the questions** and meets the specified criteria. Make sure you remove the 'raise' line when you do this (or your notebook will raise an error, regardless of any other code, and thus fail the grading tests).\n",
    "\n",
    "You should write the answer to the questions in those cells (the ones with `# YOUR CODE HERE`), but you can also add extra cells to explore / investigate things if you need / want to. \n",
    "\n",
    "Any cell with `assert` statements in it is a test cell. You should not try to change or delete these cells. Note that there might be more than one assert that tests a particular question. \n",
    "\n",
    "If a test does fail, reading the error that is printed out should let you know which test failed, which may be useful for fixing it.\n",
    "\n",
    "Note that some cells, including the test cells, may be read only, which means they won't let you edit them. If you cannot edit a cell - that is normal, and you shouldn't need to edit that cell.\n",
    "\n",
    "### Tips & Tricks\n",
    "\n",
    "The following are a couple tips & tricks that may help you if you get stuck on anything.\n",
    "\n",
    "**Printing Variables**\n",
    "\n",
    "You can (and should) print and check variables as you go. This allows you to check what values they hold, and fix things if anything unexpected happens.\n",
    "\n",
    "**Restarting the Kernel**\n",
    "\n",
    "* If you run cells out of order, you can end up overwriting things in your namespace.\n",
    "* If things seem to go weird, a good first step is to restart the kernel, which you can do from the kernel menu above.\n",
    "* Even if everything seems to be working, it's a nice check to 'Restart & Run All', to make sure everything runs properly in order.\n"
   ]
  },
  {
   "cell_type": "markdown",
   "id": "da47f6cd",
   "metadata": {
    "deletable": false,
    "editable": false,
    "nbgrader": {
     "cell_type": "markdown",
     "checksum": "fba4889a3de9cfd57a2f83e4cddab3c5",
     "grade": false,
     "grade_id": "cell-84bb6f836c3e0b74",
     "locked": true,
     "schema_version": 3,
     "solution": false
    }
   },
   "source": [
    "# Part I: Formative TV shows\n",
    "\n",
    "You'd like to be able to predict someone's favorite TV show based on their age. You have a general idea of what TV shows are popular for each age range: \n",
    "\n",
    "| Age   | Show                   |\n",
    "|-------|------------------------|\n",
    "| 30–39 | Friends                |\n",
    "| 20–29 | The Office             |\n",
    "| 10–19 | Pretty Little Liars    |\n",
    "| 0–9   | Bluey                  |\n",
    "\n",
    "## Step 1\n",
    "In order to accomplish this, you'll first need to use the `input()` function. We haven't seen this in class, so first, let's try it out. Use the input function to ask someone \"How old are you?\" and assign it to `age`. If you're having trouble figure out how input works, ask the internet and/or chatGPT!"
   ]
  },
  {
   "cell_type": "code",
   "execution_count": null,
   "id": "fa10e67c",
   "metadata": {
    "deletable": false,
    "nbgrader": {
     "cell_type": "code",
     "checksum": "60297e41bc39bddf937029c642b12f1c",
     "grade": true,
     "grade_id": "cell-f1df5171fb9538d4",
     "locked": false,
     "points": 5,
     "schema_version": 3,
     "solution": true
    }
   },
   "outputs": [],
   "source": [
    "# your code here\n",
    "raise NotImplementedError"
   ]
  },
  {
   "cell_type": "markdown",
   "id": "06ba2a14",
   "metadata": {},
   "source": [
    "## Step 2\n",
    "By default, if you give it a whole number, the `input` function doesn't generate a numerical object, it generates a string. In the cell below, cast age into a numerical data type that enables decimal points. Call this variable `num_age`."
   ]
  },
  {
   "cell_type": "code",
   "execution_count": null,
   "id": "2b8a64c6",
   "metadata": {
    "deletable": false,
    "nbgrader": {
     "cell_type": "code",
     "checksum": "d5ca7b006c09c4df2ee3f86ea3827ea7",
     "grade": false,
     "grade_id": "cell-672201d4f50cf61c",
     "locked": false,
     "schema_version": 3,
     "solution": true
    }
   },
   "outputs": [],
   "source": [
    "# your code here\n",
    "raise NotImplementedError"
   ]
  },
  {
   "cell_type": "code",
   "execution_count": null,
   "id": "3bd38f03",
   "metadata": {
    "deletable": false,
    "editable": false,
    "nbgrader": {
     "cell_type": "code",
     "checksum": "37e1b17a1b140857c81bf92f0627fbad",
     "grade": true,
     "grade_id": "cell-fbe454aacaa8f69e",
     "locked": true,
     "points": 5,
     "schema_version": 3,
     "solution": false
    }
   },
   "outputs": [],
   "source": [
    "## TESTS FOR Q2, worth 5 points\n",
    "assert num_age\n",
    "assert isinstance(num_age,float)"
   ]
  },
  {
   "cell_type": "markdown",
   "id": "af21358a",
   "metadata": {},
   "source": [
    "## Step 3\n",
    "Next, we need to create a sequence of if/else statements to determine whether someone is in a given age range. Create a **list** called `solutions` that contains the letters of the following combinations of if and elif that (with the right conditional statements) *could* work to address this task. Each element in your list should be a string containing one letter. For example, if you thought C and D were the only possible solutions, you would write `solutions = ['C','D']`.\n",
    "\n",
    "- A. Four `if` statements (no `elif`)\n",
    "- B. Three `if` statements followed by one `elif` statement\n",
    "- C. One `if` statement, two `elif` statements\n",
    "- D. Four `elif` statements (no `if`)"
   ]
  },
  {
   "cell_type": "code",
   "execution_count": null,
   "id": "2c83713d",
   "metadata": {
    "deletable": false,
    "nbgrader": {
     "cell_type": "code",
     "checksum": "3499b26f8750ae58783210b7c3734faf",
     "grade": true,
     "grade_id": "cell-cb824717813d567d",
     "locked": false,
     "points": 0,
     "schema_version": 3,
     "solution": true
    }
   },
   "outputs": [],
   "source": [
    "# your code here\n",
    "raise NotImplementedError"
   ]
  },
  {
   "cell_type": "code",
   "execution_count": null,
   "id": "d39957c7",
   "metadata": {
    "deletable": false,
    "editable": false,
    "nbgrader": {
     "cell_type": "code",
     "checksum": "e48eacff2b8fdc6de7b58cb196dcdcc2",
     "grade": true,
     "grade_id": "cell-f6a143df6105fbb7",
     "locked": true,
     "points": 2.5,
     "schema_version": 3,
     "solution": false
    }
   },
   "outputs": [],
   "source": [
    "## TESTS FOR Q2, worth 10 points [Note: Includes A Hidden Test]\n",
    "assert solutions\n"
   ]
  },
  {
   "cell_type": "code",
   "execution_count": null,
   "id": "0fc58a9d",
   "metadata": {
    "deletable": false,
    "editable": false,
    "nbgrader": {
     "cell_type": "code",
     "checksum": "834fd426ce8cc51869a2307e7d947bd7",
     "grade": true,
     "grade_id": "cell-295095a69df0d7b6",
     "locked": true,
     "points": 5,
     "schema_version": 3,
     "solution": false
    }
   },
   "outputs": [],
   "source": [
    "## HIDDEN TESTS"
   ]
  },
  {
   "cell_type": "markdown",
   "id": "734e40e6",
   "metadata": {
    "deletable": false,
    "editable": false,
    "nbgrader": {
     "cell_type": "markdown",
     "checksum": "be8fe9fb58b31c322c360c26f5465d8d",
     "grade": false,
     "grade_id": "cell-725f959e5db2c8d5",
     "locked": true,
     "schema_version": 3,
     "solution": false
    }
   },
   "source": [
    "## Step 4\n",
    "Now that we've determined how to ask someone their age and determine whether it is in a particular range, we can combine this into a function called `predict_show()`. An incorrect version of this function is below. There are **three** errors. Put the complete correct function in your response. The correct function should do two things: ask someone their age and print their favorite show based on the table above.\n",
    "\n",
    "```\n",
    "age = float(input(\"How old are you?\"))\n",
    "\n",
    "def predict_show(age):\n",
    "    if age > 30 and age < 40:\n",
    "        show = 'Friends'\n",
    "    elif age >= 20 and < 30:\n",
    "        show = 'The Office'\n",
    "    elif age >= 10 or age <= 19:\n",
    "        show = 'Pretty Little Liars'\n",
    "    elif age < 10:\n",
    "        show = 'Bluey'\n",
    "        \n",
    "    print('Your favorite show is',show)\n",
    "    \n",
    "    return show\n",
    " \n",
    "```"
   ]
  },
  {
   "cell_type": "code",
   "execution_count": null,
   "id": "1f55c577",
   "metadata": {
    "deletable": false,
    "nbgrader": {
     "cell_type": "code",
     "checksum": "ef7bcc4ba0a41186314b9167174ffecf",
     "grade": false,
     "grade_id": "cell-9e78e70651eb06e0",
     "locked": false,
     "schema_version": 3,
     "solution": true
    }
   },
   "outputs": [],
   "source": [
    "# your code here\n",
    "raise NotImplementedError"
   ]
  },
  {
   "cell_type": "code",
   "execution_count": null,
   "id": "2c03e39a",
   "metadata": {
    "deletable": false,
    "editable": false,
    "nbgrader": {
     "cell_type": "code",
     "checksum": "311292674e740b77ac6b948c74b31484",
     "grade": true,
     "grade_id": "cell-fda93d52cfb41b7e",
     "locked": true,
     "points": 5,
     "schema_version": 3,
     "solution": false
    }
   },
   "outputs": [],
   "source": [
    "## TESTS FOR Q3, worth 15 points [Note: Includes hidden tests]\n",
    "assert callable(predict_show)"
   ]
  },
  {
   "cell_type": "code",
   "execution_count": null,
   "id": "461a6aa4",
   "metadata": {
    "deletable": false,
    "editable": false,
    "nbgrader": {
     "cell_type": "code",
     "checksum": "1f8d925adad5e3ce2b4717cbee62e347",
     "grade": true,
     "grade_id": "cell-5c81dea147f47859",
     "locked": true,
     "points": 5,
     "schema_version": 3,
     "solution": false
    }
   },
   "outputs": [],
   "source": []
  },
  {
   "cell_type": "code",
   "execution_count": null,
   "id": "da3114d5",
   "metadata": {
    "deletable": false,
    "editable": false,
    "nbgrader": {
     "cell_type": "code",
     "checksum": "702c7aace32cf2c063a631595d641ad4",
     "grade": true,
     "grade_id": "cell-9cacf1d210479179",
     "locked": true,
     "points": 5,
     "schema_version": 3,
     "solution": false
    }
   },
   "outputs": [],
   "source": [
    "## HIDDEN TESTS"
   ]
  },
  {
   "cell_type": "markdown",
   "id": "edc280e4",
   "metadata": {
    "deletable": false,
    "editable": false,
    "nbgrader": {
     "cell_type": "markdown",
     "checksum": "9c2a65ade08faf49803e5c3c7d0831f9",
     "grade": false,
     "grade_id": "cell-dd4411787010658c",
     "locked": true,
     "schema_version": 3,
     "solution": false
    }
   },
   "source": [
    "# Part II: Jumbled potter\n",
    "\n",
    "For Part II, the following lists are provided for you. These lists contain the stats for various Harry Potter characters, where index 0 is Harry's statistics, index 1 is Hermione's, etc. \n",
    "\n",
    "First, make sure you run the following cell to assign these lists."
   ]
  },
  {
   "cell_type": "code",
   "execution_count": null,
   "id": "64cca5d0",
   "metadata": {},
   "outputs": [],
   "source": [
    "characters = ['Harry','Hermione','Ron','Neville']\n",
    "height = [180, 167,190,172]\n",
    "fears = ['dementor','failure','spider','snape']"
   ]
  },
  {
   "cell_type": "markdown",
   "id": "17a5dc3b",
   "metadata": {},
   "source": [
    "## Step 1\n",
    "We, like the rest of Hogwarts, would like to leave poor Neville behind. Either using slicing or a list method, create lists of the **same name** that do *not* include Neville."
   ]
  },
  {
   "cell_type": "code",
   "execution_count": null,
   "id": "d6419d11",
   "metadata": {
    "deletable": false,
    "nbgrader": {
     "cell_type": "code",
     "checksum": "a36cf7740cd76758a893384cc8c3d6ef",
     "grade": false,
     "grade_id": "cell-df713955a1fe41c6",
     "locked": false,
     "schema_version": 3,
     "solution": true
    }
   },
   "outputs": [],
   "source": [
    "# your code here\n",
    "raise NotImplementedError"
   ]
  },
  {
   "cell_type": "code",
   "execution_count": null,
   "id": "4e3bb7ff",
   "metadata": {
    "deletable": false,
    "editable": false,
    "nbgrader": {
     "cell_type": "code",
     "checksum": "218dffc851ca153d9ccdf4e8848e22c7",
     "grade": true,
     "grade_id": "cell-fa359912332aa55c",
     "locked": true,
     "points": 5,
     "schema_version": 3,
     "solution": false
    }
   },
   "outputs": [],
   "source": [
    "## Worth 5 points [Note: includes hidden tests]\n",
    "assert isinstance(characters,list)\n",
    "assert isinstance(height,list)\n",
    "assert isinstance(fears,list)\n"
   ]
  },
  {
   "cell_type": "markdown",
   "id": "fb4dd72a",
   "metadata": {},
   "source": [
    "## Step 2\n",
    "\n",
    "Next, store the character names and fears into a dictionary called `potter_stats` where each **key** is a characters name and the **value** is their fear. You can do this manually or by using the `zip()` method."
   ]
  },
  {
   "cell_type": "code",
   "execution_count": null,
   "id": "0249845f",
   "metadata": {
    "deletable": false,
    "nbgrader": {
     "cell_type": "code",
     "checksum": "eb970f36b222a1f80796ddb92f5d9a4f",
     "grade": false,
     "grade_id": "cell-1e532913b17439f9",
     "locked": false,
     "schema_version": 3,
     "solution": true
    }
   },
   "outputs": [],
   "source": [
    "# your code here\n",
    "raise NotImplementedError"
   ]
  },
  {
   "cell_type": "code",
   "execution_count": null,
   "id": "37b176f2",
   "metadata": {
    "deletable": false,
    "editable": false,
    "nbgrader": {
     "cell_type": "code",
     "checksum": "819adbbb9060ef7c292ab30ec60c3c0a",
     "grade": true,
     "grade_id": "cell-eb74718e856a7b1a",
     "locked": true,
     "points": 2.5,
     "schema_version": 3,
     "solution": false
    }
   },
   "outputs": [],
   "source": [
    "## Worth 5 points\n",
    "assert isinstance(potter_stats,dict)"
   ]
  },
  {
   "cell_type": "code",
   "execution_count": null,
   "id": "3acca2d3",
   "metadata": {
    "deletable": false,
    "editable": false,
    "nbgrader": {
     "cell_type": "code",
     "checksum": "1ca5089afa089df7238bc50e533096fb",
     "grade": true,
     "grade_id": "cell-809fb6b53997f34d",
     "locked": true,
     "points": 2.5,
     "schema_version": 3,
     "solution": false
    }
   },
   "outputs": [],
   "source": [
    "## HIDDEN TESTS"
   ]
  },
  {
   "cell_type": "markdown",
   "id": "eb39f32b",
   "metadata": {},
   "source": [
    "# Part III: Building an mRNA sequence\n",
    "\n",
    "In this final part, we'll build an mRNA sequence from scratch. We need the entire sequence to start with our start codon, `AUG`.  After, we'll create a string of nucleotides for **three** Alanine codons (`GCU`) followed by a [stop codon](https://www.genome.gov/genetics-glossary/Stop-Codon), `UAA`.\n",
    "\n",
    "(For a refresher on how this works, see [this Khan Academy article](https://www.khanacademy.org/science/ap-biology/gene-expression-and-regulation/translation/a/the-genetic-code-discovery-and-properties).)\n",
    "\n",
    "Build this sequence by following these steps:\n",
    "1. Create the triple Alanine sequence by multiplying `GCU` time three. Assign this to a variable called `alanine_3`.\n",
    "2. Build the entire sequence by adding the start codon, `alanine_3`, and your stop codon. Assign this to a variable called `mRNA`."
   ]
  },
  {
   "cell_type": "code",
   "execution_count": null,
   "id": "cdd849e6",
   "metadata": {
    "deletable": false,
    "nbgrader": {
     "cell_type": "code",
     "checksum": "8160f9f45f56b36c9e9d9cc5bd331994",
     "grade": false,
     "grade_id": "cell-1b4cb38ac357f6ca",
     "locked": false,
     "schema_version": 3,
     "solution": true
    }
   },
   "outputs": [],
   "source": [
    "# your code here\n",
    "raise NotImplementedError"
   ]
  },
  {
   "cell_type": "code",
   "execution_count": null,
   "id": "88d996b7",
   "metadata": {
    "deletable": false,
    "editable": false,
    "nbgrader": {
     "cell_type": "code",
     "checksum": "643bf65443077482648b19fa05c61717",
     "grade": true,
     "grade_id": "cell-f81c66c425da22df",
     "locked": true,
     "points": 2.5,
     "schema_version": 3,
     "solution": false
    }
   },
   "outputs": [],
   "source": [
    "# Worth 7.5 points total\n",
    "assert isinstance(alanine_3, str)\n",
    "assert isinstance(mRNA, str)"
   ]
  },
  {
   "cell_type": "code",
   "execution_count": null,
   "id": "e4f17a31",
   "metadata": {
    "deletable": false,
    "editable": false,
    "nbgrader": {
     "cell_type": "code",
     "checksum": "dabc9c1580a5fadc5b75083c70bf00e9",
     "grade": true,
     "grade_id": "cell-5e8378bb5be6117b",
     "locked": true,
     "points": 5,
     "schema_version": 3,
     "solution": false
    }
   },
   "outputs": [],
   "source": [
    "## HIDDEN TESTS"
   ]
  }
 ],
 "metadata": {
  "kernelspec": {
   "display_name": "Python 3",
   "language": "python",
   "name": "python3"
  },
  "language_info": {
   "codemirror_mode": {
    "name": "ipython",
    "version": 3
   },
   "file_extension": ".py",
   "mimetype": "text/x-python",
   "name": "python",
   "nbconvert_exporter": "python",
   "pygments_lexer": "ipython3",
   "version": "3.7.3"
  }
 },
 "nbformat": 4,
 "nbformat_minor": 5
}
