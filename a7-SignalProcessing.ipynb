{
 "cells": [
  {
   "cell_type": "markdown",
   "id": "9b73a90f",
   "metadata": {
    "deletable": false,
    "editable": false,
    "nbgrader": {
     "cell_type": "markdown",
     "checksum": "dab5c14337bbd18ec16963ec4dcc8f10",
     "grade": false,
     "grade_id": "cell-fc52fc87b7a8a9b3",
     "locked": true,
     "schema_version": 3,
     "solution": false
    }
   },
   "source": [
    "# Signal Processing\n",
    "\n",
    "In this assignment, you'll design a data workflow to detect peaks in a biological signal. Along the way, you'll write two functions and include these in a custom \"spikes\" module.\n",
    "\n",
    "### About Spike Sorting\n",
    "The goal here is to take a continuous recording of voltage from a brain and pick out single action potentials (*spikes*) so that we can identify which neurons fired which spikes. You can see this in the bottom panel of the image below (from <a href=\"https://www.sciencedirect.com/science/article/pii/S0361923015000684\">this paper</a>), where a threshold (red line) has been used to identify where the signal crosses a certain voltage. Then, future steps can be taken (not discussed in this assignment) to determine whether spikes come from the same neuron or different neurons. In this assignment, you'll do the first few steps of this process: cleaning and thresholding the data to detect spikes.\n",
    "\n",
    "![](https://ars.els-cdn.com/content/image/1-s2.0-S0361923015000684-gr1.jpg)\n",
    "\n",
    "\n",
    "<hr>"
   ]
  },
  {
   "cell_type": "markdown",
   "id": "c4432ccc",
   "metadata": {
    "deletable": false,
    "editable": false,
    "nbgrader": {
     "cell_type": "markdown",
     "checksum": "457489a1d1adbfb14c0923f23ed9bbbe",
     "grade": false,
     "grade_id": "cell-ce0e9a3040a746b9",
     "locked": true,
     "schema_version": 3,
     "solution": false
    }
   },
   "source": [
    "### Step 1. Import data\n",
    "\n",
    "The data is in your assignment folder as `recording.txt`. This file contains a <mark>**one-dimensional recording of voltage (mV) over time. In other words, each entry in the file is a voltage measured at some time point.**</mark>\n",
    "\n",
    "Import `recording.txt` as a numpy array below, assigned to a variable `recording`. Be sure to import whatever packages you need first."
   ]
  },
  {
   "cell_type": "code",
   "execution_count": null,
   "id": "91d58730",
   "metadata": {
    "deletable": false,
    "nbgrader": {
     "cell_type": "code",
     "checksum": "02cfc8fba939c627bcd0fd0713509cdc",
     "grade": false,
     "grade_id": "cell-e29e30b1fac9a023",
     "locked": false,
     "schema_version": 3,
     "solution": true
    }
   },
   "outputs": [],
   "source": [
    "# YOUR CODE HERE\n",
    "raise NotImplementedError()"
   ]
  },
  {
   "cell_type": "code",
   "execution_count": null,
   "id": "767cde72",
   "metadata": {
    "deletable": false,
    "editable": false,
    "nbgrader": {
     "cell_type": "code",
     "checksum": "b9aff346778ffd8da92e59ac0d2d9240",
     "grade": true,
     "grade_id": "cell-aad92426cc7a8f1c",
     "locked": true,
     "points": 2,
     "schema_version": 3,
     "solution": false
    }
   },
   "outputs": [],
   "source": [
    "# Tests for Q1, worth 2 points.\n",
    "assert isinstance(recording, np.ndarray)"
   ]
  },
  {
   "cell_type": "code",
   "execution_count": null,
   "id": "966033dd",
   "metadata": {
    "deletable": false,
    "editable": false,
    "nbgrader": {
     "cell_type": "code",
     "checksum": "aa8be85de939cd2f4595e209a824d8f8",
     "grade": true,
     "grade_id": "cell-abbf7bf587d50855",
     "locked": true,
     "points": 2,
     "schema_version": 3,
     "solution": false,
     "task": false
    }
   },
   "outputs": [],
   "source": [
    "# Hidden tests for Q1, , worth 2 points."
   ]
  },
  {
   "cell_type": "markdown",
   "id": "361f994a",
   "metadata": {},
   "source": [
    "### Step 2. Check to see if the data needs to be cleaned.\n",
    "Our equipment has one known failure -- if it misses a sample, it assigns the sample the value -1000 and then continues recording. So, if our data failed the check above, it probably is due to this known issue.\n",
    "\n",
    "It's tough to know how to fix such outliers (ideally this wouldn't happen!) but one method that isn't *too* egregious is to fill in these outliers with the median value in the dataset. \n",
    "\n",
    "To clean our data, write a function `interpolate_outliers` that does the following:\n",
    "\n",
    "1. Takes in a time series (e.g., the recording we loaded above) as an input\n",
    "2. Determines the median of the data and assigns this to `recording_median`\n",
    "3. Determines whether there are any values in the recording that less than -999\n",
    "4. If it finds those values, it reassigns them to the median of the data.\n",
    "5. Returns how many values were replaced in an integer (`num_replaced`), a list that contains the indices of those values replaced (`indices_replaced`), and the new recording (`recording_clean`).\n",
    "\n",
    "#### Hints:\n",
    "- You can use `enumerate` if you want to loop through something and obtain both the value and index while looping.\n",
    "- You can return multiple values from a function by using `return a,b,c` and then `a,b,c = function(x)`.\n",
    "- <mark>**You may want to modify a copy of the data, so that the original data is still stored in a variable. To make a copy of an array, use the syntax `array.copy()`**</mark>"
   ]
  },
  {
   "cell_type": "code",
   "execution_count": null,
   "id": "c4d2f6f1",
   "metadata": {
    "deletable": false,
    "nbgrader": {
     "cell_type": "code",
     "checksum": "4cb4820360b044c11926dd5b7cf94334",
     "grade": false,
     "grade_id": "cell-692391d622703879",
     "locked": false,
     "schema_version": 3,
     "solution": true
    }
   },
   "outputs": [],
   "source": [
    "# YOUR CODE HERE\n",
    "raise NotImplementedError()"
   ]
  },
  {
   "cell_type": "code",
   "execution_count": null,
   "id": "ea4bddd4",
   "metadata": {
    "deletable": false,
    "editable": false,
    "nbgrader": {
     "cell_type": "code",
     "checksum": "eaec41aee9f3b62efa109426fdf81fa4",
     "grade": true,
     "grade_id": "cell-0c25b86c484d968a",
     "locked": true,
     "points": 2,
     "schema_version": 3,
     "solution": false
    }
   },
   "outputs": [],
   "source": [
    "# Tests for Step 2, worth 2 points\n",
    "import inspect\n",
    "assert inspect.isfunction(interpolate_outliers)"
   ]
  },
  {
   "cell_type": "code",
   "execution_count": null,
   "id": "9556954b",
   "metadata": {
    "deletable": false,
    "editable": false,
    "nbgrader": {
     "cell_type": "code",
     "checksum": "5e4a1b3e31189b111d0aeb4d75e9b634",
     "grade": true,
     "grade_id": "cell-cb9b68de4d2e5228",
     "locked": true,
     "points": 5,
     "schema_version": 3,
     "solution": false
    }
   },
   "outputs": [],
   "source": [
    "# Hidden tests for Step 2, worth 5 points"
   ]
  },
  {
   "cell_type": "markdown",
   "id": "4a687789",
   "metadata": {
    "deletable": false,
    "editable": false,
    "nbgrader": {
     "cell_type": "markdown",
     "checksum": "79ef456aeea3a80fde6e3438a51f087a",
     "grade": false,
     "grade_id": "cell-3f332c2059ad0d24",
     "locked": true,
     "schema_version": 3,
     "solution": false
    }
   },
   "source": [
    "### Step 3: Generate time stamps\n",
    "This data was collected at 24000 Hz and is 43 seconds long. <mark>**In other words, 24000 samples were measured per second, and one sample was measured every 1/24000 seconds.**</mark>\n",
    "    \n",
    "    \n",
    "Using `np.arange()`:\n",
    "1. Generate a vector of timestamps with that many samples with the correct spacing between samples. Assign this vector to `timestamps`.\n",
    "2. Generate a vector of sample ids (`sample_ids`) that is the same length of recordings, with a step of 1.\n",
    "\n",
    "<mark>**Hint**: Look back at our signal processing notebook for how to do this step!</mark>"
   ]
  },
  {
   "cell_type": "code",
   "execution_count": null,
   "id": "b2e8f150",
   "metadata": {
    "deletable": false,
    "nbgrader": {
     "cell_type": "code",
     "checksum": "7f07a74a997e8cc9eba9866ba2e2c95a",
     "grade": false,
     "grade_id": "cell-c3a8e7a6b80a6533",
     "locked": false,
     "schema_version": 3,
     "solution": true
    }
   },
   "outputs": [],
   "source": [
    "sampling_freq = 24000\n",
    "\n",
    "# YOUR CODE HERE\n",
    "raise NotImplementedError()"
   ]
  },
  {
   "cell_type": "code",
   "execution_count": null,
   "id": "9201f46a",
   "metadata": {
    "deletable": false,
    "editable": false,
    "nbgrader": {
     "cell_type": "code",
     "checksum": "53a36ec9cd781183a444711ce5e7e2f4",
     "grade": true,
     "grade_id": "cell-82e1485082e0dfe6",
     "locked": true,
     "points": 2,
     "schema_version": 3,
     "solution": false
    }
   },
   "outputs": [],
   "source": [
    "# Tests for Step 3, worth 2 points\n",
    "assert isinstance(sample_ids,np.ndarray)\n",
    "assert isinstance(timestamps,np.ndarray)"
   ]
  },
  {
   "cell_type": "code",
   "execution_count": null,
   "id": "0c3f2b63",
   "metadata": {
    "deletable": false,
    "editable": false,
    "nbgrader": {
     "cell_type": "code",
     "checksum": "d466be4d47abf74b29c125085748e49e",
     "grade": true,
     "grade_id": "cell-76d68b3bca2d7e55",
     "locked": true,
     "points": 2,
     "schema_version": 3,
     "solution": false
    }
   },
   "outputs": [],
   "source": [
    "# Hidden tests for Step 3, worth 2 points"
   ]
  },
  {
   "cell_type": "code",
   "execution_count": null,
   "id": "67b226c7",
   "metadata": {
    "deletable": false,
    "editable": false,
    "nbgrader": {
     "cell_type": "code",
     "checksum": "4d1674311371c20765a4425da4b31049",
     "grade": true,
     "grade_id": "cell-8446d37f06c2c413",
     "locked": true,
     "points": 2,
     "schema_version": 3,
     "solution": false
    }
   },
   "outputs": [],
   "source": [
    "# Hidden tests for Step 3, worth 2 points"
   ]
  },
  {
   "cell_type": "markdown",
   "id": "0e5c7729",
   "metadata": {
    "deletable": false,
    "editable": false,
    "nbgrader": {
     "cell_type": "markdown",
     "checksum": "dfb4514868f31a90bc715524098e1cd3",
     "grade": false,
     "grade_id": "cell-795d73b0bff993cc",
     "locked": true,
     "schema_version": 3,
     "solution": false
    }
   },
   "source": [
    "### Step 4: Visually inspect the data\n",
    "\n",
    "Plot the first second of your cleaned recording below. Remember that the data was sampled at 24000, so 24000 samples is equivalent to one second of the recording.\n",
    "* For full credit, label your x and y axes. \n",
    "\n",
    "**Note**: This question is manually graded. There is no test cell.\n",
    "\n",
    "<mark>**To receive full points on this question, you need to add `plt.show()` at the end of your cell.**</mark>"
   ]
  },
  {
   "cell_type": "code",
   "execution_count": null,
   "id": "8b6a50cd",
   "metadata": {
    "deletable": false,
    "nbgrader": {
     "cell_type": "code",
     "checksum": "ee8635326c7b55b57f3d1f7cd61558d2",
     "grade": true,
     "grade_id": "cell-b9cc94f3d3a8ee2a",
     "locked": false,
     "points": 10,
     "schema_version": 3,
     "solution": true
    }
   },
   "outputs": [],
   "source": [
    "# YOUR CODE HERE\n",
    "raise NotImplementedError()"
   ]
  },
  {
   "cell_type": "markdown",
   "id": "a062a215",
   "metadata": {
    "deletable": false,
    "editable": false,
    "nbgrader": {
     "cell_type": "markdown",
     "checksum": "b51824aba031310368e098577cbfe70d",
     "grade": false,
     "grade_id": "cell-5fb1101245fd9174",
     "locked": true,
     "schema_version": 3,
     "solution": false
    }
   },
   "source": [
    "### Step 5. Identify places in the data that cross a threshold\n",
    "As you can see in the recording above, sometimes the data \"spikes\" both positively and negatively. These are action potentials! <mark>Our goal is to find these action potentials so that we can more closely inspect their shape.</mark> As a first step, we will determine the times that the data dips **below** a given threshold.\n",
    "\n",
    "To do so:\n",
    "1. First create a list of booleans (`threshold_bool`) that is the same length of your recording and is `True` if the recording is less than a variable `threshold` at each sample. **Hint**: You can do this for an entire array by using `recording < threshold`.\n",
    "2. <mark>**Recreate `sample_ids` in the same way you did in step 3 above.**</mark>\n",
    "3. Subset your `sample_ids` array so that you are left **only** with the sample IDs where there are threshold crossings, <mark>**and assign this to `crossings`.** Remember that you can subset an array with a boolean expression.</mark>\n",
    "4. Wrap this in a function called `find_crossings` that takes `recording` and `threshold` as inputs and returns a numpy array called `crossings`.\n",
    "\n",
    "<mark>**Here is what your resulting function will look like:**</mark>\n",
    "```\n",
    "    def find_crossings(recording,threshold):\n",
    "            threshold_bool = ... # Step 1\n",
    "            sample_ids = ...     # Step 2\n",
    "            crossings = ...      # Step 3\n",
    "    \n",
    "            return crossings\n",
    "```\n"
   ]
  },
  {
   "cell_type": "code",
   "execution_count": null,
   "id": "1e175d96",
   "metadata": {
    "deletable": false,
    "nbgrader": {
     "cell_type": "code",
     "checksum": "40d6f3264ddd457ad7a7f7c6895f639f",
     "grade": false,
     "grade_id": "cell-96cb2200d86c76e7",
     "locked": false,
     "schema_version": 3,
     "solution": true
    }
   },
   "outputs": [],
   "source": [
    "# YOUR CODE HERE\n",
    "raise NotImplementedError()"
   ]
  },
  {
   "cell_type": "code",
   "execution_count": null,
   "id": "29e9a6c4",
   "metadata": {
    "deletable": false,
    "editable": false,
    "nbgrader": {
     "cell_type": "code",
     "checksum": "1003e67728c230a3824f1cbae7ed16d8",
     "grade": true,
     "grade_id": "cell-c929cfd41c699819",
     "locked": true,
     "points": 2,
     "schema_version": 3,
     "solution": false
    }
   },
   "outputs": [],
   "source": [
    "# Tests for Step 5, worth 2 points\n",
    "assert inspect.isfunction(find_crossings)"
   ]
  },
  {
   "cell_type": "code",
   "execution_count": null,
   "id": "43a9eedc",
   "metadata": {
    "deletable": false,
    "editable": false,
    "nbgrader": {
     "cell_type": "code",
     "checksum": "3efee1b6577fc6f4625ba734385c285c",
     "grade": true,
     "grade_id": "cell-d4a538ea51936ab0",
     "locked": true,
     "points": 2,
     "schema_version": 3,
     "solution": false
    }
   },
   "outputs": [],
   "source": [
    "# Hidden tests for Step 5, worth 2 points"
   ]
  },
  {
   "cell_type": "markdown",
   "id": "bc5bcd0c",
   "metadata": {},
   "source": [
    "### Step 6. Add your functions to our `spike` module.\n",
    "In the same folder as this assignment, you'll see there's a folder called `spike_module`.\n",
    "\n",
    "Within this folder, there is a file called `spikes.py`. If you open that file, you'll notice that it contains several function definitions. Add the two functions you created above (`find_crossings`,`interpolate_outliers`) at the end of this file by copying and pasting them into spikes.py and saving it.\n",
    "\n",
    "*Then*, import this new custom module by typing `from spike_module import spikes` below. \n",
    "\n",
    "#### Tips\n",
    "* **If you make changes to the module, you need to re-import it.**\n",
    "* If you still do not pass the `assert` below after saving changes to `spikes.py`, restart the kernel."
   ]
  },
  {
   "cell_type": "code",
   "execution_count": null,
   "id": "e7aeb0cd",
   "metadata": {
    "deletable": false,
    "nbgrader": {
     "cell_type": "code",
     "checksum": "0d4668517c8ac0074640039ff7fe98a8",
     "grade": false,
     "grade_id": "cell-a67071499b6f6787",
     "locked": false,
     "schema_version": 3,
     "solution": true
    }
   },
   "outputs": [],
   "source": [
    "# YOUR CODE HERE\n",
    "raise NotImplementedError()"
   ]
  },
  {
   "cell_type": "code",
   "execution_count": null,
   "id": "8e858f17",
   "metadata": {
    "deletable": false,
    "editable": false,
    "nbgrader": {
     "cell_type": "code",
     "checksum": "346c538991c7dfcf5632b6d2aef6f0b2",
     "grade": true,
     "grade_id": "cell-12c98fbf846ccca5",
     "locked": true,
     "points": 4,
     "schema_version": 3,
     "solution": false
    }
   },
   "outputs": [],
   "source": [
    "## Tests for Step 6, worth 4 points\n",
    "assert inspect.isfunction(spikes.interpolate_outliers)\n",
    "assert inspect.isfunction(spikes.find_crossings)"
   ]
  },
  {
   "cell_type": "markdown",
   "id": "1dcec395",
   "metadata": {
    "deletable": false,
    "editable": false,
    "nbgrader": {
     "cell_type": "markdown",
     "checksum": "cf1edd9f1c764e92a6edfff2d10b358e",
     "grade": false,
     "grade_id": "cell-69fdbdb9367ece59",
     "locked": true,
     "schema_version": 3,
     "solution": false,
     "task": false
    }
   },
   "source": [
    "### Step 7.  Use your new module to plot spikes!\n",
    "\n",
    "In the box below:\n",
    "1. First use your `find_crossings` function to identify all threshold crossings **in your clean recording with a -30 threshold** and assign this to `crossings`.\n",
    "2. Use the `align_to_minimum` function in the `spikes` module to identify the spikes. Use 0.002 as the search range. Return this as `spks`. **Hint**: To use functions from the spike module, you need to call them with `spikes.<function name>`. For example, `spikes.align_to_minimum`.\n",
    "3. Use the `extract_waveforms` function to return `waveforms`. Note that `extract_waveforms` takes three arguments: `recording_clean, sampling_freq, spks`.\n",
    "4. Use `plot_waveforms` to plot. Check the function definition to see which arguments it needs.\n",
    "\n",
    "<mark>**Hint**: Take a look at `spikes.py` for documentation on what arguments each function\n",
    "takes.</mark>"
   ]
  },
  {
   "cell_type": "code",
   "execution_count": null,
   "id": "54629c92",
   "metadata": {
    "deletable": false,
    "nbgrader": {
     "cell_type": "code",
     "checksum": "86c8fc18adf5ed6c891bca3639107a51",
     "grade": true,
     "grade_id": "cell-e7defb657f0ff017",
     "locked": false,
     "points": 10,
     "schema_version": 3,
     "solution": true
    }
   },
   "outputs": [],
   "source": [
    "# YOUR CODE HERE\n",
    "raise NotImplementedError()"
   ]
  },
  {
   "cell_type": "code",
   "execution_count": null,
   "id": "812029de",
   "metadata": {
    "deletable": false,
    "editable": false,
    "nbgrader": {
     "cell_type": "code",
     "checksum": "cd12b3a1e7dc6c2a7d2d4a912c8bf477",
     "grade": true,
     "grade_id": "cell-86ff332aa8b22a94",
     "locked": true,
     "points": 2,
     "schema_version": 3,
     "solution": false
    }
   },
   "outputs": [],
   "source": [
    "# Tests for Step 7, worth 2 points.\n",
    "assert isinstance(crossings,np.ndarray)\n",
    "\n"
   ]
  },
  {
   "cell_type": "code",
   "execution_count": null,
   "id": "f4935e62",
   "metadata": {
    "deletable": false,
    "editable": false,
    "nbgrader": {
     "cell_type": "code",
     "checksum": "43776bd47787011a67037623c6f29a88",
     "grade": true,
     "grade_id": "cell-4a87751c2cdaf44c",
     "locked": true,
     "points": 3,
     "schema_version": 3,
     "solution": false,
     "task": false
    }
   },
   "outputs": [],
   "source": [
    "# Hidden Tests for Step 7, worth 3 points."
   ]
  }
 ],
 "metadata": {
  "kernelspec": {
   "display_name": "Python 3 (ipykernel)",
   "language": "python",
   "name": "python3"
  },
  "language_info": {
   "codemirror_mode": {
    "name": "ipython",
    "version": 3
   },
   "file_extension": ".py",
   "mimetype": "text/x-python",
   "name": "python",
   "nbconvert_exporter": "python",
   "pygments_lexer": "ipython3",
   "version": "3.9.5"
  }
 },
 "nbformat": 4,
 "nbformat_minor": 5
}
