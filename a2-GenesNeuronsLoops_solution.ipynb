{
 "cells": [
  {
   "cell_type": "markdown",
   "id": "fcdd3685",
   "metadata": {
    "nbgrader": {
     "grade": false,
     "grade_id": "cell-5aa3fee74f736610",
     "locked": true,
     "schema_version": 3,
     "solution": false
    }
   },
   "source": [
    "# Part I: Counting Genes\n",
    "After performing a sequence analysis, you discover that the sequence in one region of interest is the following:\n",
    "``` GGATAGTGCTTGAGTCTGTGCTGACCTATTATTAAGAACTAAATGGACAATATTATGGAGCATCTCATGTATAAATTGGTGCGTAAAATCGTTGGATCTCTCTTCTAAGTACATCCTACTATAACAATCAAGAAAAACAAGAAAATCGGACAAAACAATCAAGTATGGATTCTAGAACAGTTGGTATATTAGGAGGGGGACAATTGGGACGTATGATTGTTGAGTAAGCTAACAGGCTCAACATTAAGACGGTAATACTAGATGCTGAAAATTCTCCTGCCAAACAAATAAGCAACTCCAATGACCACGTTAATGGCTCCTTGTCCAATCCTCTTGATATCGAAAAACTAGCTGAAAAATGTGATGTGCTAACGATTGAGATTGAGCATGTTGATGTTCCTACACTAAAGAATCTTCAAGTAAAACATCCCAAATTAAAAATCTACCCTTCTCCAGAAACAATCAGATTGATACAAGACA\n",
    "```\n",
    "First, run the cell below to assign the sequence to a variable, `sequence`."
   ]
  },
  {
   "cell_type": "code",
   "execution_count": null,
   "id": "64d0f3bf",
   "metadata": {},
   "outputs": [],
   "source": [
    "sequence = 'GGATAGTGCTTGAGTCTGTGCTGACCTATTATTAAGAACTAAATGGACAATATTATGGAGCATCTCATGTATAAATTGGTGCGTAAAATCGTTGGATCTCTCTTCTAAGTACATCCTACTATAACAATCAAGAAAAACAAGAAAATCGGACAAAACAATCAAGTATGGATTCTAGAACAGTTGGTATATTAGGAGGGGGACAATTGGGACGTATGATTGTTGAGTAAGCTAACAGGCTCAACATTAAGACGGTAATACTAGATGCTGAAAATTCTCCTGCCAAACAAATAAGCAACTCCAATGACCACGTTAATGGCTCCTTGTCCAATCCTCTTGATATCGAAAAACTAGCTGAAAAATGTGATGTGCTAACGATTGAGATTGAGCATGTTGATGTTCCTACACTAAAGAATCTTCAAGTAAAACATCCCAAATTAAAAATCTACCCTTCTCCAGAAACAATCAGATTGATACAAGACA'"
   ]
  },
  {
   "cell_type": "markdown",
   "id": "6951fc57",
   "metadata": {},
   "source": [
    "## Q1\n",
    "You'd like to know if this region of DNA codes for Phenylalanine, which is coded by either `TTT` or `TTC`. Do the following steps to figure out whether either of these codons are in your data.\n",
    "\n",
    "1. Create a Boolean `has_TTT` that indicates whether `TTT` is in your DNA string.\n",
    "2. Create a Boolean `has_TTC` that indicates whether `TTC` is in your DNA string.\n",
    "3. Create a Boolean `has_phenyl` that is a Boolean containing information about whether or not `TTT` **or** `TTC` is in your sequence."
   ]
  },
  {
   "cell_type": "code",
   "execution_count": null,
   "id": "fc830084",
   "metadata": {
    "nbgrader": {
     "grade": false,
     "grade_id": "cell-ce54a1d04d034e5f",
     "locked": false,
     "schema_version": 3,
     "solution": true,
     "task": false
    }
   },
   "outputs": [],
   "source": [
    "### BEGIN SOLUTION\n",
    "has_TTT = 'TTT' in sequence\n",
    "has_TTC = 'TTC' in sequence\n",
    "has_phenyl = has_TTT or has_TTC\n",
    "print(has_phenyl)\n",
    "### END SOLUTION"
   ]
  },
  {
   "cell_type": "code",
   "execution_count": null,
   "id": "f90b64b7",
   "metadata": {
    "nbgrader": {
     "grade": true,
     "grade_id": "cell-c9ebff25941c657d",
     "locked": true,
     "points": 10,
     "schema_version": 3,
     "solution": false,
     "task": false
    }
   },
   "outputs": [],
   "source": [
    "# Tests for Q1, note: hidden tests. Worth 10 points.\n",
    "assert isinstance(has_TTT,bool)\n",
    "assert isinstance(has_TTC,bool)\n",
    "assert isinstance(has_phenyl,bool)\n",
    "\n",
    "### BEGIN HIDDEN TESTS\n",
    "assert has_TTT == False\n",
    "assert has_TTC == True\n",
    "assert has_phenyl == True\n",
    "### END HIDDEN TESTS"
   ]
  },
  {
   "cell_type": "markdown",
   "id": "e836e95a",
   "metadata": {},
   "source": [
    "## Q2\n",
    "Wait, you just realized that you forgot about *codons*! Gene sequences are read by the ribosome in threes. So, we have to search through each third chunk of DNA to see if that is a phenylalanine. \n",
    "\n",
    "Use the following steps to set this up:\n",
    "1. Determine the number of codons in your sequence by dividing the length of the sequence by three. Assign this to `num_codons_float`.\n",
    "2. Convert `num_codons_float` to an integer, and assign this to `num_codons`. This is how many times you'll need to run your loop in the next question."
   ]
  },
  {
   "cell_type": "code",
   "execution_count": null,
   "id": "e5ed9c54",
   "metadata": {
    "nbgrader": {
     "grade": false,
     "grade_id": "cell-350680e16ea610e3",
     "locked": false,
     "schema_version": 3,
     "solution": true
    }
   },
   "outputs": [],
   "source": [
    "### BEGIN SOLUTION\n",
    "num_codons_float = len(sequence)/3\n",
    "num_codons = int(num_codons_float)\n",
    "print(num_codons)\n",
    "### END SOLUTION"
   ]
  },
  {
   "cell_type": "code",
   "execution_count": null,
   "id": "5a7c41f8",
   "metadata": {
    "nbgrader": {
     "grade": true,
     "grade_id": "cell-ce657ccd66347d96",
     "locked": true,
     "points": 10,
     "schema_version": 3,
     "solution": false
    }
   },
   "outputs": [],
   "source": [
    "# Tests for Q2, Note: hidden tests. Worth 5 points.\n",
    "\n",
    "assert isinstance(num_codons,int)\n",
    "\n",
    "### BEGIN HIDDEN TESTS\n",
    "assert num_codons_float == 160.0\n",
    "assert num_codons == 160\n",
    "### END HIDDEN TESTS"
   ]
  },
  {
   "cell_type": "markdown",
   "id": "cef20e53",
   "metadata": {},
   "source": [
    "## Q3\n",
    "\n",
    "Now that we know how many codons there are, we can use this to determine how many times we need to run our loop.\n",
    "\n",
    "Create a for loop that looks through each codon and determines whether or not it is a `TTT` or `TTC` sequence by following these steps:\n",
    "1. Create a for loop that runs through a range equal to the number of codons in your sequence.\n",
    "2. For each subsequent codon, we'll need to slice the sequence. The first codon is `sequence[0:3]`, the second is `sequence[3:6]`, then `sequence[6:9]`, etc. Hint: you can programatically identify these start and stop points using a `start_id` that is equal to the codon number (`i`) times 3, and a `stop_id` that is equal to the codon number + 1 times 3. You can then use these ids to slice your sequence differently in each loop, and assign this slice to `this_codon`.\n",
    "3. Within each loop, check whether `this_codon` is equal to `TTT` or `TTC`.\n",
    "4. Use a counter (`num_phenyl`) to add up how many of these sequences you find. Print this after your loop."
   ]
  },
  {
   "cell_type": "code",
   "execution_count": null,
   "id": "7cbf53e3",
   "metadata": {
    "nbgrader": {
     "grade": false,
     "grade_id": "cell-8113842c386da92c",
     "locked": false,
     "schema_version": 3,
     "solution": true
    },
    "scrolled": false
   },
   "outputs": [],
   "source": [
    "### BEGIN SOLUTION\n",
    "num_phenyl = 0\n",
    "\n",
    "for i in range(num_codons):\n",
    "    start_id = i*3\n",
    "    stop_id = (i+1)*3\n",
    "    this_codon = sequence[start_id:stop_id]\n",
    "    if this_codon == 'TTT':\n",
    "        num_phenyl += 1\n",
    "    elif this_codon == 'TTC':\n",
    "        num_phenyl += 1\n",
    "\n",
    "print(num_phenyl)\n",
    "\n",
    "### END SOLUTION"
   ]
  },
  {
   "cell_type": "code",
   "execution_count": null,
   "id": "0b492ad7",
   "metadata": {
    "nbgrader": {
     "grade": true,
     "grade_id": "cell-23bfe0608d6d75ca",
     "locked": true,
     "points": 20,
     "schema_version": 3,
     "solution": false
    }
   },
   "outputs": [],
   "source": [
    "## Tests for Q3, Note: hidden tests. Worth 20 points.\n",
    "\n",
    "assert isinstance(num_phenyl,int)\n",
    "assert isinstance(this_codon,str)\n",
    "\n",
    "### BEGIN HIDDEN TESTS\n",
    "assert num_phenyl == 3\n",
    "### END HIDDEN TESTS"
   ]
  },
  {
   "cell_type": "markdown",
   "id": "8df884ba",
   "metadata": {
    "nbgrader": {
     "grade": false,
     "grade_id": "cell-5aa90e0fcbe5b722",
     "locked": true,
     "schema_version": 3,
     "solution": false,
     "task": false
    }
   },
   "source": [
    "As you may remember, RNA has uracil instead of thymine.\n",
    "\n",
    "## Q4\n",
    "\n",
    "Convert our DNA sequence to RNA by replacing every \"T\" with a \"U\". Assign this to `sequence_RNA`. Don't overthink this -- you may use built-in methods of strings to complete this task!"
   ]
  },
  {
   "cell_type": "code",
   "execution_count": null,
   "id": "103e77c8",
   "metadata": {
    "nbgrader": {
     "grade": false,
     "grade_id": "cell-c6bc0abe7083045b",
     "locked": false,
     "schema_version": 3,
     "solution": true,
     "task": false
    }
   },
   "outputs": [],
   "source": [
    "### BEGIN SOLUTION\n",
    "sequence_RNA = sequence.replace('T','U')\n",
    "print(sequence_RNA)\n",
    "### END SOLUTION"
   ]
  },
  {
   "cell_type": "code",
   "execution_count": null,
   "id": "86c1a7e7",
   "metadata": {
    "nbgrader": {
     "grade": true,
     "grade_id": "cell-8b0d6f513e22512d",
     "locked": true,
     "points": 5,
     "schema_version": 3,
     "solution": false,
     "task": false
    }
   },
   "outputs": [],
   "source": [
    "## Tests for Q4, Note: hidden tests. Worth 5 points.\n",
    "assert isinstance(sequence_RNA,str)\n",
    "\n",
    "### BEGIN HIDDEN TESTS\n",
    "assert sequence_RNA == 'GGAUAGUGCUUGAGUCUGUGCUGACCUAUUAUUAAGAACUAAAUGGACAAUAUUAUGGAGCAUCUCAUGUAUAAAUUGGUGCGUAAAAUCGUUGGAUCUCUCUUCUAAGUACAUCCUACUAUAACAAUCAAGAAAAACAAGAAAAUCGGACAAAACAAUCAAGUAUGGAUUCUAGAACAGUUGGUAUAUUAGGAGGGGGACAAUUGGGACGUAUGAUUGUUGAGUAAGCUAACAGGCUCAACAUUAAGACGGUAAUACUAGAUGCUGAAAAUUCUCCUGCCAAACAAAUAAGCAACUCCAAUGACCACGUUAAUGGCUCCUUGUCCAAUCCUCUUGAUAUCGAAAAACUAGCUGAAAAAUGUGAUGUGCUAACGAUUGAGAUUGAGCAUGUUGAUGUUCCUACACUAAAGAAUCUUCAAGUAAAACAUCCCAAAUUAAAAAUCUACCCUUCUCCAGAAACAAUCAGAUUGAUACAAGACA'\n",
    "### END HIDDEN TESTS"
   ]
  },
  {
   "cell_type": "markdown",
   "id": "d212f089",
   "metadata": {
    "nbgrader": {
     "grade": false,
     "grade_id": "cell-1b55d84a75a518e6",
     "locked": true,
     "schema_version": 3,
     "solution": false,
     "task": false
    }
   },
   "source": [
    "# Part I: Neuron Spikes\n",
    "\n",
    "We can think of neuron spike trains as a list of booleans: did the cell spike (fire an action potential), or not? Let's say that we sample our neuron once a millisecond to see if it spikes (`spike_train`). A **True** value means the neuron spiked in that sample, a **False** value means it did not spike.\n",
    "\n",
    "## Q5\n",
    "\n",
    "1. Programmatically determine how many times your neuron fires an action potential and assign this to `num_spikes`.\n",
    "2. Determine the length of your spike train in milliseconds and assign this to `train_length`.\n",
    "3. Determine your neuron's firing rate by dividing the number of spikes by the length of the train, and converting it into seconds from milliseconds. Assign this to `spike_rate`."
   ]
  },
  {
   "cell_type": "code",
   "execution_count": null,
   "id": "525f0e74",
   "metadata": {},
   "outputs": [],
   "source": [
    "# First, run this cell to assign the spike train.\n",
    "spike_train = [False,False,True,False,False,False,False,True,False,False,False,False,False,False,False,True,False,True,False,False,False,False,False,True,False,False,True,False,False,False,False]"
   ]
  },
  {
   "cell_type": "code",
   "execution_count": null,
   "id": "dd9dd6f1",
   "metadata": {
    "nbgrader": {
     "grade": false,
     "grade_id": "cell-e0770b9af3241d8d",
     "locked": false,
     "schema_version": 3,
     "solution": true,
     "task": false
    }
   },
   "outputs": [],
   "source": [
    "### BEGIN SOLUTION\n",
    "num_spikes = sum(spike_train)\n",
    "train_length = len(spike_train)\n",
    "spike_rate = 1000*num_spikes/train_length\n",
    "### END SOLUTION"
   ]
  },
  {
   "cell_type": "code",
   "execution_count": null,
   "id": "cda3d357",
   "metadata": {
    "nbgrader": {
     "grade": true,
     "grade_id": "cell-47e2478ddb011667",
     "locked": true,
     "points": 15,
     "schema_version": 3,
     "solution": false,
     "task": false
    }
   },
   "outputs": [],
   "source": [
    "## Tests for Q5, worth 15 points\n",
    "\n",
    "assert isinstance(num_spikes,int)\n",
    "assert isinstance(train_length,int)\n",
    "assert isinstance(spike_rate,float)\n",
    "\n",
    "### BEGIN HIDDEN TESTS\n",
    "assert num_spikes == 6\n",
    "assert train_length == 31\n",
    "assert spike_rate == 193.5483870967742\n",
    "### END HIDDEN TESTS"
   ]
  },
  {
   "cell_type": "markdown",
   "id": "b1304a70",
   "metadata": {},
   "source": [
    "## Q6\n",
    "As your final challenge, write a function called `calculate_spike_rate` that takes in `spike_train` and returns the `spike_rate`. First, you'll write the function, and then, we'll use it.\n",
    "\n",
    "You may use the code you wrote above to complete this task. In the first cell below, write your function. "
   ]
  },
  {
   "cell_type": "code",
   "execution_count": null,
   "id": "878d63c1",
   "metadata": {
    "nbgrader": {
     "grade": false,
     "grade_id": "cell-2b334fd9bf0d82fb",
     "locked": false,
     "schema_version": 3,
     "solution": true,
     "task": false
    }
   },
   "outputs": [],
   "source": [
    "### WRITE YOUR FUNCTION HERE\n",
    "\n",
    "### BEGIN SOLUTION\n",
    "\n",
    "def calculate_spike_rate(spike_train):\n",
    "    num_spikes = sum(spike_train)\n",
    "    train_length = len(spike_train)\n",
    "    spike_rate = 1000*num_spikes/train_length\n",
    "    \n",
    "    return spike_rate\n",
    "\n",
    "### END SOLUTION"
   ]
  },
  {
   "cell_type": "code",
   "execution_count": null,
   "id": "a5f871c4",
   "metadata": {
    "nbgrader": {
     "grade": true,
     "grade_id": "cell-1794c374b88210f4",
     "locked": true,
     "points": 10,
     "schema_version": 3,
     "solution": false,
     "task": false
    }
   },
   "outputs": [],
   "source": [
    "## Tests for Q6, worth 10 points. \n",
    "\n",
    "# The line below checks that you have a function called \"calculate_spike_rate\"\n",
    "\"calculate_spike_rate\" in dir()"
   ]
  },
  {
   "cell_type": "markdown",
   "id": "f3e60718",
   "metadata": {},
   "source": [
    "Finally, let's test your function on a new spike train. Run the cell below to assign `new_spike_train`. Then, in the following cell, use your function to calculate the spike rate in this new spike train and assign the output to `my_spike_rate`."
   ]
  },
  {
   "cell_type": "code",
   "execution_count": null,
   "id": "59227918",
   "metadata": {},
   "outputs": [],
   "source": [
    "new_spike_train = [True,False,False,False,False,False,False,False,False,False]"
   ]
  },
  {
   "cell_type": "code",
   "execution_count": null,
   "id": "4a7671a7",
   "metadata": {
    "nbgrader": {
     "grade": false,
     "grade_id": "cell-5ab3a1636aab9d4c",
     "locked": false,
     "schema_version": 3,
     "solution": true,
     "task": false
    }
   },
   "outputs": [],
   "source": [
    "## CALL YOUR FUNCTION HERE\n",
    "\n",
    "### BEGIN SOLUTION\n",
    "my_spike_rate = calculate_spike_rate([True,False,False,False,False,False,False,False,False,False])\n",
    "### END SOLUTION"
   ]
  },
  {
   "cell_type": "code",
   "execution_count": null,
   "id": "591351b4",
   "metadata": {
    "nbgrader": {
     "grade": true,
     "grade_id": "cell-ffd0aa67f2561125",
     "locked": true,
     "points": 5,
     "schema_version": 3,
     "solution": false,
     "task": false
    }
   },
   "outputs": [],
   "source": [
    "## Additional tests for Q6, worth 5 points. Note: hidden tests.\n",
    "\n",
    "### BEGIN HIDDEN TESTS\n",
    "assert my_spike_rate==100.0\n",
    "### END HIDDEN TESTS"
   ]
  },
  {
   "cell_type": "code",
   "execution_count": null,
   "id": "882baf0a",
   "metadata": {},
   "outputs": [],
   "source": []
  }
 ],
 "metadata": {
  "celltoolbar": "Create Assignment",
  "kernelspec": {
   "display_name": "Python 3 (ipykernel)",
   "language": "python",
   "name": "python3"
  },
  "language_info": {
   "codemirror_mode": {
    "name": "ipython",
    "version": 3
   },
   "file_extension": ".py",
   "mimetype": "text/x-python",
   "name": "python",
   "nbconvert_exporter": "python",
   "pygments_lexer": "ipython3",
   "version": "3.9.5"
  }
 },
 "nbformat": 4,
 "nbformat_minor": 5
}
