{
 "cells": [
  {
   "cell_type": "markdown",
   "id": "f27da8f7",
   "metadata": {},
   "source": [
    "# A2: Genes, Neurons, Loops\n",
    "\n",
    "**PLEASE DO NOT CHANGE THE NAME OF THIS FILE.**\n",
    "\n",
    "**PLEASE DO NOT COPY & PASTE OR DELETE CELLS INCLUDED IN THE ASSIGNMENT.**\n",
    "\n",
    "\n",
    "## How to complete assignments\n",
    "\n",
    "Whenever you see:\n",
    "\n",
    "```\n",
    "# YOUR CODE HERE\n",
    "raise NotImplementedError()\n",
    "```\n",
    "\n",
    "You need to **replace (meaning, delete) these lines of code with code that answers the questions** and meets the specified criteria. Make sure you remove the 'raise' line when you do this (or your notebook will raise an error, regardless of any other code, and thus fail the grading tests).\n",
    "\n",
    "You should write the answer to the questions in those cells (the ones with `# YOUR CODE HERE`), but you can also add extra cells to explore / investigate things if you need / want to. \n",
    "\n",
    "Any cell with `assert` statements in it is a test cell. You should not try to change or delete these cells. Note that there might be more than one assert that tests a particular question. \n",
    "\n",
    "If a test does fail, reading the error that is printed out should let you know which test failed, which may be useful for fixing it.\n",
    "\n",
    "Note that some cells, including the test cells, may be read only, which means they won't let you edit them. If you cannot edit a cell - that is normal, and you shouldn't need to edit that cell.\n",
    "\n",
    "\n",
    "## Tips & Tricks\n",
    "\n",
    "The following are a couple tips & tricks that may help you if you get stuck on anything.\n",
    "\n",
    "#### Printing Variables\n",
    "You can (and should) print and check variables as you go. This allows you to check what values they hold, and fix things if anything unexpected happens.\n",
    "\n",
    "#### Restarting the Kernel\n",
    "- If you run cells out of order, you can end up overwriting things in your namespace. \n",
    "- If things seem to go weird, a good first step is to restart the kernel, which you can do from the kernel menu above.\n",
    "- Even if everything seems to be working, it's a nice check to 'Restart & Run All', to make sure everything runs properly in order."
   ]
  },
  {
   "cell_type": "markdown",
   "id": "fcdd3685",
   "metadata": {
    "deletable": false,
    "editable": false,
    "nbgrader": {
     "cell_type": "markdown",
     "checksum": "f0dbb069b3aa20a8ec0abb3ecd6bf3ec",
     "grade": false,
     "grade_id": "cell-5aa3fee74f736610",
     "locked": true,
     "schema_version": 3,
     "solution": false
    }
   },
   "source": [
    "# Part I: Counting Genes\n",
    "After performing a sequence analysis, you discover that the sequence in one region of interest is the following:\n",
    "``` GGATAGTGCTTGAGTCTGTGCTGACCTATTATTAAGAACTAAATGGACAATATTATGGAGCATCTCATGTATAAATTGGTGCGTAAAATCGTTGGATCTCTCTTCTAAGTACATCCTACTATAACAATCAAGAAAAACAAGAAAATCGGACAAAACAATCAAGTATGGATTCTAGAACAGTTGGTATATTAGGAGGGGGACAATTGGGACGTATGATTGTTGAGTAAGCTAACAGGCTCAACATTAAGACGGTAATACTAGATGCTGAAAATTCTCCTGCCAAACAAATAAGCAACTCCAATGACCACGTTAATGGCTCCTTGTCCAATCCTCTTGATATCGAAAAACTAGCTGAAAAATGTGATGTGCTAACGATTGAGATTGAGCATGTTGATGTTCCTACACTAAAGAATCTTCAAGTAAAACATCCCAAATTAAAAATCTACCCTTCTCCAGAAACAATCAGATTGATACAAGACA\n",
    "```\n",
    "<mark><b>First, run the cell below to assign the sequence to a variable, `sequence`.</b></mark>"
   ]
  },
  {
   "cell_type": "code",
   "execution_count": null,
   "id": "64d0f3bf",
   "metadata": {},
   "outputs": [],
   "source": [
    "sequence = 'GGATAGTGCTTGAGTCTGTGCTGACCTATTATTAAGAACTAAATGGACAATATTATGGAGCATCTCATGTATAAATTGGTGCGTAAAATCGTTGGATCTCTCTTCTAAGTACATCCTACTATAACAATCAAGAAAAACAAGAAAATCGGACAAAACAATCAAGTATGGATTCTAGAACAGTTGGTATATTAGGAGGGGGACAATTGGGACGTATGATTGTTGAGTAAGCTAACAGGCTCAACATTAAGACGGTAATACTAGATGCTGAAAATTCTCCTGCCAAACAAATAAGCAACTCCAATGACCACGTTAATGGCTCCTTGTCCAATCCTCTTGATATCGAAAAACTAGCTGAAAAATGTGATGTGCTAACGATTGAGATTGAGCATGTTGATGTTCCTACACTAAAGAATCTTCAAGTAAAACATCCCAAATTAAAAATCTACCCTTCTCCAGAAACAATCAGATTGATACAAGACA'"
   ]
  },
  {
   "cell_type": "markdown",
   "id": "6951fc57",
   "metadata": {},
   "source": [
    "## Q1\n",
    "You'd like to know if this region of DNA codes for Phenylalanine, which is coded by either `TTT` or `TTC`. Do the following steps to figure out whether either of these codons are in your data.\n",
    "\n",
    "1. Create a Boolean `has_TTT` that indicates whether `TTT` is in your DNA string.\n",
    "2. Create a Boolean `has_TTC` that indicates whether `TTC` is in your DNA string.\n",
    "3. Create a Boolean `has_phenyl` that is a Boolean containing information about whether or not `TTT` **or** `TTC` is in your sequence."
   ]
  },
  {
   "cell_type": "code",
   "execution_count": null,
   "id": "fc830084",
   "metadata": {
    "deletable": false,
    "nbgrader": {
     "cell_type": "code",
     "checksum": "4dfc031ee1ac8a9f32ab9d5eb4affae9",
     "grade": false,
     "grade_id": "cell-ce54a1d04d034e5f",
     "locked": false,
     "schema_version": 3,
     "solution": true,
     "task": false
    }
   },
   "outputs": [],
   "source": [
    "# YOUR CODE HERE\n",
    "raise NotImplementedError()"
   ]
  },
  {
   "cell_type": "code",
   "execution_count": null,
   "id": "f90b64b7",
   "metadata": {
    "deletable": false,
    "editable": false,
    "nbgrader": {
     "cell_type": "code",
     "checksum": "534edfd650252b26526eec45e9a9349f",
     "grade": true,
     "grade_id": "cell-c9ebff25941c657d",
     "locked": true,
     "points": 2,
     "schema_version": 3,
     "solution": false,
     "task": false
    }
   },
   "outputs": [],
   "source": [
    "# Tests for Q1. Worth 4 points.\n",
    "assert isinstance(has_TTT,bool)\n",
    "assert isinstance(has_TTC,bool)\n",
    "assert isinstance(has_phenyl,bool)"
   ]
  },
  {
   "cell_type": "code",
   "execution_count": null,
   "id": "139e5306",
   "metadata": {
    "deletable": false,
    "editable": false,
    "nbgrader": {
     "cell_type": "code",
     "checksum": "4e5c3f9a66ffee54933ee46647d3439d",
     "grade": true,
     "grade_id": "cell-3066b1e70a443d9e",
     "locked": true,
     "points": 2,
     "schema_version": 3,
     "solution": false
    }
   },
   "outputs": [],
   "source": [
    "# Q1 hidden tests. Worth 2 points."
   ]
  },
  {
   "cell_type": "code",
   "execution_count": null,
   "id": "715340e4",
   "metadata": {
    "deletable": false,
    "editable": false,
    "nbgrader": {
     "cell_type": "code",
     "checksum": "caff6bb6f33dc0086b45144cd06100d1",
     "grade": true,
     "grade_id": "cell-957d006d698c40a4",
     "locked": true,
     "points": 2,
     "schema_version": 3,
     "solution": false
    }
   },
   "outputs": [],
   "source": [
    "# Q1 hidden tests. Worth 2 points."
   ]
  },
  {
   "cell_type": "code",
   "execution_count": null,
   "id": "e659900e",
   "metadata": {
    "deletable": false,
    "editable": false,
    "nbgrader": {
     "cell_type": "code",
     "checksum": "1459906dac96840a2b95f9fc3d2dc727",
     "grade": true,
     "grade_id": "cell-1a248737dae9fc95",
     "locked": true,
     "points": 2,
     "schema_version": 3,
     "solution": false
    }
   },
   "outputs": [],
   "source": [
    "# Q1 hidden tests. Worth 2 points."
   ]
  },
  {
   "cell_type": "markdown",
   "id": "e836e95a",
   "metadata": {},
   "source": [
    "## Q2\n",
    "Wait, you just realized that you forgot about *codons*! Gene sequences are read by the ribosome in threes. So, we have to search through each third chunk of DNA to see if that is a phenylalanine. \n",
    "\n",
    "Use the following steps to set this up:\n",
    "1. Determine the number of codons in your sequence by dividing the length of the sequence by three. Assign this to `num_codons_float`.\n",
    "2. Convert `num_codons_float` to an integer, and assign this to `num_codons`. This is how many times you'll need to run your loop in the next question."
   ]
  },
  {
   "cell_type": "code",
   "execution_count": null,
   "id": "e5ed9c54",
   "metadata": {
    "deletable": false,
    "nbgrader": {
     "cell_type": "code",
     "checksum": "bc87c752d310842c4fdb93c6e9e4d060",
     "grade": false,
     "grade_id": "cell-350680e16ea610e3",
     "locked": false,
     "schema_version": 3,
     "solution": true
    }
   },
   "outputs": [],
   "source": [
    "# YOUR CODE HERE\n",
    "raise NotImplementedError()"
   ]
  },
  {
   "cell_type": "code",
   "execution_count": null,
   "id": "5a7c41f8",
   "metadata": {
    "deletable": false,
    "editable": false,
    "nbgrader": {
     "cell_type": "code",
     "checksum": "017969fbbc7be4453d96bd8261f1a47e",
     "grade": true,
     "grade_id": "cell-ce657ccd66347d96",
     "locked": true,
     "points": 2,
     "schema_version": 3,
     "solution": false
    }
   },
   "outputs": [],
   "source": [
    "# Tests for Q2. Worth 2 points.\n",
    "assert isinstance(num_codons_float,float)\n",
    "assert isinstance(num_codons,int)"
   ]
  },
  {
   "cell_type": "code",
   "execution_count": null,
   "id": "63ceb2ff",
   "metadata": {
    "deletable": false,
    "editable": false,
    "nbgrader": {
     "cell_type": "code",
     "checksum": "6111b495028f7792083f3edf18983f57",
     "grade": true,
     "grade_id": "cell-17183d7b1e6d04c5",
     "locked": true,
     "points": 2,
     "schema_version": 3,
     "solution": false
    }
   },
   "outputs": [],
   "source": [
    "# Q2 hidden tests. Worth 2 points."
   ]
  },
  {
   "cell_type": "code",
   "execution_count": null,
   "id": "e8ac0b01",
   "metadata": {
    "deletable": false,
    "editable": false,
    "nbgrader": {
     "cell_type": "code",
     "checksum": "abd0027dc49c6d2aec2890ed422cb469",
     "grade": true,
     "grade_id": "cell-a8da3cbd7ba3f1f8",
     "locked": true,
     "points": 2,
     "schema_version": 3,
     "solution": false
    }
   },
   "outputs": [],
   "source": [
    "# Q2 hidden tests. Worth 2 points."
   ]
  },
  {
   "cell_type": "markdown",
   "id": "cef20e53",
   "metadata": {},
   "source": [
    "## Q3\n",
    "\n",
    "Now that we know how many codons there are, we can use this to determine how many times we need to run our loop.\n",
    "\n",
    "Create a for loop that looks through each codon and determines whether or not it is a `TTT` or `TTC` sequence by following these steps:\n",
    "1. Create a for loop that runs through a range equal to the number of codons in your sequence.\n",
    "2. For each subsequent codon, we'll need to slice the sequence. The first codon is `sequence[0:3]`, the second is `sequence[3:6]`, then `sequence[6:9]`, etc.\n",
    "\n",
    "    **Hint**: you can programatically identify these start and stop points using a `start_id` that is equal to the codon number (`i`) times 3, and a `stop_id` that is equal to the codon number + 1 times 3. You can then use these ids to slice your sequence differently in each loop, and assign this slice to `this_codon`.\n",
    "    \n",
    "\n",
    "3. Within each loop, check whether `this_codon` is equal to `TTT` or `TTC`.\n",
    "4. Use a counter (`num_phenyl`) to add up how many of these sequences you find. Print this after your loop."
   ]
  },
  {
   "cell_type": "code",
   "execution_count": null,
   "id": "7cbf53e3",
   "metadata": {
    "deletable": false,
    "nbgrader": {
     "cell_type": "code",
     "checksum": "8bb7a3458e4da665a20b326450084199",
     "grade": false,
     "grade_id": "cell-8113842c386da92c",
     "locked": false,
     "schema_version": 3,
     "solution": true
    }
   },
   "outputs": [],
   "source": [
    "# YOUR CODE HERE\n",
    "raise NotImplementedError()"
   ]
  },
  {
   "cell_type": "code",
   "execution_count": null,
   "id": "0b492ad7",
   "metadata": {
    "deletable": false,
    "editable": false,
    "nbgrader": {
     "cell_type": "code",
     "checksum": "dace82146c19c152f5d00a95b53e13d0",
     "grade": true,
     "grade_id": "cell-23bfe0608d6d75ca",
     "locked": true,
     "points": 2,
     "schema_version": 3,
     "solution": false
    }
   },
   "outputs": [],
   "source": [
    "## Tests for Q3. Worth 2 points.\n",
    "assert isinstance(num_phenyl,int)\n",
    "assert isinstance(this_codon,str)"
   ]
  },
  {
   "cell_type": "code",
   "execution_count": null,
   "id": "6883bd9a",
   "metadata": {
    "deletable": false,
    "editable": false,
    "nbgrader": {
     "cell_type": "code",
     "checksum": "3aaf95f70957d081243640521fc652b5",
     "grade": true,
     "grade_id": "cell-868d9cb878d57be6",
     "locked": true,
     "points": 10,
     "schema_version": 3,
     "solution": false
    }
   },
   "outputs": [],
   "source": [
    "## Hidden tests for Q3. Worth 10 points."
   ]
  },
  {
   "cell_type": "markdown",
   "id": "8df884ba",
   "metadata": {
    "deletable": false,
    "editable": false,
    "nbgrader": {
     "cell_type": "markdown",
     "checksum": "f7af24611ee7200e55c812b4f9f5c5c4",
     "grade": false,
     "grade_id": "cell-5aa90e0fcbe5b722",
     "locked": true,
     "schema_version": 3,
     "solution": false,
     "task": false
    }
   },
   "source": [
    "As you may remember, RNA has uracil instead of thymine.\n",
    "\n",
    "## Q4\n",
    "\n",
    "Convert our DNA sequence to RNA by replacing every \"T\" with a \"U\". Assign this to `sequence_RNA`. Don't overthink this -- you may use built-in methods of strings to complete this task!"
   ]
  },
  {
   "cell_type": "code",
   "execution_count": null,
   "id": "103e77c8",
   "metadata": {
    "deletable": false,
    "nbgrader": {
     "cell_type": "code",
     "checksum": "7ae1ae75479d04ac8b8aa673c0beea08",
     "grade": false,
     "grade_id": "cell-c6bc0abe7083045b",
     "locked": false,
     "schema_version": 3,
     "solution": true,
     "task": false
    }
   },
   "outputs": [],
   "source": [
    "# YOUR CODE HERE\n",
    "raise NotImplementedError()"
   ]
  },
  {
   "cell_type": "code",
   "execution_count": null,
   "id": "86c1a7e7",
   "metadata": {
    "deletable": false,
    "editable": false,
    "nbgrader": {
     "cell_type": "code",
     "checksum": "d641be0bf3ae086ecd3b828ba0583c56",
     "grade": true,
     "grade_id": "cell-8b0d6f513e22512d",
     "locked": true,
     "points": 2,
     "schema_version": 3,
     "solution": false,
     "task": false
    }
   },
   "outputs": [],
   "source": [
    "## Tests for Q4. Worth 2 points.\n",
    "assert isinstance(sequence_RNA,str)"
   ]
  },
  {
   "cell_type": "code",
   "execution_count": null,
   "id": "11cf07f8",
   "metadata": {
    "deletable": false,
    "editable": false,
    "nbgrader": {
     "cell_type": "code",
     "checksum": "ec28fd51df861667af0a7de6d6de5416",
     "grade": true,
     "grade_id": "cell-75a7be882ba56cfe",
     "locked": true,
     "points": 2,
     "schema_version": 3,
     "solution": false
    }
   },
   "outputs": [],
   "source": [
    "##  Hidden tests for Q4. Worth 2 points."
   ]
  },
  {
   "cell_type": "markdown",
   "id": "d212f089",
   "metadata": {
    "deletable": false,
    "editable": false,
    "nbgrader": {
     "cell_type": "markdown",
     "checksum": "281895d69fb14ae8f8c47535aeb47a40",
     "grade": false,
     "grade_id": "cell-1b55d84a75a518e6",
     "locked": true,
     "schema_version": 3,
     "solution": false,
     "task": false
    }
   },
   "source": [
    "# Part I: Neuron Spikes\n",
    "\n",
    "We can think of neuron spike trains as a list of booleans: did the cell spike (fire an action potential), or not?\n",
    "\n",
    "Let's say that we sample our neuron <font color='red'>**once a millisecond**</font> to see if it spikes (`spike_train`). A **True** value means the neuron spiked in that sample, a **False** value means it did not spike. In other words, `spike_train[0]` represents the first millisecond of the recording, `spike_train[1]` represents the second millisecond, etc. As a further extension of this, the length of `spike_train` is the length of the recording, **in milliseconds**.\n",
    "\n",
    "## Q5\n",
    "\n",
    "1. Programmatically count how many times your neuron fires an action potential within the entire recording and assign this to `num_spikes`.\n",
    "2. Determine the length of your spike train **in milliseconds** and assign this to `train_length`.\n",
    "3. Determine your neuron's firing rate (# of spikes per second) by dividing the number of spikes by the length of the train, and converting it into seconds from milliseconds. Assign this to `spike_rate`.\n",
    "\n",
    "<mark><b>Make sure you first run the cell below to assign the spike train.</b></mark>"
   ]
  },
  {
   "cell_type": "code",
   "execution_count": null,
   "id": "525f0e74",
   "metadata": {},
   "outputs": [],
   "source": [
    "spike_train = [False,False,True,False,False,False,False,True,False,False,False,False,False,False,False,True,False,True,False,False,False,False,False,True,False,False,True,False,False,False,False]"
   ]
  },
  {
   "cell_type": "code",
   "execution_count": null,
   "id": "dd9dd6f1",
   "metadata": {
    "deletable": false,
    "nbgrader": {
     "cell_type": "code",
     "checksum": "c8f8c1ba6fcb5ca3d6c163a708cd66fe",
     "grade": false,
     "grade_id": "cell-e0770b9af3241d8d",
     "locked": false,
     "schema_version": 3,
     "solution": true,
     "task": false
    }
   },
   "outputs": [],
   "source": [
    "# YOUR CODE HERE\n",
    "raise NotImplementedError()"
   ]
  },
  {
   "cell_type": "code",
   "execution_count": null,
   "id": "cda3d357",
   "metadata": {
    "deletable": false,
    "editable": false,
    "nbgrader": {
     "cell_type": "code",
     "checksum": "fe42bf9fe395637c010025bfd065073e",
     "grade": true,
     "grade_id": "cell-47e2478ddb011667",
     "locked": true,
     "points": 2,
     "schema_version": 3,
     "solution": false,
     "task": false
    }
   },
   "outputs": [],
   "source": [
    "## Tests for Q5, worth 2 points\n",
    "assert isinstance(num_spikes,int)\n",
    "assert isinstance(train_length,int)\n",
    "assert isinstance(spike_rate,float)"
   ]
  },
  {
   "cell_type": "code",
   "execution_count": null,
   "id": "e499002a",
   "metadata": {
    "deletable": false,
    "editable": false,
    "nbgrader": {
     "cell_type": "code",
     "checksum": "97f5176d7d6a7d6c2398dd74487a692a",
     "grade": true,
     "grade_id": "cell-800ff2ffd125ad82",
     "locked": true,
     "points": 3,
     "schema_version": 3,
     "solution": false
    }
   },
   "outputs": [],
   "source": [
    "##  Hidden tests for Q5. Worth 3 points."
   ]
  },
  {
   "cell_type": "code",
   "execution_count": null,
   "id": "9483b632",
   "metadata": {
    "deletable": false,
    "editable": false,
    "nbgrader": {
     "cell_type": "code",
     "checksum": "aa870ca9ba0b6a3058c062789ee60861",
     "grade": true,
     "grade_id": "cell-df8ff83a2b8cc3c2",
     "locked": true,
     "points": 3,
     "schema_version": 3,
     "solution": false
    }
   },
   "outputs": [],
   "source": [
    "##  Hidden tests for Q5. Worth 3 points."
   ]
  },
  {
   "cell_type": "code",
   "execution_count": null,
   "id": "ba44fa66",
   "metadata": {
    "deletable": false,
    "editable": false,
    "nbgrader": {
     "cell_type": "code",
     "checksum": "d6f5340a0acacec4d30558df478e3fdf",
     "grade": true,
     "grade_id": "cell-fcd22f86ff038588",
     "locked": true,
     "points": 3,
     "schema_version": 3,
     "solution": false
    }
   },
   "outputs": [],
   "source": [
    "##  Hidden tests for Q5. Worth 3 points."
   ]
  },
  {
   "cell_type": "markdown",
   "id": "b1304a70",
   "metadata": {},
   "source": [
    "## Q6\n",
    "As your final challenge, write a function called `calculate_spike_rate` that takes in `spike_train` and returns the `spike_rate`. First, you'll write the function, and then, we'll use it.\n",
    "\n",
    "You should use the code you wrote above to complete this task. In the first cell below, write your function. "
   ]
  },
  {
   "cell_type": "code",
   "execution_count": null,
   "id": "878d63c1",
   "metadata": {
    "deletable": false,
    "nbgrader": {
     "cell_type": "code",
     "checksum": "d56d73813f76cdad84c948cc797aa1ce",
     "grade": false,
     "grade_id": "cell-2b334fd9bf0d82fb",
     "locked": false,
     "schema_version": 3,
     "solution": true,
     "task": false
    }
   },
   "outputs": [],
   "source": [
    "### WRITE YOUR FUNCTION HERE\n",
    "\n",
    "# YOUR CODE HERE\n",
    "raise NotImplementedError()"
   ]
  },
  {
   "cell_type": "code",
   "execution_count": null,
   "id": "a5f871c4",
   "metadata": {
    "deletable": false,
    "editable": false,
    "nbgrader": {
     "cell_type": "code",
     "checksum": "db624ca9e69221d2b4f3ad0270a1a057",
     "grade": true,
     "grade_id": "cell-1794c374b88210f4",
     "locked": true,
     "points": 2,
     "schema_version": 3,
     "solution": false,
     "task": false
    }
   },
   "outputs": [],
   "source": [
    "## Tests for Q6, worth 3 points. \n",
    "# The line below checks that you have a function called \"calculate_spike_rate\"\n",
    "\"calculate_spike_rate\" in dir()"
   ]
  },
  {
   "cell_type": "markdown",
   "id": "f3e60718",
   "metadata": {},
   "source": [
    "Finally, let's test your function on a new spike train. \n",
    "\n",
    "<mark><b>Run the cell below to assign `new_spike_train`.</b></mark>\n",
    "\n",
    "Then, in the following cell, use your function to calculate the spike rate in this new spike train and assign the output to `my_spike_rate`."
   ]
  },
  {
   "cell_type": "code",
   "execution_count": null,
   "id": "59227918",
   "metadata": {},
   "outputs": [],
   "source": [
    "new_spike_train = [True,False,False,False,False,False,False,False,False,False,True,False,False,False,False,False,False,False,False,False,True,False,False,False,False,False,False,False,False,False]"
   ]
  },
  {
   "cell_type": "code",
   "execution_count": null,
   "id": "4a7671a7",
   "metadata": {
    "deletable": false,
    "nbgrader": {
     "cell_type": "code",
     "checksum": "65f6a6097f960d33d2c16d5a9e40755c",
     "grade": false,
     "grade_id": "cell-5ab3a1636aab9d4c",
     "locked": false,
     "schema_version": 3,
     "solution": true,
     "task": false
    }
   },
   "outputs": [],
   "source": [
    "## CALL YOUR FUNCTION HERE\n",
    "\n",
    "# YOUR CODE HERE\n",
    "raise NotImplementedError()"
   ]
  },
  {
   "cell_type": "code",
   "execution_count": null,
   "id": "591351b4",
   "metadata": {
    "deletable": false,
    "editable": false,
    "nbgrader": {
     "cell_type": "code",
     "checksum": "feed1841a17c93fc3012279590313e5b",
     "grade": true,
     "grade_id": "cell-ffd0aa67f2561125",
     "locked": true,
     "points": 1,
     "schema_version": 3,
     "solution": false,
     "task": false
    }
   },
   "outputs": [],
   "source": [
    "## Tests for Q6, worth 1 point.\n",
    "assert isinstance(my_spike_rate,float)"
   ]
  },
  {
   "cell_type": "code",
   "execution_count": null,
   "id": "8c60bcdc",
   "metadata": {
    "deletable": false,
    "editable": false,
    "nbgrader": {
     "cell_type": "code",
     "checksum": "fbaa8e4b1d738f6a0efe86861c816a90",
     "grade": true,
     "grade_id": "cell-882256abf8e49227",
     "locked": true,
     "points": 1,
     "schema_version": 3,
     "solution": false
    }
   },
   "outputs": [],
   "source": [
    "## Hidden tests for Q6, worth 1 point."
   ]
  },
  {
   "cell_type": "code",
   "execution_count": null,
   "id": "ac5fbb65",
   "metadata": {
    "deletable": false,
    "editable": false,
    "nbgrader": {
     "cell_type": "code",
     "checksum": "2630d48acb29f46bf0846babf35ce6da",
     "grade": true,
     "grade_id": "cell-47796b38be433827",
     "locked": true,
     "points": 4,
     "schema_version": 3,
     "solution": false,
     "task": false
    }
   },
   "outputs": [],
   "source": [
    "## Hidden tests for Q6, worth 4 points."
   ]
  }
 ],
 "metadata": {
  "kernelspec": {
   "display_name": "Python 3 (ipykernel)",
   "language": "python",
   "name": "python3"
  },
  "language_info": {
   "codemirror_mode": {
    "name": "ipython",
    "version": 3
   },
   "file_extension": ".py",
   "mimetype": "text/x-python",
   "name": "python",
   "nbconvert_exporter": "python",
   "pygments_lexer": "ipython3",
   "version": "3.9.5"
  }
 },
 "nbformat": 4,
 "nbformat_minor": 5
}
