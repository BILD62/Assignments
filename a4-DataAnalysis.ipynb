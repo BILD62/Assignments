{
 "cells": [
  {
   "cell_type": "markdown",
   "id": "0398b09a",
   "metadata": {},
   "source": [
    "# Assignment a4\n",
    "In this assignment, you'll work through a dataset that is similar in format to our inflammation dataset. \n",
    "\n",
    "## Step 1: Import the necessary packages\n",
    "\n",
    "Below, import `numpy` as `np` and `matplotlib.pyplot` as `plt`."
   ]
  },
  {
   "cell_type": "code",
   "execution_count": 2,
   "id": "fcee25d4",
   "metadata": {
    "deletable": false,
    "nbgrader": {
     "cell_type": "code",
     "checksum": "8f73010434adeaec5882100ffb9a3f72",
     "grade": false,
     "grade_id": "cell-fb75c1baaa034a79",
     "locked": false,
     "schema_version": 3,
     "solution": true
    }
   },
   "outputs": [],
   "source": [
    "import numpy as np\n",
    "import matplotlib.pyplot as plt"
   ]
  },
  {
   "cell_type": "code",
   "execution_count": null,
   "id": "2e907e2b",
   "metadata": {
    "deletable": false,
    "editable": false,
    "nbgrader": {
     "cell_type": "code",
     "checksum": "b7baa71255b9252d90e44930307fd0ef",
     "grade": true,
     "grade_id": "cell-a663c96201b646a1",
     "locked": true,
     "points": 5,
     "schema_version": 3,
     "solution": false
    }
   },
   "outputs": [],
   "source": [
    "# Tests for Step 1, 5 pts\n",
    "import sys\n",
    "assert 'numpy' in sys.modules\n",
    "assert 'matplotlib.pyplot' in sys.modules"
   ]
  },
  {
   "cell_type": "code",
   "execution_count": null,
   "id": "85bde61d",
   "metadata": {
    "deletable": false,
    "editable": false,
    "nbgrader": {
     "cell_type": "code",
     "checksum": "7065175559e8e517c06f4abc40d292e5",
     "grade": true,
     "grade_id": "cell-9d36a0f8e7172bab",
     "locked": true,
     "points": 5,
     "schema_version": 3,
     "solution": false
    }
   },
   "outputs": [],
   "source": [
    "# Two more tests for Step 1, 5 pts\n",
    "assert 'np' in dir()\n",
    "assert 'plt' in dir()"
   ]
  },
  {
   "cell_type": "markdown",
   "id": "d540bf25",
   "metadata": {},
   "source": [
    "## Step 2: Load our data as a numpy array\n",
    "In the cell below, load our file, called 'pain_data.csv'.\n",
    "\n",
    "1. Assign this array to a variable called `pain_data`.\n",
    "2. Assign the shape of this array to `data_shape`."
   ]
  },
  {
   "cell_type": "code",
   "execution_count": 8,
   "id": "73ef1c32",
   "metadata": {
    "deletable": false,
    "nbgrader": {
     "cell_type": "code",
     "checksum": "fd7b85fe5fe8bd60ba1252f9020d97a4",
     "grade": false,
     "grade_id": "cell-e89d8ae3668d086e",
     "locked": false,
     "schema_version": 3,
     "solution": true
    }
   },
   "outputs": [
    {
     "data": {
      "text/plain": [
       "array([[19., 12.,  8., 18.,  8.,  7., 17.,  7.],\n",
       "       [16.,  8.,  6., 12.,  6., 14.,  3., 12.],\n",
       "       [10.,  9., 25.,  8., 25.,  4.,  7.,  2.],\n",
       "       [17., 10., 19., 11., 12.,  8., 12., 12.],\n",
       "       [18.,  6., 17.,  9., 13., 13.,  7.,  5.],\n",
       "       [12., 18.,  9.,  5., 19.,  9.,  6., 10.],\n",
       "       [16., 10., 12.,  8., 18.,  4., 13.,  5.],\n",
       "       [19., 18.,  9., 25., 15., 10.,  5., 23.],\n",
       "       [11., 17., 20., 11.,  5., 10.,  9.,  5.],\n",
       "       [18., 16.,  6., 15., 12., 13., 15., 13.],\n",
       "       [18., 15., 18.,  8., 16., 13.,  8.,  5.],\n",
       "       [11.,  6.,  8.,  7., 15.,  5., 12.,  7.],\n",
       "       [15., 13.,  9., 12., 18.,  6., 11.,  4.],\n",
       "       [16.,  9., 13., 12.,  8., 13., 12.,  6.],\n",
       "       [25.,  6., 15., 17., 11., 13.,  4., 18.],\n",
       "       [17., 18., 12.,  8., 10.,  5.,  6.,  3.],\n",
       "       [19., 12.,  9.,  9., 12., 19., 12.,  5.],\n",
       "       [14.,  8., 13., 14., 14., 12., 11.,  3.],\n",
       "       [12., 11., 13., 13.,  6.,  8.,  5., 20.],\n",
       "       [14.,  9.,  7.,  7.,  7., 11., 12.,  2.],\n",
       "       [15.,  5.,  9., 10., 16., 10.,  7., 18.],\n",
       "       [15.,  8., 18., 16.,  9.,  9.,  8.,  6.],\n",
       "       [13., 25., 12., 17., 16., 10., 11.,  7.],\n",
       "       [15., 11., 16., 13., 13.,  4., 14., 20.],\n",
       "       [15., 15., 14., 16., 15., 12., 12.,  3.],\n",
       "       [17.,  8., 17., 11.,  8., 12., 16.,  7.],\n",
       "       [15.,  7.,  7., 11., 14.,  3., 10.,  3.],\n",
       "       [15., 12.,  9., 15., 18., 14., 13., 15.],\n",
       "       [19., 12., 15.,  6.,  7.,  7., 16., 14.],\n",
       "       [16., 17., 20.,  6.,  9.,  3.,  3.,  8.],\n",
       "       [16.,  8., 14., 16., 17., 14.,  4., 17.],\n",
       "       [19.,  9., 13., 15.,  6., 14., 14., 13.],\n",
       "       [11., 14., 19.,  6., 15., 13., 15.,  6.],\n",
       "       [10., 13., 11., 12.,  6., 12., 18.,  7.],\n",
       "       [21.,  7., 10., 18., 10.,  5., 10.,  5.],\n",
       "       [15., 10., 14.,  6., 12.,  3., 14., 14.],\n",
       "       [22., 16., 15., 16., 16.,  6., 14., 10.],\n",
       "       [13., 17., 16., 10.,  9.,  5., 16., 19.],\n",
       "       [23., 13., 15.,  9., 17.,  9., 12.,  8.],\n",
       "       [16., 16., 19., 17., 10.,  4.,  4.,  5.],\n",
       "       [15., 11., 25.,  5., 14., 13., 13., 14.],\n",
       "       [17., 11., 18., 14.,  9.,  8., 13., 13.],\n",
       "       [16., 15., 19., 12., 18.,  8., 14., 12.],\n",
       "       [19.,  6., 12., 18., 15.,  6.,  6.,  6.],\n",
       "       [24.,  6., 18., 25., 20.,  8., 14.,  6.],\n",
       "       [16., 16.,  6., 20., 15.,  4.,  7., 14.],\n",
       "       [14., 15., 14., 25., 11.,  8., 15.,  6.],\n",
       "       [10.,  6., 19.,  6., 18., 13., 10., 21.],\n",
       "       [19., 12., 10., 15., 14.,  4., 15., 20.],\n",
       "       [16., 18., 12., 15., 11.,  5., 12.,  7.],\n",
       "       [14.,  6., 16., 11., 15., 13., 16.,  3.],\n",
       "       [17., 16.,  5.,  4.,  5.,  3., 10.,  4.],\n",
       "       [14., 10., 20.,  8., 12., 14.,  9., 13.],\n",
       "       [15.,  9., 11., 10.,  9.,  6.,  9.,  7.],\n",
       "       [16., 17., 15., 18.,  6., 13., 11.,  8.],\n",
       "       [13.,  5., 16., 10., 12.,  3., 25.,  4.],\n",
       "       [16., 14., 16., 20.,  8.,  6.,  5., 17.],\n",
       "       [19., 12., 14., 10.,  8., 14.,  6.,  3.],\n",
       "       [24., 10.,  9., 12., 15.,  5.,  4., 13.],\n",
       "       [22., 13.,  8., 10., 18., 12.,  9., 24.],\n",
       "       [18., 13.,  6., 11., 11.,  7.,  7.,  1.],\n",
       "       [25., 25., 25.,  5., 12.,  7.,  4.,  5.],\n",
       "       [19., 14., 12., 17.,  7.,  2.,  2.,  7.],\n",
       "       [17.,  4.,  4.,  7.,  6., 15.,  3.,  4.],\n",
       "       [19., 14.,  9.,  7., 13.,  9.,  2.,  6.],\n",
       "       [12.,  5., 18.,  9.,  5.,  3.,  3.,  3.],\n",
       "       [ 9., 17., 15.,  8.,  9.,  3.,  2.,  7.],\n",
       "       [20., 18., 15., 13., 15., 10., 15., 10.],\n",
       "       [16., 16., 12.,  6.,  8., 14.,  7.,  3.],\n",
       "       [18., 15., 16., 14.,  2.,  7.,  5.,  8.],\n",
       "       [18., 15., 15., 16., 11.,  4.,  5.,  4.],\n",
       "       [19., 25., 18.,  6.,  2.,  5.,  4.,  3.],\n",
       "       [13., 12.,  8.,  7.,  4.,  7.,  3.,  9.],\n",
       "       [15.,  9., 11.,  4.,  6.,  4.,  4.,  1.],\n",
       "       [12., 13., 10.,  4., 12.,  4.,  1.,  7.],\n",
       "       [ 9.,  8., 12., 11., 11., 11., 10., 10.],\n",
       "       [13., 19., 14., 17.,  5., 13.,  5., 11.],\n",
       "       [13., 19.,  6.,  9., 12.,  6.,  5., 13.],\n",
       "       [18., 12.,  7.,  6.,  7.,  4.,  1.,  2.],\n",
       "       [ 9., 19., 16., 11.,  8.,  9.,  1., 12.],\n",
       "       [18., 19.,  9.,  6., 11., 12.,  3.,  6.],\n",
       "       [12., 10.,  6.,  7.,  6.,  0.,  6.,  4.],\n",
       "       [16., 15., 13.,  6., 12.,  9.,  2.,  3.],\n",
       "       [14., 13.,  5.,  3.,  7., 14.,  1.,  5.],\n",
       "       [17., 25., 15., 10., 10., 12., 11., 15.],\n",
       "       [13., 11., 14., 10., 13., 11., 10., 12.],\n",
       "       [18., 12.,  8., 14., 16., 10.,  2., 11.],\n",
       "       [15., 13.,  7.,  7.,  4.,  5.,  3.,  4.],\n",
       "       [20., 18.,  9.,  5.,  4.,  7.,  3.,  8.],\n",
       "       [14., 15., 17.,  4., 14., 13.,  5.,  4.],\n",
       "       [13.,  7.,  6.,  9.,  4.,  7.,  6.,  4.],\n",
       "       [19., 15., 15.,  6.,  8.,  8.,  4.,  5.],\n",
       "       [11.,  8.,  6., 12., 10.,  5.,  2.,  7.],\n",
       "       [10.,  6., 10., 11.,  4.,  5.,  2.,  7.],\n",
       "       [14., 18., 12., 17., 14.,  4.,  2.,  3.],\n",
       "       [15.,  9.,  6.,  7.,  6.,  3.,  1.,  9.],\n",
       "       [16., 13.,  9.,  7., 10.,  6.,  4.,  9.],\n",
       "       [15., 16.,  7., 14.,  4.,  4.,  4., 10.],\n",
       "       [19.,  9., 10.,  6., 13.,  5.,  1.,  6.],\n",
       "       [25., 25.,  5.,  5.,  8., 10.,  3.,  5.],\n",
       "       [18.,  7.,  9., 10.,  4., 12.,  2.,  9.],\n",
       "       [19.,  6.,  4., 11.,  6.,  3.,  6.,  5.],\n",
       "       [12., 16.,  6.,  4., 14.,  3.,  5.,  9.],\n",
       "       [18., 14.,  6., 10.,  7.,  9.,  1.,  5.],\n",
       "       [16., 18.,  5., 14.,  5., 12.,  7.,  8.],\n",
       "       [14.,  9., 11., 10., 10.,  7.,  4.,  8.],\n",
       "       [19., 10.,  8., 13.,  5.,  2.,  5.,  4.],\n",
       "       [10.,  5., 14., 15.,  2.,  7.,  6.,  5.],\n",
       "       [12.,  7., 11.,  7.,  7.,  8.,  3.,  6.],\n",
       "       [16., 10.,  5., 15.,  1.,  4.,  4.,  7.],\n",
       "       [15.,  4.,  5.,  5.,  9.,  4.,  3.,  7.],\n",
       "       [20., 15., 12.,  8.,  9.,  6.,  1.,  5.],\n",
       "       [21., 17.,  9., 11.,  2.,  7.,  5.,  2.],\n",
       "       [15., 25.,  6., 13.,  4.,  2.,  4.,  6.],\n",
       "       [16., 15.,  3., 13.,  5., 12.,  2.,  9.],\n",
       "       [16.,  5.,  8.,  8.,  6.,  9.,  5.,  6.],\n",
       "       [14., 14.,  8., 17.,  4.,  2.,  6.,  7.],\n",
       "       [19., 10.,  5., 10.,  9.,  5.,  4.,  7.],\n",
       "       [18., 13.,  2., 17.,  4.,  9.,  6.,  4.],\n",
       "       [16., 18.,  9.,  9.,  4.,  7.,  5.,  5.]])"
      ]
     },
     "execution_count": 8,
     "metadata": {},
     "output_type": "execute_result"
    }
   ],
   "source": [
    "pain_data = np.loadtxt(fname='pain_data.csv',delimiter =',')\n",
    "pain_data"
   ]
  },
  {
   "cell_type": "code",
   "execution_count": null,
   "id": "994d8f15",
   "metadata": {
    "deletable": false,
    "editable": false,
    "nbgrader": {
     "cell_type": "code",
     "checksum": "b525ace93ff8799a617c8adc0742e513",
     "grade": true,
     "grade_id": "cell-199dc904caa4e627",
     "locked": true,
     "points": 5,
     "schema_version": 3,
     "solution": false
    }
   },
   "outputs": [],
   "source": [
    "# Tests for Step 2, 5 pts\n",
    "assert isinstance(pain_data,np.ndarray)\n",
    "assert isinstance(data_shape,tuple)"
   ]
  },
  {
   "cell_type": "code",
   "execution_count": null,
   "id": "24b3692d",
   "metadata": {
    "deletable": false,
    "editable": false,
    "nbgrader": {
     "cell_type": "code",
     "checksum": "b9b684ab35e863ad3196f16d8768d000",
     "grade": true,
     "grade_id": "cell-3bc2d88f15ed1161",
     "locked": true,
     "points": 5,
     "schema_version": 3,
     "solution": false
    }
   },
   "outputs": [],
   "source": [
    "# Hidden tests for Step 2, 5 pts"
   ]
  },
  {
   "cell_type": "markdown",
   "id": "4aaf268b",
   "metadata": {
    "deletable": false,
    "editable": false,
    "nbgrader": {
     "cell_type": "markdown",
     "checksum": "3882395962704f6ff8f882a211f7d7ae",
     "grade": false,
     "grade_id": "cell-6cfed90c609c75c3",
     "locked": true,
     "schema_version": 3,
     "solution": false
    }
   },
   "source": [
    "## Step 3: Divide into control and treatment groups\n",
    "In this data set, each row is a patient, and each column is the hour of the test. The first 60 patients (in the first 60 rows) in this study were in the control group. The second group of patients were in a treatment group. Divide `pain_data` into two separate `control` and `treatment` arrays accordingly."
   ]
  },
  {
   "cell_type": "code",
   "execution_count": 9,
   "id": "cef28cd1",
   "metadata": {
    "deletable": false,
    "nbgrader": {
     "cell_type": "code",
     "checksum": "ecf4c5dc527b1eb56d7e9cd0924a3099",
     "grade": false,
     "grade_id": "cell-7321442fff968ae4",
     "locked": false,
     "schema_version": 3,
     "solution": true
    }
   },
   "outputs": [
    {
     "data": {
      "text/plain": [
       "array([[18., 13.,  6., 11., 11.,  7.,  7.,  1.],\n",
       "       [25., 25., 25.,  5., 12.,  7.,  4.,  5.],\n",
       "       [19., 14., 12., 17.,  7.,  2.,  2.,  7.],\n",
       "       [17.,  4.,  4.,  7.,  6., 15.,  3.,  4.],\n",
       "       [19., 14.,  9.,  7., 13.,  9.,  2.,  6.],\n",
       "       [12.,  5., 18.,  9.,  5.,  3.,  3.,  3.],\n",
       "       [ 9., 17., 15.,  8.,  9.,  3.,  2.,  7.],\n",
       "       [20., 18., 15., 13., 15., 10., 15., 10.],\n",
       "       [16., 16., 12.,  6.,  8., 14.,  7.,  3.],\n",
       "       [18., 15., 16., 14.,  2.,  7.,  5.,  8.],\n",
       "       [18., 15., 15., 16., 11.,  4.,  5.,  4.],\n",
       "       [19., 25., 18.,  6.,  2.,  5.,  4.,  3.],\n",
       "       [13., 12.,  8.,  7.,  4.,  7.,  3.,  9.],\n",
       "       [15.,  9., 11.,  4.,  6.,  4.,  4.,  1.],\n",
       "       [12., 13., 10.,  4., 12.,  4.,  1.,  7.],\n",
       "       [ 9.,  8., 12., 11., 11., 11., 10., 10.],\n",
       "       [13., 19., 14., 17.,  5., 13.,  5., 11.],\n",
       "       [13., 19.,  6.,  9., 12.,  6.,  5., 13.],\n",
       "       [18., 12.,  7.,  6.,  7.,  4.,  1.,  2.],\n",
       "       [ 9., 19., 16., 11.,  8.,  9.,  1., 12.],\n",
       "       [18., 19.,  9.,  6., 11., 12.,  3.,  6.],\n",
       "       [12., 10.,  6.,  7.,  6.,  0.,  6.,  4.],\n",
       "       [16., 15., 13.,  6., 12.,  9.,  2.,  3.],\n",
       "       [14., 13.,  5.,  3.,  7., 14.,  1.,  5.],\n",
       "       [17., 25., 15., 10., 10., 12., 11., 15.],\n",
       "       [13., 11., 14., 10., 13., 11., 10., 12.],\n",
       "       [18., 12.,  8., 14., 16., 10.,  2., 11.],\n",
       "       [15., 13.,  7.,  7.,  4.,  5.,  3.,  4.],\n",
       "       [20., 18.,  9.,  5.,  4.,  7.,  3.,  8.],\n",
       "       [14., 15., 17.,  4., 14., 13.,  5.,  4.],\n",
       "       [13.,  7.,  6.,  9.,  4.,  7.,  6.,  4.],\n",
       "       [19., 15., 15.,  6.,  8.,  8.,  4.,  5.],\n",
       "       [11.,  8.,  6., 12., 10.,  5.,  2.,  7.],\n",
       "       [10.,  6., 10., 11.,  4.,  5.,  2.,  7.],\n",
       "       [14., 18., 12., 17., 14.,  4.,  2.,  3.],\n",
       "       [15.,  9.,  6.,  7.,  6.,  3.,  1.,  9.],\n",
       "       [16., 13.,  9.,  7., 10.,  6.,  4.,  9.],\n",
       "       [15., 16.,  7., 14.,  4.,  4.,  4., 10.],\n",
       "       [19.,  9., 10.,  6., 13.,  5.,  1.,  6.],\n",
       "       [25., 25.,  5.,  5.,  8., 10.,  3.,  5.],\n",
       "       [18.,  7.,  9., 10.,  4., 12.,  2.,  9.],\n",
       "       [19.,  6.,  4., 11.,  6.,  3.,  6.,  5.],\n",
       "       [12., 16.,  6.,  4., 14.,  3.,  5.,  9.],\n",
       "       [18., 14.,  6., 10.,  7.,  9.,  1.,  5.],\n",
       "       [16., 18.,  5., 14.,  5., 12.,  7.,  8.],\n",
       "       [14.,  9., 11., 10., 10.,  7.,  4.,  8.],\n",
       "       [19., 10.,  8., 13.,  5.,  2.,  5.,  4.],\n",
       "       [10.,  5., 14., 15.,  2.,  7.,  6.,  5.],\n",
       "       [12.,  7., 11.,  7.,  7.,  8.,  3.,  6.],\n",
       "       [16., 10.,  5., 15.,  1.,  4.,  4.,  7.],\n",
       "       [15.,  4.,  5.,  5.,  9.,  4.,  3.,  7.],\n",
       "       [20., 15., 12.,  8.,  9.,  6.,  1.,  5.],\n",
       "       [21., 17.,  9., 11.,  2.,  7.,  5.,  2.],\n",
       "       [15., 25.,  6., 13.,  4.,  2.,  4.,  6.],\n",
       "       [16., 15.,  3., 13.,  5., 12.,  2.,  9.],\n",
       "       [16.,  5.,  8.,  8.,  6.,  9.,  5.,  6.],\n",
       "       [14., 14.,  8., 17.,  4.,  2.,  6.,  7.],\n",
       "       [19., 10.,  5., 10.,  9.,  5.,  4.,  7.],\n",
       "       [18., 13.,  2., 17.,  4.,  9.,  6.,  4.],\n",
       "       [16., 18.,  9.,  9.,  4.,  7.,  5.,  5.]])"
      ]
     },
     "execution_count": 9,
     "metadata": {},
     "output_type": "execute_result"
    }
   ],
   "source": [
    "treatment= pain_data[60:,]\n",
    "treatment"
   ]
  },
  {
   "cell_type": "code",
   "execution_count": null,
   "id": "496b753b",
   "metadata": {
    "deletable": false,
    "editable": false,
    "nbgrader": {
     "cell_type": "code",
     "checksum": "1c3cdfd1fa187ff723b0172d2270d146",
     "grade": true,
     "grade_id": "cell-252c7126f09f9113",
     "locked": true,
     "points": 5,
     "schema_version": 3,
     "solution": false
    }
   },
   "outputs": [],
   "source": [
    "# Tests for Step 3, worth 5 pts\n",
    "assert isinstance(control,np.ndarray)\n",
    "assert isinstance(treatment,np.ndarray)"
   ]
  },
  {
   "cell_type": "code",
   "execution_count": null,
   "id": "b4623b72",
   "metadata": {
    "deletable": false,
    "editable": false,
    "nbgrader": {
     "cell_type": "code",
     "checksum": "b8193904d2270334b77d0e050694040d",
     "grade": true,
     "grade_id": "cell-82b19a656d13da5e",
     "locked": true,
     "points": 5,
     "schema_version": 3,
     "solution": false
    }
   },
   "outputs": [],
   "source": [
    "# Hidden tests for Step 3, worth 5 pts"
   ]
  },
  {
   "cell_type": "markdown",
   "id": "26ccd89a",
   "metadata": {},
   "source": [
    "## Step 4: Create a histogram to compare baseline measures\n",
    "As a first check, we want to make sure that our control and treatment groups have similar baseline distributions. **The first hour of this dataset (the first column) has the baseline values.**\n",
    "\n",
    "To compare our baseline values, generate two side-by-side subplots. The left plot should show a histogram (using `plt.hist()`) of the control group values, the right plot should show a histogram of the treatment group values. **You do not need to add any axis labels or titles to these plots**. \n",
    "\n",
    "Please be sure that you have a `plt.show()` command at the end of your cell.\n",
    "\n",
    "*Note*: This question is manually graded. There is no test cell."
   ]
  },
  {
   "cell_type": "code",
   "execution_count": 11,
   "id": "ff546b07",
   "metadata": {
    "deletable": false,
    "nbgrader": {
     "cell_type": "code",
     "checksum": "31d2956c9234631f8d2ae78c28d95f28",
     "grade": true,
     "grade_id": "cell-c0f932bb6f655aae",
     "locked": false,
     "points": 10,
     "schema_version": 3,
     "solution": true
    }
   },
   "outputs": [
    {
     "data": {
      "image/png": "[encoded data removed]",
      "text/plain": [
       "<Figure size 720x432 with 2 Axes>"
      ]
     },
     "metadata": {
      "needs_background": "light"
     },
     "output_type": "display_data"
    }
   ],
   "source": [
    "fig,ax = plt.subplots(1,2,figsize=(10,6))\n",
    "ax[0].hist(treatment[:,0])\n",
    "\n",
    "plt.show()"
   ]
  },
  {
   "cell_type": "markdown",
   "id": "d15d9914",
   "metadata": {},
   "source": [
    "## Step 5: Generate an average trajectory for each group\n",
    "Next, we'd like to generate an average pain calculation across the entire eight hour period for our control and treatment groups. In other words, what is the average pain trajectory from hours 0 to 7 for each of our groups?\n",
    "\n",
    "Using `np.mean()`, calculate an average value across all control patients and assign it to `control_mean`. Calculate an average value across all treatment patients and assign it to `treatment_mean`. "
   ]
  },
  {
   "cell_type": "code",
   "execution_count": null,
   "id": "3dcbe722",
   "metadata": {
    "deletable": false,
    "nbgrader": {
     "cell_type": "code",
     "checksum": "31775414eba8c74cee4f340d278570f8",
     "grade": false,
     "grade_id": "cell-c553db54a5548b20",
     "locked": false,
     "schema_version": 3,
     "solution": true
    }
   },
   "outputs": [],
   "source": [
    "# YOUR CODE HERE\n",
    "raise NotImplementedError()"
   ]
  },
  {
   "cell_type": "code",
   "execution_count": null,
   "id": "94ab03ad",
   "metadata": {
    "deletable": false,
    "editable": false,
    "nbgrader": {
     "cell_type": "code",
     "checksum": "63efed1039c00488414f3ab0c032581f",
     "grade": true,
     "grade_id": "cell-3e9feb695c4a99ad",
     "locked": true,
     "points": 2,
     "schema_version": 3,
     "solution": false
    }
   },
   "outputs": [],
   "source": [
    "# Tests for step 5, 2 pts\n",
    "assert isinstance(control_mean,np.ndarray)\n",
    "assert isinstance(treatment_mean,np.ndarray)"
   ]
  },
  {
   "cell_type": "code",
   "execution_count": null,
   "id": "77b07049",
   "metadata": {
    "deletable": false,
    "editable": false,
    "nbgrader": {
     "cell_type": "code",
     "checksum": "0b14eab2767704a1f870ddd1ef9c565f",
     "grade": true,
     "grade_id": "cell-1af01308c5e29679",
     "locked": true,
     "points": 4,
     "schema_version": 3,
     "solution": false
    }
   },
   "outputs": [],
   "source": [
    "# Hidden tests for step 5, 4 pts"
   ]
  },
  {
   "cell_type": "code",
   "execution_count": null,
   "id": "ba65fb71",
   "metadata": {
    "deletable": false,
    "editable": false,
    "nbgrader": {
     "cell_type": "code",
     "checksum": "e4a20dcf1b369b54fa651d88831a1b1e",
     "grade": true,
     "grade_id": "cell-19e3b49cf403eb42",
     "locked": true,
     "points": 4,
     "schema_version": 3,
     "solution": false
    }
   },
   "outputs": [],
   "source": [
    "# Hidden tests, part II, 4 pts"
   ]
  },
  {
   "cell_type": "markdown",
   "id": "e583397a",
   "metadata": {
    "deletable": false,
    "editable": false,
    "nbgrader": {
     "cell_type": "markdown",
     "checksum": "1ebccbe96fbb9f1c7f04c04ec07e60cf",
     "grade": false,
     "grade_id": "cell-0b4d1bfa50acfe8c",
     "locked": true,
     "schema_version": 3,
     "solution": false
    }
   },
   "source": [
    "## Step 6: Plot the average trajectory\n",
    "\n",
    "Below, create **one** plot that contains all eight hours of data for your control and treatment groups, plotted as two separate lines.\n",
    "\n",
    "### Tips:\n",
    "* Write two `plt.plot()` lines after one another to draw multiple lines on the same plot. For example:\n",
    "```plt.plot(x)\n",
    "plt.plot(y)\n",
    "```\n",
    "* Create a legend with `plt.legend()`. This function takes one argument that is a list of all of the legend labels. For example:\n",
    "```\n",
    "plt.legend(['x data','y data'])\n",
    "```\n",
    "\n",
    "### Grading:\n",
    "For full credit on this manually graded question, your graph must include:\n",
    "* Two separate lines on one plot that represent the mean pain across eight hours of data for control and treatment groups.\n",
    "* A legend that shows which group is which\n",
    "* An x-axis label `Hour`\n",
    "* A y-axis label `Pain`\n",
    "* A final line with a `plt.show()` command"
   ]
  },
  {
   "cell_type": "code",
   "execution_count": null,
   "id": "004ff987",
   "metadata": {
    "deletable": false,
    "nbgrader": {
     "cell_type": "code",
     "checksum": "1c7bce3fe65e272651f0f42863fb124d",
     "grade": true,
     "grade_id": "cell-b05ab460594cba31",
     "locked": false,
     "points": 15,
     "schema_version": 3,
     "solution": true
    }
   },
   "outputs": [],
   "source": [
    "# YOUR CODE HERE\n",
    "raise NotImplementedError()"
   ]
  },
  {
   "cell_type": "markdown",
   "id": "d9577f96",
   "metadata": {
    "deletable": false,
    "editable": false,
    "nbgrader": {
     "cell_type": "markdown",
     "checksum": "6680198d64beaef493b53c8008e4caad",
     "grade": false,
     "grade_id": "cell-6e6e53d3014ad387",
     "locked": true,
     "schema_version": 3,
     "solution": false
    }
   },
   "source": [
    "## Step 7: Check to see how many patients did not respond to treatment\n",
    "Finally, let's see if there are any patients that did *not* respond to treatment. We will define patients as resistant if their pain rating was 10 or higher throughout the treatment period.\n",
    "\n",
    "Write code below that determines how many of the treatment patients *never* had a pain rating lower than 10 (in other words, their lowest pain was always more than 9) and assigns this to `resistant_patients`.\n",
    "\n",
    "### Tips:\n",
    "* You can calculate the minimum values using `np.min()`.\n",
    "* One way to do this includes a `for` loop that loops through each patient, counting up the `resistant_patients` along the way."
   ]
  },
  {
   "cell_type": "code",
   "execution_count": 8,
   "id": "857e30b8",
   "metadata": {
    "deletable": false,
    "nbgrader": {
     "cell_type": "code",
     "checksum": "4696f3413e8b5be4ab3770e812d5455e",
     "grade": false,
     "grade_id": "cell-e826f777bc010a97",
     "locked": false,
     "schema_version": 3,
     "solution": true
    }
   },
   "outputs": [
    {
     "name": "stdout",
     "output_type": "stream",
     "text": [
      "[ 1.  4.  2.  3.  2.  3.  2. 10.  3.  2.  4.  2.  3.  1.  1.  8.  5.  5.\n",
      "  1.  1.  3.  0.  2.  1. 10. 10.  2.  3.  3.  4.  4.  4.  2.  2.  2.  1.\n",
      "  4.  4.  1.  3.  2.  3.  3.  1.  5.  4.  2.  2.  3.  1.  3.  1.  2.  2.\n",
      "  2.  5.  2.  4.  2.  4.]\n",
      "[10. 10. 10.]\n",
      "3\n"
     ]
    }
   ],
   "source": [
    "treatment_min =np.min(treatment,axis=1)\n",
    "print(treatment_min)\n",
    "resistant = treatment_min[treatment_min>9]\n",
    "print(resistant)\n",
    "resistant_patients = len(resistant)\n",
    "print(resistant_patients)\n"
   ]
  },
  {
   "cell_type": "code",
   "execution_count": null,
   "id": "8ae09b4d",
   "metadata": {
    "deletable": false,
    "editable": false,
    "nbgrader": {
     "cell_type": "code",
     "checksum": "2176eb51989ac544fd2b5f9b2782757f",
     "grade": true,
     "grade_id": "cell-b4521bcecb15a52d",
     "locked": true,
     "points": 5,
     "schema_version": 3,
     "solution": false
    }
   },
   "outputs": [],
   "source": [
    "# Test cell for Step 7 (5 pts)\n",
    "assert isinstance(resistant_patients,int)"
   ]
  },
  {
   "cell_type": "code",
   "execution_count": null,
   "id": "abf952ee",
   "metadata": {
    "deletable": false,
    "editable": false,
    "nbgrader": {
     "cell_type": "code",
     "checksum": "841110a1829e983d59d32230391f1e21",
     "grade": true,
     "grade_id": "cell-919a7c0f516f4aa8",
     "locked": true,
     "points": 5,
     "schema_version": 3,
     "solution": false
    }
   },
   "outputs": [],
   "source": [
    "# Hidden tests for Step 7 (5 pts)\n",
    "# Hidden tests"
   ]
  }
 ],
 "metadata": {
  "kernelspec": {
   "display_name": "Python 3 (ipykernel)",
   "language": "python",
   "name": "python3"
  },
  "language_info": {
   "codemirror_mode": {
    "name": "ipython",
    "version": 3
   },
   "file_extension": ".py",
   "mimetype": "text/x-python",
   "name": "python",
   "nbconvert_exporter": "python",
   "pygments_lexer": "ipython3",
   "version": "3.9.5"
  }
 },
 "nbformat": 4,
 "nbformat_minor": 5
}
