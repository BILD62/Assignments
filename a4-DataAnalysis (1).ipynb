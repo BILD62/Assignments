{
 "cells": [
  {
   "cell_type": "markdown",
   "id": "0398b09a",
   "metadata": {},
   "source": [
    "# Assignment a4\n",
    "In this assignment, you'll work through a dataset that is similar in format to our inflammation dataset. \n",
    "\n",
    "## Step 1: Import the necessary packages\n",
    "\n",
    "Below, import `numpy` as `np` and `matplotlib.pyplot` as `plt`."
   ]
  },
  {
   "cell_type": "code",
   "execution_count": null,
   "id": "fcee25d4",
   "metadata": {
    "deletable": false,
    "nbgrader": {
     "cell_type": "code",
     "checksum": "8f73010434adeaec5882100ffb9a3f72",
     "grade": false,
     "grade_id": "cell-fb75c1baaa034a79",
     "locked": false,
     "schema_version": 3,
     "solution": true
    }
   },
   "outputs": [],
   "source": [
    "# YOUR CODE HERE\n",
    "raise NotImplementedError()"
   ]
  },
  {
   "cell_type": "code",
   "execution_count": null,
   "id": "2e907e2b",
   "metadata": {
    "deletable": false,
    "editable": false,
    "nbgrader": {
     "cell_type": "code",
     "checksum": "b7baa71255b9252d90e44930307fd0ef",
     "grade": true,
     "grade_id": "cell-a663c96201b646a1",
     "locked": true,
     "points": 5,
     "schema_version": 3,
     "solution": false
    }
   },
   "outputs": [],
   "source": [
    "# Tests for Step 1, 5 pts\n",
    "import sys\n",
    "assert 'numpy' in sys.modules\n",
    "assert 'matplotlib.pyplot' in sys.modules"
   ]
  },
  {
   "cell_type": "code",
   "execution_count": null,
   "id": "85bde61d",
   "metadata": {
    "deletable": false,
    "editable": false,
    "nbgrader": {
     "cell_type": "code",
     "checksum": "7065175559e8e517c06f4abc40d292e5",
     "grade": true,
     "grade_id": "cell-9d36a0f8e7172bab",
     "locked": true,
     "points": 5,
     "schema_version": 3,
     "solution": false
    }
   },
   "outputs": [],
   "source": [
    "# Two more tests for Step 1, 5 pts\n",
    "assert 'np' in dir()\n",
    "assert 'plt' in dir()"
   ]
  },
  {
   "cell_type": "markdown",
   "id": "d540bf25",
   "metadata": {},
   "source": [
    "## Step 2: Load our data as a numpy array\n",
    "In the cell below, load our file, called 'pain_data.csv'.\n",
    "\n",
    "1. Assign this array to a variable called `pain_data`.\n",
    "2. Assign the shape of this array to `data_shape`."
   ]
  },
  {
   "cell_type": "code",
   "execution_count": null,
   "id": "73ef1c32",
   "metadata": {
    "deletable": false,
    "nbgrader": {
     "cell_type": "code",
     "checksum": "fd7b85fe5fe8bd60ba1252f9020d97a4",
     "grade": false,
     "grade_id": "cell-e89d8ae3668d086e",
     "locked": false,
     "schema_version": 3,
     "solution": true
    }
   },
   "outputs": [],
   "source": [
    "# YOUR CODE HERE\n",
    "raise NotImplementedError()"
   ]
  },
  {
   "cell_type": "code",
   "execution_count": null,
   "id": "994d8f15",
   "metadata": {
    "deletable": false,
    "editable": false,
    "nbgrader": {
     "cell_type": "code",
     "checksum": "b525ace93ff8799a617c8adc0742e513",
     "grade": true,
     "grade_id": "cell-199dc904caa4e627",
     "locked": true,
     "points": 5,
     "schema_version": 3,
     "solution": false
    }
   },
   "outputs": [],
   "source": [
    "# Tests for Step 2, 5 pts\n",
    "assert isinstance(pain_data,np.ndarray)\n",
    "assert isinstance(data_shape,tuple)"
   ]
  },
  {
   "cell_type": "code",
   "execution_count": null,
   "id": "24b3692d",
   "metadata": {
    "deletable": false,
    "editable": false,
    "nbgrader": {
     "cell_type": "code",
     "checksum": "b9b684ab35e863ad3196f16d8768d000",
     "grade": true,
     "grade_id": "cell-3bc2d88f15ed1161",
     "locked": true,
     "points": 5,
     "schema_version": 3,
     "solution": false
    }
   },
   "outputs": [],
   "source": [
    "# Hidden tests for Step 2, 5 pts"
   ]
  },
  {
   "cell_type": "markdown",
   "id": "4aaf268b",
   "metadata": {
    "deletable": false,
    "editable": false,
    "nbgrader": {
     "cell_type": "markdown",
     "checksum": "3882395962704f6ff8f882a211f7d7ae",
     "grade": false,
     "grade_id": "cell-6cfed90c609c75c3",
     "locked": true,
     "schema_version": 3,
     "solution": false
    }
   },
   "source": [
    "## Step 3: Divide into control and treatment groups\n",
    "In this data set, each row is a patient, and each column is the hour of the test. The first 60 patients (in the first 60 rows) in this study were in the control group. The second group of patients were in a treatment group. Divide `pain_data` into two separate `control` and `treatment` arrays accordingly."
   ]
  },
  {
   "cell_type": "code",
   "execution_count": null,
   "id": "cef28cd1",
   "metadata": {
    "deletable": false,
    "nbgrader": {
     "cell_type": "code",
     "checksum": "ecf4c5dc527b1eb56d7e9cd0924a3099",
     "grade": false,
     "grade_id": "cell-7321442fff968ae4",
     "locked": false,
     "schema_version": 3,
     "solution": true
    }
   },
   "outputs": [],
   "source": [
    "# YOUR CODE HERE\n",
    "raise NotImplementedError()"
   ]
  },
  {
   "cell_type": "code",
   "execution_count": null,
   "id": "496b753b",
   "metadata": {
    "deletable": false,
    "editable": false,
    "nbgrader": {
     "cell_type": "code",
     "checksum": "1c3cdfd1fa187ff723b0172d2270d146",
     "grade": true,
     "grade_id": "cell-252c7126f09f9113",
     "locked": true,
     "points": 5,
     "schema_version": 3,
     "solution": false
    }
   },
   "outputs": [],
   "source": [
    "# Tests for Step 3, worth 5 pts\n",
    "assert isinstance(control,np.ndarray)\n",
    "assert isinstance(treatment,np.ndarray)"
   ]
  },
  {
   "cell_type": "code",
   "execution_count": null,
   "id": "b4623b72",
   "metadata": {
    "deletable": false,
    "editable": false,
    "nbgrader": {
     "cell_type": "code",
     "checksum": "b8193904d2270334b77d0e050694040d",
     "grade": true,
     "grade_id": "cell-82b19a656d13da5e",
     "locked": true,
     "points": 5,
     "schema_version": 3,
     "solution": false
    }
   },
   "outputs": [],
   "source": [
    "# Hidden tests for Step 3, worth 5 pts"
   ]
  },
  {
   "cell_type": "markdown",
   "id": "26ccd89a",
   "metadata": {},
   "source": [
    "## Step 4: Create a histogram to compare baseline measures\n",
    "As a first check, we want to make sure that our control and treatment groups have similar baseline distributions. **The first hour of this dataset (the first column) has the baseline values.**\n",
    "\n",
    "To compare our baseline values, generate two side-by-side subplots. The left plot should show a histogram (using `plt.hist()`) of the control group values, the right plot should show a histogram of the treatment group values. **You do not need to add any axis labels or titles to these plots**. \n",
    "\n",
    "Please be sure that you have a `plt.show()` command at the end of your cell.\n",
    "\n",
    "*Note*: This question is manually graded. There is no test cell."
   ]
  },
  {
   "cell_type": "code",
   "execution_count": null,
   "id": "ff546b07",
   "metadata": {
    "deletable": false,
    "nbgrader": {
     "cell_type": "code",
     "checksum": "31d2956c9234631f8d2ae78c28d95f28",
     "grade": true,
     "grade_id": "cell-c0f932bb6f655aae",
     "locked": false,
     "points": 10,
     "schema_version": 3,
     "solution": true
    }
   },
   "outputs": [],
   "source": [
    "# YOUR CODE HERE\n",
    "raise NotImplementedError()"
   ]
  },
  {
   "cell_type": "markdown",
   "id": "d15d9914",
   "metadata": {},
   "source": [
    "## Step 5: Generate an average trajectory for each group\n",
    "Next, we'd like to generate an average pain calculation across the entire eight hour period for our control and treatment groups. In other words, what is the average pain trajectory from hours 0 to 7 for each of our groups?\n",
    "\n",
    "Using `np.mean()`, calculate an average value across all control patients and assign it to `control_mean`. Calculate an average value across all treatment patients and assign it to `treatment_mean`. "
   ]
  },
  {
   "cell_type": "code",
   "execution_count": null,
   "id": "3dcbe722",
   "metadata": {
    "deletable": false,
    "nbgrader": {
     "cell_type": "code",
     "checksum": "31775414eba8c74cee4f340d278570f8",
     "grade": false,
     "grade_id": "cell-c553db54a5548b20",
     "locked": false,
     "schema_version": 3,
     "solution": true
    }
   },
   "outputs": [],
   "source": [
    "# YOUR CODE HERE\n",
    "raise NotImplementedError()"
   ]
  },
  {
   "cell_type": "code",
   "execution_count": null,
   "id": "94ab03ad",
   "metadata": {
    "deletable": false,
    "editable": false,
    "nbgrader": {
     "cell_type": "code",
     "checksum": "63efed1039c00488414f3ab0c032581f",
     "grade": true,
     "grade_id": "cell-3e9feb695c4a99ad",
     "locked": true,
     "points": 2,
     "schema_version": 3,
     "solution": false
    }
   },
   "outputs": [],
   "source": [
    "# Tests for step 5, 2 pts\n",
    "assert isinstance(control_mean,np.ndarray)\n",
    "assert isinstance(treatment_mean,np.ndarray)"
   ]
  },
  {
   "cell_type": "code",
   "execution_count": null,
   "id": "77b07049",
   "metadata": {
    "deletable": false,
    "editable": false,
    "nbgrader": {
     "cell_type": "code",
     "checksum": "0b14eab2767704a1f870ddd1ef9c565f",
     "grade": true,
     "grade_id": "cell-1af01308c5e29679",
     "locked": true,
     "points": 4,
     "schema_version": 3,
     "solution": false
    }
   },
   "outputs": [],
   "source": [
    "# Hidden tests for step 5, 4 pts"
   ]
  },
  {
   "cell_type": "code",
   "execution_count": null,
   "id": "ba65fb71",
   "metadata": {
    "deletable": false,
    "editable": false,
    "nbgrader": {
     "cell_type": "code",
     "checksum": "e4a20dcf1b369b54fa651d88831a1b1e",
     "grade": true,
     "grade_id": "cell-19e3b49cf403eb42",
     "locked": true,
     "points": 4,
     "schema_version": 3,
     "solution": false
    }
   },
   "outputs": [],
   "source": [
    "# Hidden tests, part II, 4 pts"
   ]
  },
  {
   "cell_type": "markdown",
   "id": "e583397a",
   "metadata": {
    "deletable": false,
    "editable": false,
    "nbgrader": {
     "cell_type": "markdown",
     "checksum": "1ebccbe96fbb9f1c7f04c04ec07e60cf",
     "grade": false,
     "grade_id": "cell-0b4d1bfa50acfe8c",
     "locked": true,
     "schema_version": 3,
     "solution": false
    }
   },
   "source": [
    "## Step 6: Plot the average trajectory\n",
    "\n",
    "Below, create **one** plot that contains all eight hours of data for your control and treatment groups, plotted as two separate lines.\n",
    "\n",
    "### Tips:\n",
    "* Write two `plt.plot()` lines after one another to draw multiple lines on the same plot. For example:\n",
    "```plt.plot(x)\n",
    "plt.plot(y)\n",
    "```\n",
    "* Create a legend with `plt.legend()`. This function takes one argument that is a list of all of the legend labels. For example:\n",
    "```\n",
    "plt.legend(['x data','y data'])\n",
    "```\n",
    "\n",
    "### Grading:\n",
    "For full credit on this manually graded question, your graph must include:\n",
    "* Two separate lines on one plot that represent the mean pain across eight hours of data for control and treatment groups.\n",
    "* A legend that shows which group is which\n",
    "* An x-axis label `Hour`\n",
    "* A y-axis label `Pain`\n",
    "* A final line with a `plt.show()` command"
   ]
  },
  {
   "cell_type": "code",
   "execution_count": null,
   "id": "004ff987",
   "metadata": {
    "deletable": false,
    "nbgrader": {
     "cell_type": "code",
     "checksum": "1c7bce3fe65e272651f0f42863fb124d",
     "grade": true,
     "grade_id": "cell-b05ab460594cba31",
     "locked": false,
     "points": 15,
     "schema_version": 3,
     "solution": true
    }
   },
   "outputs": [],
   "source": [
    "# YOUR CODE HERE\n",
    "raise NotImplementedError()"
   ]
  },
  {
   "cell_type": "markdown",
   "id": "d9577f96",
   "metadata": {
    "deletable": false,
    "editable": false,
    "nbgrader": {
     "cell_type": "markdown",
     "checksum": "6680198d64beaef493b53c8008e4caad",
     "grade": false,
     "grade_id": "cell-6e6e53d3014ad387",
     "locked": true,
     "schema_version": 3,
     "solution": false
    }
   },
   "source": [
    "## Step 7: Check to see how many patients did not respond to treatment\n",
    "Finally, let's see if there are any patients that did *not* respond to treatment. We will define patients as resistant if their pain rating was 10 or higher throughout the treatment period.\n",
    "\n",
    "Write code below that determines how many of the treatment patients *never* had a pain rating lower than 10 (in other words, their lowest pain was always more than 9) and assigns this to `resistant_patients`.\n",
    "\n",
    "### Tips:\n",
    "* You can calculate the minimum values using `np.min()`.\n",
    "* One way to do this includes a `for` loop that loops through each patient, counting up the `resistant_patients` along the way."
   ]
  },
  {
   "cell_type": "code",
   "execution_count": null,
   "id": "857e30b8",
   "metadata": {
    "deletable": false,
    "nbgrader": {
     "cell_type": "code",
     "checksum": "4696f3413e8b5be4ab3770e812d5455e",
     "grade": false,
     "grade_id": "cell-e826f777bc010a97",
     "locked": false,
     "schema_version": 3,
     "solution": true
    }
   },
   "outputs": [],
   "source": [
    "# YOUR CODE HERE\n",
    "raise NotImplementedError()"
   ]
  },
  {
   "cell_type": "code",
   "execution_count": null,
   "id": "8ae09b4d",
   "metadata": {
    "deletable": false,
    "editable": false,
    "nbgrader": {
     "cell_type": "code",
     "checksum": "2176eb51989ac544fd2b5f9b2782757f",
     "grade": true,
     "grade_id": "cell-b4521bcecb15a52d",
     "locked": true,
     "points": 5,
     "schema_version": 3,
     "solution": false
    }
   },
   "outputs": [],
   "source": [
    "# Test cell for Step 7 (5 pts)\n",
    "assert isinstance(resistant_patients,int)"
   ]
  },
  {
   "cell_type": "code",
   "execution_count": null,
   "id": "abf952ee",
   "metadata": {
    "deletable": false,
    "editable": false,
    "nbgrader": {
     "cell_type": "code",
     "checksum": "841110a1829e983d59d32230391f1e21",
     "grade": true,
     "grade_id": "cell-919a7c0f516f4aa8",
     "locked": true,
     "points": 5,
     "schema_version": 3,
     "solution": false
    }
   },
   "outputs": [],
   "source": [
    "# Hidden tests for Step 7 (5 pts)\n",
    "# Hidden tests"
   ]
  }
 ],
 "metadata": {
  "kernelspec": {
   "display_name": "Python 3 (ipykernel)",
   "language": "python",
   "name": "python3"
  },
  "language_info": {
   "codemirror_mode": {
    "name": "ipython",
    "version": 3
   },
   "file_extension": ".py",
   "mimetype": "text/x-python",
   "name": "python",
   "nbconvert_exporter": "python",
   "pygments_lexer": "ipython3",
   "version": "3.9.5"
  }
 },
 "nbformat": 4,
 "nbformat_minor": 5
}
