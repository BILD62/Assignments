{
 "cells": [
  {
   "cell_type": "markdown",
   "id": "5954a586",
   "metadata": {
    "deletable": false,
    "editable": false,
    "nbgrader": {
     "cell_type": "markdown",
     "checksum": "fbcef39d2ad8f3f2b54be2a9173c07db",
     "grade": false,
     "grade_id": "cell-8f23a851521dd686",
     "locked": true,
     "schema_version": 3,
     "solution": false,
     "task": false
    }
   },
   "source": [
    "# Assignment a3\n",
    "\n",
    "## Q1\n",
    "\n",
    "Write a `while` loop that takes a number and continues to subtract 7 from it, until `number` is **negative** (note that 0 is not negative). The loop should start with `number = 21` (provided for you) and include a `counter` which counts how many times the loop executes."
   ]
  },
  {
   "cell_type": "code",
   "execution_count": null,
   "id": "564c7285",
   "metadata": {
    "deletable": false,
    "nbgrader": {
     "cell_type": "code",
     "checksum": "03824b812c2c843bbdd06acafaebe7cc",
     "grade": false,
     "grade_id": "cell-98a8ccfa9b2e1fce",
     "locked": false,
     "schema_version": 3,
     "solution": true,
     "task": false
    }
   },
   "outputs": [],
   "source": [
    "number = 21\n",
    "\n",
    "# YOUR CODE HERE\n",
    "raise NotImplementedError()"
   ]
  },
  {
   "cell_type": "code",
   "execution_count": null,
   "id": "dce71691",
   "metadata": {
    "deletable": false,
    "editable": false,
    "nbgrader": {
     "cell_type": "code",
     "checksum": "a126e908c0215a2f72889fc4f888ac18",
     "grade": true,
     "grade_id": "cell-786293d03fb8406b",
     "locked": true,
     "points": 3,
     "schema_version": 3,
     "solution": false,
     "task": false
    }
   },
   "outputs": [],
   "source": [
    "# Tests for Q1, worth 11 points. Note: hidden tests below.\n",
    "assert isinstance(number, int)\n",
    "assert isinstance(counter, int)"
   ]
  },
  {
   "cell_type": "code",
   "execution_count": null,
   "id": "d4be4d01-6aa8-482a-89fb-589257815cda",
   "metadata": {
    "deletable": false,
    "editable": false,
    "nbgrader": {
     "cell_type": "code",
     "checksum": "327ea97b9b0daeaa6272e4bfa32c60d3",
     "grade": true,
     "grade_id": "cell-4ef1ad8ddffdf312",
     "locked": true,
     "points": 4,
     "schema_version": 3,
     "solution": false,
     "task": false
    }
   },
   "outputs": [],
   "source": [
    "# First hidden test cell for Q1"
   ]
  },
  {
   "cell_type": "code",
   "execution_count": null,
   "id": "ed382ea4",
   "metadata": {
    "deletable": false,
    "editable": false,
    "nbgrader": {
     "cell_type": "code",
     "checksum": "9efa73dc6d54a031f5331c23959b4a71",
     "grade": true,
     "grade_id": "cell-b194e3d47aa026f1",
     "locked": true,
     "points": 4,
     "schema_version": 3,
     "solution": false,
     "task": false
    }
   },
   "outputs": [],
   "source": [
    "# Second hidden test cell for Q1"
   ]
  },
  {
   "cell_type": "markdown",
   "id": "70d51965",
   "metadata": {
    "deletable": false,
    "editable": false,
    "nbgrader": {
     "cell_type": "markdown",
     "checksum": "c0c3c1f63d2355f6aae875278bdb6a30",
     "grade": false,
     "grade_id": "cell-e18ae0c3c25492c8",
     "locked": true,
     "schema_version": 3,
     "solution": false,
     "task": false
    }
   },
   "source": [
    "## Q2\n",
    "In this question, we'll deepen our understanding of mutability in lists. \n",
    "\n",
    "1. Create a list of three animals (**bear, monkey, zebra**) and assign it to `zoo`.\n",
    "2. Assign `zoo` to `zoo_alias`.\n",
    "3. Change the first item in `zoo` to **tiger**.\n",
    "4. Change the third item in `zoo_alias` to **lion**.\n",
    "5. Use a membership operator to test whether **lion** is in `zoo`. Assign this as a boolean to `has_lions`. "
   ]
  },
  {
   "cell_type": "code",
   "execution_count": null,
   "id": "97f937d7",
   "metadata": {
    "deletable": false,
    "nbgrader": {
     "cell_type": "code",
     "checksum": "cd3c57339c66ce15e8750852110b3acb",
     "grade": false,
     "grade_id": "cell-ed5b1ad32cd07039",
     "locked": false,
     "schema_version": 3,
     "solution": true,
     "task": false
    }
   },
   "outputs": [],
   "source": [
    "# YOUR CODE HERE\n",
    "raise NotImplementedError()"
   ]
  },
  {
   "cell_type": "code",
   "execution_count": null,
   "id": "915adf47",
   "metadata": {
    "deletable": false,
    "editable": false,
    "nbgrader": {
     "cell_type": "code",
     "checksum": "b7a0b06cb04fdda848cb808dc3ac26ee",
     "grade": true,
     "grade_id": "cell-8678b95de5e898f0",
     "locked": true,
     "points": 3,
     "schema_version": 3,
     "solution": false,
     "task": false
    }
   },
   "outputs": [],
   "source": [
    "# Tests for Q2, worth 11 points. Note: hidden tests.\n",
    "assert isinstance(zoo, list)\n",
    "assert isinstance(zoo_alias, list)\n",
    "assert isinstance(has_lions,bool)"
   ]
  },
  {
   "cell_type": "code",
   "execution_count": null,
   "id": "0d9c7450-f73a-481a-8936-03e99d9010c4",
   "metadata": {
    "deletable": false,
    "editable": false,
    "nbgrader": {
     "cell_type": "code",
     "checksum": "b8f1ce5c46c09935272c6753334fc286",
     "grade": true,
     "grade_id": "cell-3554c5a0a624cdbd",
     "locked": true,
     "points": 4,
     "schema_version": 3,
     "solution": false,
     "task": false
    }
   },
   "outputs": [],
   "source": []
  },
  {
   "cell_type": "code",
   "execution_count": null,
   "id": "8fab86a0",
   "metadata": {
    "deletable": false,
    "editable": false,
    "nbgrader": {
     "cell_type": "code",
     "checksum": "30effe3ed68fe73fa9971db6dfc08291",
     "grade": true,
     "grade_id": "cell-ced1b5006860c6b2",
     "locked": true,
     "points": 4,
     "schema_version": 3,
     "solution": false,
     "task": false
    }
   },
   "outputs": [],
   "source": [
    "# Second hidden test cell for Q2"
   ]
  },
  {
   "cell_type": "markdown",
   "id": "56a2cb65",
   "metadata": {},
   "source": [
    "## Q3\n",
    "### Zoo inventory\n",
    "\n",
    "Given the zoo composition below (be sure to run the cell below), write a code snippet that creates a dictionary containing each type of animal and how many there are. In other words, the keys in the dictionary should be the animals, and the values should be the animal count. Call the dictionary `zoo_counts`.\n",
    "\n",
    "**Hints**:\n",
    "* You can create an empty dictionary using empty brackets.\n",
    "* You can check if a dictionary already has a key using a membership operator *or* you can find unique values in a list by converting it to an array and using `np.unique()`.\n",
    "* You can refer to a specific value in the dictionary using the syntax `dictionary_name[key_name]`. For example, if the dictionary is called `zoo_counts` and you are trying to access the value assigned to tiger, you would use the notation `zoo_counts['tiger']`."
   ]
  },
  {
   "cell_type": "code",
   "execution_count": null,
   "id": "c18d4357",
   "metadata": {},
   "outputs": [],
   "source": [
    "# Run this cell to establish the zoo\n",
    "sandiego_zoo = ['tiger','monkey','lion','lion','bear','monkey','monkey','monkey','tiger','monkey','monkey']"
   ]
  },
  {
   "cell_type": "code",
   "execution_count": null,
   "id": "58eeaf07",
   "metadata": {
    "deletable": false,
    "nbgrader": {
     "cell_type": "code",
     "checksum": "1497c6055f38dc244b53e4e933fcede4",
     "grade": false,
     "grade_id": "cell-2e43c6efad974686",
     "locked": false,
     "schema_version": 3,
     "solution": true,
     "task": false
    }
   },
   "outputs": [],
   "source": [
    "# YOUR CODE HERE\n",
    "raise NotImplementedError()"
   ]
  },
  {
   "cell_type": "code",
   "execution_count": null,
   "id": "91c758d6",
   "metadata": {
    "deletable": false,
    "editable": false,
    "nbgrader": {
     "cell_type": "code",
     "checksum": "b71c4afda6fa1df7083d7ef72c44774a",
     "grade": true,
     "grade_id": "cell-06e0be1892515253",
     "locked": true,
     "points": 2,
     "schema_version": 3,
     "solution": false,
     "task": false
    }
   },
   "outputs": [],
   "source": [
    "# Tests for Q3, worth 9 points. Note: hidden tests.\n",
    "assert isinstance(zoo_counts, dict)"
   ]
  },
  {
   "cell_type": "code",
   "execution_count": null,
   "id": "718f15fc-c4af-4a42-9262-3ee44b911dbc",
   "metadata": {
    "deletable": false,
    "editable": false,
    "nbgrader": {
     "cell_type": "code",
     "checksum": "e8d427de060a8517977828073e3fd6db",
     "grade": true,
     "grade_id": "cell-a81a77e1fc39c625",
     "locked": true,
     "points": 3,
     "schema_version": 3,
     "solution": false,
     "task": false
    }
   },
   "outputs": [],
   "source": [
    "# Q3 hidden test cell #1"
   ]
  },
  {
   "cell_type": "code",
   "execution_count": null,
   "id": "804d085c",
   "metadata": {
    "deletable": false,
    "editable": false,
    "nbgrader": {
     "cell_type": "code",
     "checksum": "b05ede11ac891c81c6e24f664badcef1",
     "grade": true,
     "grade_id": "cell-ab2e051b05ab4142",
     "locked": true,
     "points": 4,
     "schema_version": 3,
     "solution": false,
     "task": false
    }
   },
   "outputs": [],
   "source": [
    "# Q3 hidden test cell #2"
   ]
  },
  {
   "cell_type": "markdown",
   "id": "648299e3",
   "metadata": {
    "deletable": false,
    "editable": false,
    "nbgrader": {
     "cell_type": "markdown",
     "checksum": "968f8af6d9f4e48d1fbbdd7232bb2281",
     "grade": false,
     "grade_id": "cell-031f24a476521235",
     "locked": true,
     "schema_version": 3,
     "solution": false,
     "task": false
    }
   },
   "source": [
    "## Q4a\n",
    "\n",
    "### Create a burrito class\n",
    "\n",
    "Create a class called `Burrito`. This `Burrito` class should have:\n",
    "\n",
    "1. An instance-specific attribute, (`contents`) that is a list of contents in the burrito. For example, when you create a new burrito, you will need to provide a list of contents:\n",
    "```\n",
    "  my_burrito = Burrito(['lettuce','fries','steak'])\n",
    "```\n",
    "and this will update the `contents` attribute.\n",
    "\n",
    "2. A second instance-specific attribute (`is_california`) that is a **boolean** that indicates if the burrito is a california burrito (in other words, if it has **fries** in it!).\n",
    "3. A method, (`add_fries`). If there were not already fries in the contents list, this method should add **fries** to the list of `contents` *and* update `is_california` to be true."
   ]
  },
  {
   "cell_type": "code",
   "execution_count": null,
   "id": "b9e46254",
   "metadata": {
    "deletable": false,
    "nbgrader": {
     "cell_type": "code",
     "checksum": "2284a494445b8001759777f9db138e13",
     "grade": false,
     "grade_id": "cell-5a64823b63dd8ffc",
     "locked": false,
     "schema_version": 3,
     "solution": true,
     "task": false
    }
   },
   "outputs": [],
   "source": [
    "# YOUR CODE HERE\n",
    "raise NotImplementedError()"
   ]
  },
  {
   "cell_type": "code",
   "execution_count": null,
   "id": "c8903b18",
   "metadata": {
    "deletable": false,
    "editable": false,
    "nbgrader": {
     "cell_type": "code",
     "checksum": "cbe16a2ff5cbaa46388f6e005e41554c",
     "grade": true,
     "grade_id": "cell-acdd925ced2eeb3b",
     "locked": true,
     "points": 3,
     "schema_version": 3,
     "solution": false,
     "task": false
    }
   },
   "outputs": [],
   "source": [
    "# Tests for Q5, worth 6 points.\n",
    "import inspect\n",
    "assert inspect.isclass(Burrito) #Checks if burrito is a class"
   ]
  },
  {
   "cell_type": "code",
   "execution_count": null,
   "id": "e98754f9",
   "metadata": {
    "deletable": false,
    "editable": false,
    "nbgrader": {
     "cell_type": "code",
     "checksum": "2077078874a64d94de331d4638c64ee6",
     "grade": true,
     "grade_id": "cell-7367e30633361953",
     "locked": true,
     "points": 3,
     "schema_version": 3,
     "solution": false,
     "task": false
    }
   },
   "outputs": [],
   "source": [
    "# Second (hidden) test cell for Q5"
   ]
  },
  {
   "cell_type": "markdown",
   "id": "bbde1452",
   "metadata": {
    "deletable": false,
    "editable": false,
    "nbgrader": {
     "cell_type": "markdown",
     "checksum": "5208759b816a83b6762c90824c754fbd",
     "grade": false,
     "grade_id": "cell-e998efbffb529163",
     "locked": true,
     "schema_version": 3,
     "solution": false,
     "task": false
    }
   },
   "source": [
    "## Q4b\n",
    "### Create an instance of your burrito class\n",
    "\n",
    "Below, create an instance of your burrito class called `favorite_burrito` with your **three** favorite ingredients (anything will work!)"
   ]
  },
  {
   "cell_type": "code",
   "execution_count": null,
   "id": "07331cdf",
   "metadata": {
    "deletable": false,
    "nbgrader": {
     "cell_type": "code",
     "checksum": "4e7c27f64f4acd606278d44b4e2b67f1",
     "grade": false,
     "grade_id": "cell-026003a769ec5776",
     "locked": false,
     "schema_version": 3,
     "solution": true,
     "task": false
    }
   },
   "outputs": [],
   "source": [
    "# YOUR CODE HERE\n",
    "raise NotImplementedError()"
   ]
  },
  {
   "cell_type": "code",
   "execution_count": null,
   "id": "bfebf8ef",
   "metadata": {
    "deletable": false,
    "editable": false,
    "nbgrader": {
     "cell_type": "code",
     "checksum": "ef1154d2884edf6f6d77c686ba6e6117",
     "grade": true,
     "grade_id": "cell-fb0ec96a89994593",
     "locked": true,
     "points": 3,
     "schema_version": 3,
     "solution": false,
     "task": false
    }
   },
   "outputs": [],
   "source": [
    "# Tests for Q5b, worth 7 points. Note: hidden tests.\n",
    "assert len(favorite_burrito.contents) == 3"
   ]
  },
  {
   "cell_type": "code",
   "execution_count": null,
   "id": "e40a7eb2",
   "metadata": {
    "deletable": false,
    "editable": false,
    "nbgrader": {
     "cell_type": "code",
     "checksum": "27905e51334d8a961bb5799d6dccd456",
     "grade": true,
     "grade_id": "cell-a7773ff181fa8041",
     "locked": true,
     "points": 4,
     "schema_version": 3,
     "solution": false,
     "task": false
    }
   },
   "outputs": [],
   "source": [
    "# Q5b hidden test cell"
   ]
  },
  {
   "cell_type": "markdown",
   "id": "f04ffb6f",
   "metadata": {
    "deletable": false,
    "editable": false,
    "nbgrader": {
     "cell_type": "markdown",
     "checksum": "7e4483a05c22dc8881fc84ac7144183c",
     "grade": false,
     "grade_id": "cell-cc7c0e3293b98f19",
     "locked": true,
     "schema_version": 3,
     "solution": false,
     "task": false
    }
   },
   "source": [
    "## Q4c\n",
    "### Test `add_fries` method.\n",
    "Test your add fries method below."
   ]
  },
  {
   "cell_type": "code",
   "execution_count": null,
   "id": "d5127057",
   "metadata": {
    "deletable": false,
    "nbgrader": {
     "cell_type": "code",
     "checksum": "ad9ea4c4f20e96af91c4631587aaad25",
     "grade": false,
     "grade_id": "cell-78cefe7646d503ad",
     "locked": false,
     "schema_version": 3,
     "solution": true,
     "task": false
    }
   },
   "outputs": [],
   "source": [
    "# YOUR CODE HERE\n",
    "raise NotImplementedError()"
   ]
  },
  {
   "cell_type": "code",
   "execution_count": null,
   "id": "712445ea",
   "metadata": {
    "deletable": false,
    "editable": false,
    "nbgrader": {
     "cell_type": "code",
     "checksum": "d2a3246b4ec0e7f6924721dc66e3312e",
     "grade": true,
     "grade_id": "cell-1aa9b59a88a6d2b2",
     "locked": true,
     "points": 2,
     "schema_version": 3,
     "solution": false,
     "task": false
    }
   },
   "outputs": [],
   "source": [
    "# Tests for Q5c, worth 6 points.\n",
    "assert 'fries' in favorite_burrito.contents"
   ]
  },
  {
   "cell_type": "code",
   "execution_count": null,
   "id": "0b272bce-6a9d-449a-8710-2f8e33e8e375",
   "metadata": {
    "deletable": false,
    "editable": false,
    "nbgrader": {
     "cell_type": "code",
     "checksum": "bfe082ed31e12af26ca6eebabd444200",
     "grade": true,
     "grade_id": "cell-4e7d68e05cc8928b",
     "locked": true,
     "points": 4,
     "schema_version": 3,
     "solution": false,
     "task": false
    }
   },
   "outputs": [],
   "source": [
    "# Second (hidden) test cell"
   ]
  }
 ],
 "metadata": {
  "kernelspec": {
   "display_name": "Python 3 (ipykernel)",
   "language": "python",
   "name": "python3"
  },
  "language_info": {
   "codemirror_mode": {
    "name": "ipython",
    "version": 3
   },
   "file_extension": ".py",
   "mimetype": "text/x-python",
   "name": "python",
   "nbconvert_exporter": "python",
   "pygments_lexer": "ipython3",
   "version": "3.11.9"
  }
 },
 "nbformat": 4,
 "nbformat_minor": 5
}
