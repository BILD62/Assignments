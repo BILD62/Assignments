{
 "cells": [
  {
   "cell_type": "markdown",
   "id": "5954a586",
   "metadata": {
    "deletable": false,
    "editable": false,
    "nbgrader": {
     "cell_type": "markdown",
     "checksum": "fbcef39d2ad8f3f2b54be2a9173c07db",
     "grade": false,
     "grade_id": "cell-8f23a851521dd686",
     "locked": true,
     "schema_version": 3,
     "solution": false,
     "task": false
    }
   },
   "source": [
    "# Assignment a3\n",
    "\n",
    "## Q1\n",
    "\n",
    "Write a `while` loop that takes a number and continues to subtract 7 from it, until `number` is **negative** (note that 0 is not negative). The loop should start with `number = 21` (provided for you) and include a `counter` which counts how many times the loop executes."
   ]
  },
  {
   "cell_type": "code",
   "execution_count": null,
   "id": "564c7285",
   "metadata": {
    "deletable": false,
    "nbgrader": {
     "cell_type": "code",
     "checksum": "03824b812c2c843bbdd06acafaebe7cc",
     "grade": false,
     "grade_id": "cell-98a8ccfa9b2e1fce",
     "locked": false,
     "schema_version": 3,
     "solution": true,
     "task": false
    }
   },
   "outputs": [],
   "source": [
    "number = 21\n",
    "\n",
    "# YOUR CODE HERE\n",
    "raise NotImplementedError()"
   ]
  },
  {
   "cell_type": "code",
   "execution_count": null,
   "id": "dce71691",
   "metadata": {
    "deletable": false,
    "editable": false,
    "nbgrader": {
     "cell_type": "code",
     "checksum": "a06407b2a4f124c7017362cabf7a4135",
     "grade": true,
     "grade_id": "cell-786293d03fb8406b",
     "locked": true,
     "points": 5,
     "schema_version": 3,
     "solution": false,
     "task": false
    }
   },
   "outputs": [],
   "source": [
    "# Tests for Q1, worth 2 points.\n",
    "assert isinstance(number, int)\n",
    "assert isinstance(counter, int)"
   ]
  },
  {
   "cell_type": "code",
   "execution_count": null,
   "id": "ce5f5bc1",
   "metadata": {
    "deletable": false,
    "editable": false,
    "nbgrader": {
     "cell_type": "code",
     "checksum": "c34f602de4bfbef9d97ab232ec438c79",
     "grade": true,
     "grade_id": "cell-10c81f3ad5dad643",
     "locked": true,
     "points": 2.5,
     "schema_version": 3,
     "solution": false
    }
   },
   "outputs": [],
   "source": [
    "# Tests for Q1, worth 2.5 points."
   ]
  },
  {
   "cell_type": "code",
   "execution_count": null,
   "id": "ed382ea4",
   "metadata": {
    "deletable": false,
    "editable": false,
    "nbgrader": {
     "cell_type": "code",
     "checksum": "022ef1a156dd5eedb392f098b7ca8a32",
     "grade": true,
     "grade_id": "cell-b194e3d47aa026f1",
     "locked": true,
     "points": 2.5,
     "schema_version": 3,
     "solution": false,
     "task": false
    }
   },
   "outputs": [],
   "source": [
    "# Second hidden test cell for Q1, worth 2.5 points."
   ]
  },
  {
   "cell_type": "markdown",
   "id": "70d51965",
   "metadata": {
    "deletable": false,
    "editable": false,
    "nbgrader": {
     "cell_type": "markdown",
     "checksum": "c0c3c1f63d2355f6aae875278bdb6a30",
     "grade": false,
     "grade_id": "cell-e18ae0c3c25492c8",
     "locked": true,
     "schema_version": 3,
     "solution": false,
     "task": false
    }
   },
   "source": [
    "## Q2\n",
    "In this question, we'll deepen our understanding of mutability in lists. \n",
    "\n",
    "1. Create a list of three animals (**bear, monkey, zebra**) and assign it to `zoo`.\n",
    "2. Assign `zoo` to `zoo_alias`.\n",
    "3. Change the first item in `zoo` to **tiger**.\n",
    "4. Change the third item in `zoo_alias` to **lion**.\n",
    "5. Use a membership operator to test whether **lion** is in `zoo`. Assign this as a boolean to `has_lions`. "
   ]
  },
  {
   "cell_type": "code",
   "execution_count": null,
   "id": "97f937d7",
   "metadata": {
    "deletable": false,
    "nbgrader": {
     "cell_type": "code",
     "checksum": "cd3c57339c66ce15e8750852110b3acb",
     "grade": false,
     "grade_id": "cell-ed5b1ad32cd07039",
     "locked": false,
     "schema_version": 3,
     "solution": true,
     "task": false
    }
   },
   "outputs": [],
   "source": [
    "# YOUR CODE HERE\n",
    "raise NotImplementedError()"
   ]
  },
  {
   "cell_type": "code",
   "execution_count": null,
   "id": "915adf47",
   "metadata": {
    "deletable": false,
    "editable": false,
    "nbgrader": {
     "cell_type": "code",
     "checksum": "65722b442f1da5f2253cb99d1aba2435",
     "grade": true,
     "grade_id": "cell-8678b95de5e898f0",
     "locked": true,
     "points": 2,
     "schema_version": 3,
     "solution": false,
     "task": false
    }
   },
   "outputs": [],
   "source": [
    "# Tests for Q2, worth 2 points\n",
    "\n",
    "assert isinstance(zoo, list)\n",
    "assert isinstance(zoo_alias, list)\n",
    "assert isinstance(has_lions,bool)"
   ]
  },
  {
   "cell_type": "code",
   "execution_count": null,
   "id": "5c11ad8f",
   "metadata": {
    "deletable": false,
    "editable": false,
    "nbgrader": {
     "cell_type": "code",
     "checksum": "9121be08b23e3761fcc62466460d9c3a",
     "grade": true,
     "grade_id": "cell-6108b1a6f08829ca",
     "locked": true,
     "points": 2,
     "schema_version": 3,
     "solution": false
    }
   },
   "outputs": [],
   "source": [
    "# Hidden tests for Q2, worth 2 points."
   ]
  },
  {
   "cell_type": "code",
   "execution_count": null,
   "id": "8fab86a0",
   "metadata": {
    "deletable": false,
    "editable": false,
    "nbgrader": {
     "cell_type": "code",
     "checksum": "98abee42268d2e3e01fed29693fd79c7",
     "grade": true,
     "grade_id": "cell-ced1b5006860c6b2",
     "locked": true,
     "points": 2,
     "schema_version": 3,
     "solution": false,
     "task": false
    }
   },
   "outputs": [],
   "source": [
    "# Second hidden test cell for Q2, worth 2 points."
   ]
  },
  {
   "cell_type": "markdown",
   "id": "56a2cb65",
   "metadata": {
    "deletable": false,
    "editable": false,
    "nbgrader": {
     "cell_type": "markdown",
     "checksum": "c70c3a8fdf81601531965753122305a7",
     "grade": false,
     "grade_id": "cell-8d1a00237b6dc6b0",
     "locked": true,
     "schema_version": 3,
     "solution": false
    }
   },
   "source": [
    "## Q3\n",
    "### Zoo inventory\n",
    "\n",
    "Given the zoo composition below (be sure to run the cell below), write a code snippet that creates a dictionary containing each type of animal and how many there are. In other words, the keys in the dictionary should be the animals, and the values should be the animal count. Call the dictionary `zoo_counts`.\n",
    "\n",
    "**Hints**:\n",
    "* You can create an empty dictionary using empty brackets.\n",
    "* You can check if a dictionary already has a key using a membership operator *or* you can find unique values in a list by converting it to an array and using `np.unique()`."
   ]
  },
  {
   "cell_type": "code",
   "execution_count": null,
   "id": "c18d4357",
   "metadata": {},
   "outputs": [],
   "source": [
    "# Run this cell to establish the zoo\n",
    "sandiego_zoo = ['tiger','monkey','lion','lion','bear','monkey','monkey','monkey','tiger','monkey','monkey']"
   ]
  },
  {
   "cell_type": "code",
   "execution_count": null,
   "id": "58eeaf07",
   "metadata": {
    "deletable": false,
    "nbgrader": {
     "cell_type": "code",
     "checksum": "1497c6055f38dc244b53e4e933fcede4",
     "grade": false,
     "grade_id": "cell-2e43c6efad974686",
     "locked": false,
     "schema_version": 3,
     "solution": true,
     "task": false
    }
   },
   "outputs": [],
   "source": [
    "# YOUR CODE HERE\n",
    "raise NotImplementedError()"
   ]
  },
  {
   "cell_type": "code",
   "execution_count": null,
   "id": "91c758d6",
   "metadata": {
    "deletable": false,
    "editable": false,
    "nbgrader": {
     "cell_type": "code",
     "checksum": "da9fd59fc6c1443233ca7eef30ab5cde",
     "grade": true,
     "grade_id": "cell-06e0be1892515253",
     "locked": true,
     "points": 2,
     "schema_version": 3,
     "solution": false,
     "task": false
    }
   },
   "outputs": [],
   "source": [
    "# Tests for Q3, worth 2 points. \n",
    "\n",
    "assert isinstance(zoo_counts, dict)"
   ]
  },
  {
   "cell_type": "code",
   "execution_count": null,
   "id": "b1a88878",
   "metadata": {
    "deletable": false,
    "editable": false,
    "nbgrader": {
     "cell_type": "code",
     "checksum": "bd21ccfacbd479c8c513ebc332bb1096",
     "grade": true,
     "grade_id": "cell-ead8e0cddd067393",
     "locked": true,
     "points": 2,
     "schema_version": 3,
     "solution": false
    }
   },
   "outputs": [],
   "source": [
    "# Hidden tests for Q3, worth 2 points."
   ]
  },
  {
   "cell_type": "code",
   "execution_count": null,
   "id": "804d085c",
   "metadata": {
    "deletable": false,
    "editable": false,
    "nbgrader": {
     "cell_type": "code",
     "checksum": "24d2adaab7a43f61ed80c662560f5532",
     "grade": true,
     "grade_id": "cell-ab2e051b05ab4142",
     "locked": true,
     "points": 2,
     "schema_version": 3,
     "solution": false,
     "task": false
    }
   },
   "outputs": [],
   "source": [
    "# Q3 test cell #2, worth 2 points."
   ]
  },
  {
   "cell_type": "markdown",
   "id": "0dac3563",
   "metadata": {
    "deletable": false,
    "editable": false,
    "nbgrader": {
     "cell_type": "markdown",
     "checksum": "31098dfad3f722d1240746a382ad6ccc",
     "grade": false,
     "grade_id": "cell-91f8448d40499fbd",
     "locked": true,
     "schema_version": 3,
     "solution": false,
     "task": false
    }
   },
   "source": [
    "## Q4\n",
    "### Are we there yet?\n",
    "Using `input()` and a `while` loop, write a function called `backseat_banter` that checks whether the car is there yet. If the `response` is yes (**in ANY form of capitalization**, e.g. YES, yes, Yes), exit the function and print **We are finally there!**. If the answer is anything but **Yes**, ask again. "
   ]
  },
  {
   "cell_type": "code",
   "execution_count": null,
   "id": "7c30ef65",
   "metadata": {
    "deletable": false,
    "nbgrader": {
     "cell_type": "code",
     "checksum": "18797154a30c3e26027635381e547c96",
     "grade": false,
     "grade_id": "cell-dd3585915c7dd609",
     "locked": false,
     "schema_version": 3,
     "solution": true,
     "task": false
    }
   },
   "outputs": [],
   "source": [
    "# YOUR CODE HERE\n",
    "raise NotImplementedError()"
   ]
  },
  {
   "cell_type": "code",
   "execution_count": null,
   "id": "af65fa91",
   "metadata": {
    "deletable": false,
    "nbgrader": {
     "cell_type": "code",
     "checksum": "6321555b11484591ae62446b8101c4fa",
     "grade": true,
     "grade_id": "cell-9b571fde05195eb0",
     "locked": false,
     "points": 10,
     "schema_version": 3,
     "solution": true,
     "task": false
    }
   },
   "outputs": [],
   "source": [
    "# YOUR CODE HERE\n",
    "raise NotImplementedError()"
   ]
  },
  {
   "cell_type": "markdown",
   "id": "648299e3",
   "metadata": {
    "deletable": false,
    "editable": false,
    "nbgrader": {
     "cell_type": "markdown",
     "checksum": "72b6190006950237fb138cf8b008232c",
     "grade": false,
     "grade_id": "cell-031f24a476521235",
     "locked": true,
     "schema_version": 3,
     "solution": false,
     "task": false
    }
   },
   "source": [
    "## Q5a\n",
    "\n",
    "### Create a burrito class\n",
    "\n",
    "Create a class called Burrito. This burrito should have:\n",
    "* An attribute (`is_california`) that is a **boolean** that indicates if the burrito is a california burrito (in other words, if it has **fries** in it!).\n",
    "* An instance-specific attribute, (`contents`) that is a list of contents in the burrito.\n",
    "* A method, (`add_fries`). If there were not already fries in the contents list, this method should add **fries** to the list of `contents` *and* update `is_california` to be true."
   ]
  },
  {
   "cell_type": "code",
   "execution_count": null,
   "id": "b9e46254",
   "metadata": {
    "deletable": false,
    "nbgrader": {
     "cell_type": "code",
     "checksum": "2284a494445b8001759777f9db138e13",
     "grade": false,
     "grade_id": "cell-5a64823b63dd8ffc",
     "locked": false,
     "schema_version": 3,
     "solution": true,
     "task": false
    }
   },
   "outputs": [],
   "source": [
    "# YOUR CODE HERE\n",
    "raise NotImplementedError()"
   ]
  },
  {
   "cell_type": "code",
   "execution_count": null,
   "id": "c8903b18",
   "metadata": {
    "deletable": false,
    "editable": false,
    "nbgrader": {
     "cell_type": "code",
     "checksum": "c104dfae9b2bf2960ad7414b185397b2",
     "grade": true,
     "grade_id": "cell-acdd925ced2eeb3b",
     "locked": true,
     "points": 2,
     "schema_version": 3,
     "solution": false,
     "task": false
    }
   },
   "outputs": [],
   "source": [
    "# Tests for Q5, worth 2 points.\n",
    "import inspect\n",
    "assert inspect.isclass(Burrito) #Checks if burrito is a class"
   ]
  },
  {
   "cell_type": "code",
   "execution_count": null,
   "id": "e98754f9",
   "metadata": {
    "deletable": false,
    "editable": false,
    "nbgrader": {
     "cell_type": "code",
     "checksum": "0d5fa002fc8a1f1bcf4ca955462daaa8",
     "grade": true,
     "grade_id": "cell-7367e30633361953",
     "locked": true,
     "points": 2,
     "schema_version": 3,
     "solution": false,
     "task": false
    }
   },
   "outputs": [],
   "source": [
    "# Second test cell for Q5, worth 2 points\n",
    "assert inspect.isfunction(Burrito.add_fries) #Checks if add_fries is a method"
   ]
  },
  {
   "cell_type": "markdown",
   "id": "bbde1452",
   "metadata": {
    "deletable": false,
    "editable": false,
    "nbgrader": {
     "cell_type": "markdown",
     "checksum": "dddb307fe0a54bfa31ae3daa438ac42f",
     "grade": false,
     "grade_id": "cell-e998efbffb529163",
     "locked": true,
     "schema_version": 3,
     "solution": false,
     "task": false
    }
   },
   "source": [
    "## Q5b\n",
    "### Create an instance of your burrito class\n",
    "\n",
    "Below, create an instance of your burrito class called `favorite_burrito` with your three favorite ingredients (anything will work!)"
   ]
  },
  {
   "cell_type": "code",
   "execution_count": null,
   "id": "07331cdf",
   "metadata": {
    "deletable": false,
    "nbgrader": {
     "cell_type": "code",
     "checksum": "4e7c27f64f4acd606278d44b4e2b67f1",
     "grade": false,
     "grade_id": "cell-026003a769ec5776",
     "locked": false,
     "schema_version": 3,
     "solution": true,
     "task": false
    }
   },
   "outputs": [],
   "source": [
    "# YOUR CODE HERE\n",
    "raise NotImplementedError()"
   ]
  },
  {
   "cell_type": "code",
   "execution_count": null,
   "id": "bfebf8ef",
   "metadata": {
    "deletable": false,
    "editable": false,
    "nbgrader": {
     "cell_type": "code",
     "checksum": "db25cff401a2434e4880901301b59da6",
     "grade": true,
     "grade_id": "cell-fb0ec96a89994593",
     "locked": true,
     "points": 2,
     "schema_version": 3,
     "solution": false,
     "task": false
    }
   },
   "outputs": [],
   "source": [
    "# Tests for Q5b, worth 2 points.\n",
    "assert len(favorite_burrito.contents) == 3"
   ]
  },
  {
   "cell_type": "code",
   "execution_count": null,
   "id": "e40a7eb2",
   "metadata": {
    "deletable": false,
    "editable": false,
    "nbgrader": {
     "cell_type": "code",
     "checksum": "1712fda54e6c1eed7e451917c2bcb72e",
     "grade": true,
     "grade_id": "cell-a7773ff181fa8041",
     "locked": true,
     "points": 4,
     "schema_version": 3,
     "solution": false,
     "task": false
    }
   },
   "outputs": [],
   "source": [
    "# Q5b hidden test cell, worth 4 points."
   ]
  },
  {
   "cell_type": "markdown",
   "id": "f04ffb6f",
   "metadata": {
    "deletable": false,
    "editable": false,
    "nbgrader": {
     "cell_type": "markdown",
     "checksum": "50bbd7d8ea6f86534ab9ba8a04a25e54",
     "grade": false,
     "grade_id": "cell-cc7c0e3293b98f19",
     "locked": true,
     "schema_version": 3,
     "solution": false,
     "task": false
    }
   },
   "source": [
    "## Q5c\n",
    "### Test `add_fries` method.\n",
    "Test your add fries method below."
   ]
  },
  {
   "cell_type": "code",
   "execution_count": null,
   "id": "d5127057",
   "metadata": {
    "deletable": false,
    "nbgrader": {
     "cell_type": "code",
     "checksum": "ad9ea4c4f20e96af91c4631587aaad25",
     "grade": false,
     "grade_id": "cell-78cefe7646d503ad",
     "locked": false,
     "schema_version": 3,
     "solution": true,
     "task": false
    }
   },
   "outputs": [],
   "source": [
    "# YOUR CODE HERE\n",
    "raise NotImplementedError()"
   ]
  },
  {
   "cell_type": "code",
   "execution_count": null,
   "id": "712445ea",
   "metadata": {
    "deletable": false,
    "editable": false,
    "nbgrader": {
     "cell_type": "code",
     "checksum": "fd1433020664d43bead4ce74fd0f8975",
     "grade": true,
     "grade_id": "cell-1aa9b59a88a6d2b2",
     "locked": true,
     "points": 8,
     "schema_version": 3,
     "solution": false,
     "task": false
    }
   },
   "outputs": [],
   "source": [
    "# Tests for Q5c, worth 9 points.\n",
    "assert 'fries' in favorite_burrito.contents\n",
    "assert favorite_burrito.is_california == True "
   ]
  }
 ],
 "metadata": {
  "kernelspec": {
   "display_name": "Python 3 (ipykernel)",
   "language": "python",
   "name": "python3"
  },
  "language_info": {
   "codemirror_mode": {
    "name": "ipython",
    "version": 3
   },
   "file_extension": ".py",
   "mimetype": "text/x-python",
   "name": "python",
   "nbconvert_exporter": "python",
   "pygments_lexer": "ipython3",
   "version": "3.9.5"
  }
 },
 "nbformat": 4,
 "nbformat_minor": 5
}
