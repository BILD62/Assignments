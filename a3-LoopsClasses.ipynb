{
 "cells": [
  {
   "cell_type": "markdown",
   "id": "5954a586",
   "metadata": {
    "deletable": false,
    "editable": false,
    "nbgrader": {
     "cell_type": "markdown",
     "checksum": "fbcef39d2ad8f3f2b54be2a9173c07db",
     "grade": false,
     "grade_id": "cell-8f23a851521dd686",
     "locked": true,
     "schema_version": 3,
     "solution": false,
     "task": false
    }
   },
   "source": [
    "# Assignment a3\n",
    "\n",
    "## Q1\n",
    "\n",
    "Write a `while` loop that takes a number and continues to subtract 7 from it, until `number` is **negative** (note that 0 is not negative). The loop should start with `number = 21` (provided for you) and include a `counter` which counts how many times the loop executes."
   ]
  },
  {
   "cell_type": "code",
   "execution_count": 15,
   "id": "564c7285",
   "metadata": {
    "deletable": false,
    "nbgrader": {
     "cell_type": "code",
     "checksum": "03824b812c2c843bbdd06acafaebe7cc",
     "grade": false,
     "grade_id": "cell-98a8ccfa9b2e1fce",
     "locked": false,
     "schema_version": 3,
     "solution": true,
     "task": false
    }
   },
   "outputs": [
    {
     "name": "stdout",
     "output_type": "stream",
     "text": [
      "21\n",
      "14\n",
      "7\n",
      "0\n",
      "-7\n",
      "total count is: 5\n",
      "-14\n"
     ]
    }
   ],
   "source": [
    "number = 21\n",
    "\n",
    "counter = 0\n",
    "\n",
    "while number >= -7:\n",
    "    print(number)\n",
    "    number = number - 7\n",
    "    counter = counter + 1\n",
    "    \n",
    "print('total count is:',counter)\n",
    "print(number)"
   ]
  },
  {
   "cell_type": "code",
   "execution_count": null,
   "id": "dce71691",
   "metadata": {
    "deletable": false,
    "editable": false,
    "nbgrader": {
     "cell_type": "code",
     "checksum": "21fa9f3a6a2f375a131d5a3f6d690648",
     "grade": true,
     "grade_id": "cell-786293d03fb8406b",
     "locked": true,
     "points": 5,
     "schema_version": 3,
     "solution": false,
     "task": false
    }
   },
   "outputs": [],
   "source": [
    "# Tests for Q1, worth 10 points. Note: hidden tests.\n",
    "\n",
    "assert isinstance(number, int)\n",
    "assert isinstance(counter, int)\n"
   ]
  },
  {
   "cell_type": "code",
   "execution_count": null,
   "id": "ed382ea4",
   "metadata": {
    "deletable": false,
    "editable": false,
    "nbgrader": {
     "cell_type": "code",
     "checksum": "6e2c9ffa8970b102a49d7c3e0e67a223",
     "grade": true,
     "grade_id": "cell-b194e3d47aa026f1",
     "locked": true,
     "points": 5,
     "schema_version": 3,
     "solution": false,
     "task": false
    }
   },
   "outputs": [],
   "source": [
    "# Second hidden test cell for Q1\n"
   ]
  },
  {
   "cell_type": "markdown",
   "id": "70d51965",
   "metadata": {
    "deletable": false,
    "editable": false,
    "nbgrader": {
     "cell_type": "markdown",
     "checksum": "c0c3c1f63d2355f6aae875278bdb6a30",
     "grade": false,
     "grade_id": "cell-e18ae0c3c25492c8",
     "locked": true,
     "schema_version": 3,
     "solution": false,
     "task": false
    }
   },
   "source": [
    "## Q2\n",
    "In this question, we'll deepen our understanding of mutability in lists. \n",
    "\n",
    "1. Create a list of three animals (**bear, monkey, zebra**) and assign it to `zoo`.\n",
    "2. Assign `zoo` to `zoo_alias`.\n",
    "3. Change the first item in `zoo` to **tiger**.\n",
    "4. Change the third item in `zoo_alias` to **lion**.\n",
    "5. Use a membership operator to test whether **lion** is in `zoo`. Assign this as a boolean to `has_lions`. "
   ]
  },
  {
   "cell_type": "code",
   "execution_count": 15,
   "id": "97f937d7",
   "metadata": {
    "deletable": false,
    "nbgrader": {
     "cell_type": "code",
     "checksum": "cd3c57339c66ce15e8750852110b3acb",
     "grade": false,
     "grade_id": "cell-ed5b1ad32cd07039",
     "locked": false,
     "schema_version": 3,
     "solution": true,
     "task": false
    }
   },
   "outputs": [
    {
     "name": "stdout",
     "output_type": "stream",
     "text": [
      "['tiger', 'monkey', 'zebra']\n",
      "['bear', 'monkey', 'lion']\n",
      "False\n"
     ]
    }
   ],
   "source": [
    "zoo = ['bear','monkey','zebra']\n",
    "zoo_alias = zoo\n",
    "\n",
    "zoo = [i.replace('bear','tiger') for i in zoo]\n",
    "print(zoo)\n",
    "\n",
    "zoo_alias = [i.replace('zebra','lion') for i in zoo_alias]\n",
    "print(zoo_alias)\n",
    "\n",
    "has_lions = (zoo == 'lions' in zoo)\n",
    "print(has_lions\n"
   ]
  },
  {
   "cell_type": "code",
   "execution_count": null,
   "id": "915adf47",
   "metadata": {
    "deletable": false,
    "editable": false,
    "nbgrader": {
     "cell_type": "code",
     "checksum": "6d1b7d68e4fc4339b3f722685c573e27",
     "grade": true,
     "grade_id": "cell-8678b95de5e898f0",
     "locked": true,
     "points": 5,
     "schema_version": 3,
     "solution": false,
     "task": false
    }
   },
   "outputs": [],
   "source": [
    "# Tests for Q2, worth 10 points. Note: hidden tests.\n",
    "\n",
    "assert isinstance(zoo, list)\n",
    "assert isinstance(zoo_alias, list)\n",
    "assert isinstance(has_lions,bool)\n"
   ]
  },
  {
   "cell_type": "code",
   "execution_count": null,
   "id": "8fab86a0",
   "metadata": {
    "deletable": false,
    "editable": false,
    "nbgrader": {
     "cell_type": "code",
     "checksum": "776224cb516c2504d85decf3ee68cbae",
     "grade": true,
     "grade_id": "cell-ced1b5006860c6b2",
     "locked": true,
     "points": 5,
     "schema_version": 3,
     "solution": false,
     "task": false
    }
   },
   "outputs": [],
   "source": [
    "# Second hidden test cell for Q2"
   ]
  },
  {
   "cell_type": "markdown",
   "id": "56a2cb65",
   "metadata": {},
   "source": [
    "## Q3\n",
    "### Zoo inventory\n",
    "\n",
    "Given the zoo composition below (be sure to run the cell below), write a code snippet that creates a dictionary containing each type of animal and how many there are. In other words, the keys in the dictionary should be the animals, and the values should be the animal count. Call the dictionary `zoo_counts`.\n",
    "\n",
    "**Hints**:\n",
    "* You can create an empty dictionary using empty brackets.\n",
    "* You can check if a dictionary already has a key using a membership operator *or* you can find unique values in a list by converting it to an array and using `np.unique()`."
   ]
  },
  {
   "cell_type": "code",
   "execution_count": 11,
   "id": "c18d4357",
   "metadata": {},
   "outputs": [],
   "source": [
    "# Run this cell to establish the zoo\n",
    "sandiego_zoo = ['tiger','monkey','lion','lion','bear','monkey','monkey','monkey','tiger','monkey','monkey']"
   ]
  },
  {
   "cell_type": "code",
   "execution_count": 18,
   "id": "58eeaf07",
   "metadata": {
    "deletable": false,
    "nbgrader": {
     "cell_type": "code",
     "checksum": "1497c6055f38dc244b53e4e933fcede4",
     "grade": false,
     "grade_id": "cell-2e43c6efad974686",
     "locked": false,
     "schema_version": 3,
     "solution": true,
     "task": false
    }
   },
   "outputs": [],
   "source": [
    "def backseat_banter(response):\n",
    "    while response.lower() != 'yes':\n",
    "         response = input()\n",
    "    print ('We are finally there!')\n",
    "    return"
   ]
  },
  {
   "cell_type": "code",
   "execution_count": null,
   "id": "91c758d6",
   "metadata": {
    "deletable": false,
    "editable": false,
    "nbgrader": {
     "cell_type": "code",
     "checksum": "8c6c0bba207c3cdb5ed2ab7b2ed8a888",
     "grade": true,
     "grade_id": "cell-06e0be1892515253",
     "locked": true,
     "points": 5,
     "schema_version": 3,
     "solution": false,
     "task": false
    }
   },
   "outputs": [],
   "source": [
    "# Tests for Q3, worth 10 points. Note: hidden tests.\n",
    "\n",
    "assert isinstance(zoo_counts, dict)\n"
   ]
  },
  {
   "cell_type": "code",
   "execution_count": null,
   "id": "804d085c",
   "metadata": {
    "deletable": false,
    "editable": false,
    "nbgrader": {
     "cell_type": "code",
     "checksum": "e871696a7e815dc17da2464b6f807bb8",
     "grade": true,
     "grade_id": "cell-ab2e051b05ab4142",
     "locked": true,
     "points": 5,
     "schema_version": 3,
     "solution": false,
     "task": false
    }
   },
   "outputs": [],
   "source": [
    "# Q3 test cell #2"
   ]
  },
  {
   "cell_type": "markdown",
   "id": "0dac3563",
   "metadata": {
    "deletable": false,
    "editable": false,
    "nbgrader": {
     "cell_type": "markdown",
     "checksum": "8df6bb8612fdf4d46543641de5dc04dd",
     "grade": false,
     "grade_id": "cell-91f8448d40499fbd",
     "locked": true,
     "schema_version": 3,
     "solution": false,
     "task": false
    }
   },
   "source": [
    "## Q4\n",
    "### Are we there yet?\n",
    "Using `input()` and a `while` loop, write a function called `backseat_banter` that checks whether the car is there yet. If the `response` is yes (**in ANY form of capitalization**, e.g. YES, yes, Yes), exit the function and print **We are finally there!**. If the answer is anything but **Yes**, ask again."
   ]
  },
  {
   "cell_type": "code",
   "execution_count": 27,
   "id": "7c30ef65",
   "metadata": {
    "deletable": false,
    "nbgrader": {
     "cell_type": "code",
     "checksum": "18797154a30c3e26027635381e547c96",
     "grade": false,
     "grade_id": "cell-dd3585915c7dd609",
     "locked": false,
     "schema_version": 3,
     "solution": true,
     "task": false
    }
   },
   "outputs": [
    {
     "name": "stdout",
     "output_type": "stream",
     "text": [
      "ye\n",
      "no\n",
      "yes\n",
      "We are finally there\n"
     ]
    }
   ],
   "source": [
    "def backseat_banter():\n",
    "    while True:\n",
    "        car_there = input()\n",
    "        car_there = car_there.lower()\n",
    "        if car_there == \"yes\":\n",
    "            print(\"We are finally there\")\n",
    "            break\n",
    "backseat_banter()"
   ]
  },
  {
   "cell_type": "code",
   "execution_count": 10,
   "id": "af65fa91",
   "metadata": {
    "deletable": false,
    "nbgrader": {
     "cell_type": "code",
     "checksum": "98fc948db93190a1e9108821f03f281e",
     "grade": true,
     "grade_id": "cell-9b571fde05195eb0",
     "locked": false,
     "points": 15,
     "schema_version": 3,
     "solution": true,
     "task": false
    }
   },
   "outputs": [
    {
     "name": "stdout",
     "output_type": "stream",
     "text": [
      "Is the car there yet?no\n",
      "Is the car there yet?yes\n",
      "We are finally there!\n"
     ]
    }
   ],
   "source": [
    "backseat_banter()"
   ]
  },
  {
   "cell_type": "markdown",
   "id": "648299e3",
   "metadata": {
    "deletable": false,
    "editable": false,
    "nbgrader": {
     "cell_type": "markdown",
     "checksum": "72b6190006950237fb138cf8b008232c",
     "grade": false,
     "grade_id": "cell-031f24a476521235",
     "locked": true,
     "schema_version": 3,
     "solution": false,
     "task": false
    }
   },
   "source": [
    "## Q5a\n",
    "\n",
    "### Create a burrito class\n",
    "\n",
    "Create a class called Burrito. This burrito should have:\n",
    "* An attribute (`is_california`) that is a **boolean** that indicates if the burrito is a california burrito (in other words, if it has **fries** in it!).\n",
    "* An instance-specific attribute, (`contents`) that is a list of contents in the burrito.\n",
    "* A method, (`add_fries`). If there were not already fries in the contents list, this method should add **fries** to the list of `contents` *and* update `is_california` to be true."
   ]
  },
  {
   "cell_type": "code",
   "execution_count": 26,
   "id": "b9e46254",
   "metadata": {
    "deletable": false,
    "nbgrader": {
     "cell_type": "code",
     "checksum": "2284a494445b8001759777f9db138e13",
     "grade": false,
     "grade_id": "cell-5a64823b63dd8ffc",
     "locked": false,
     "schema_version": 3,
     "solution": true,
     "task": false
    }
   },
   "outputs": [],
   "source": [
    "class Burrito():\n",
    "    \n",
    "    def __init__(self,contents):\n",
    "        self.contents=contents\n",
    "        self.is_california = 'fries' in self.contents\n",
    "        \n",
    "    def add_fries(self):\n",
    "        if self.is_california == True:\n",
    "            raise ValueError('fries already in the Burrito')\n",
    "        else:\n",
    "            self.contents.append('fries')\n",
    "            self.is_california = True\n",
    "\n",
    "favorite_burrito= Burrito(['rice'])\n",
    "\n"
   ]
  },
  {
   "cell_type": "code",
   "execution_count": null,
   "id": "c8903b18",
   "metadata": {
    "deletable": false,
    "editable": false,
    "nbgrader": {
     "cell_type": "code",
     "checksum": "d3c448977b198f7c2242261542d7472f",
     "grade": true,
     "grade_id": "cell-acdd925ced2eeb3b",
     "locked": true,
     "points": 5,
     "schema_version": 3,
     "solution": false,
     "task": false
    }
   },
   "outputs": [],
   "source": [
    "# Tests for Q5, worth 10 points.\n",
    "import inspect\n",
    "assert inspect.isclass(Burrito) #Checks if burrito is a class"
   ]
  },
  {
   "cell_type": "code",
   "execution_count": null,
   "id": "e98754f9",
   "metadata": {
    "deletable": false,
    "editable": false,
    "nbgrader": {
     "cell_type": "code",
     "checksum": "c35f99c4b1d834c5045c446e07de538e",
     "grade": true,
     "grade_id": "cell-7367e30633361953",
     "locked": true,
     "points": 5,
     "schema_version": 3,
     "solution": false,
     "task": false
    }
   },
   "outputs": [],
   "source": [
    "# Second test cell for Q5\n",
    "assert inspect.isfunction(Burrito.add_fries) #Checks if add_fries is a method"
   ]
  },
  {
   "cell_type": "markdown",
   "id": "bbde1452",
   "metadata": {
    "deletable": false,
    "editable": false,
    "nbgrader": {
     "cell_type": "markdown",
     "checksum": "dddb307fe0a54bfa31ae3daa438ac42f",
     "grade": false,
     "grade_id": "cell-e998efbffb529163",
     "locked": true,
     "schema_version": 3,
     "solution": false,
     "task": false
    }
   },
   "source": [
    "## Q5b\n",
    "### Create an instance of your burrito class\n",
    "\n",
    "Below, create an instance of your burrito class called `favorite_burrito` with your three favorite ingredients (anything will work!)"
   ]
  },
  {
   "cell_type": "code",
   "execution_count": 23,
   "id": "07331cdf",
   "metadata": {
    "deletable": false,
    "nbgrader": {
     "cell_type": "code",
     "checksum": "4e7c27f64f4acd606278d44b4e2b67f1",
     "grade": false,
     "grade_id": "cell-026003a769ec5776",
     "locked": false,
     "schema_version": 3,
     "solution": true,
     "task": false
    }
   },
   "outputs": [],
   "source": [
    "class Burrito():\n",
    "    is_california=False\n",
    "    def _init_(self,contents):\n",
    "        self.contents=[]\n",
    "    def add_fries(self):\n",
    "        if 'fries' not in contents:\n",
    "            contents.append('fries')\n",
    "            is_california = True"
   ]
  },
  {
   "cell_type": "code",
   "execution_count": 24,
   "id": "f340459a",
   "metadata": {},
   "outputs": [
    {
     "ename": "TypeError",
     "evalue": "Burrito() takes no arguments",
     "output_type": "error",
     "traceback": [
      "\u001b[0;31m---------------------------------------------------------------------------\u001b[0m",
      "\u001b[0;31mTypeError\u001b[0m                                 Traceback (most recent call last)",
      "\u001b[0;32m/tmp/ipykernel_99/269811994.py\u001b[0m in \u001b[0;36m<module>\u001b[0;34m\u001b[0m\n\u001b[0;32m----> 1\u001b[0;31m \u001b[0mfavorite_burrito\u001b[0m\u001b[0;34m=\u001b[0m \u001b[0mBurrito\u001b[0m\u001b[0;34m(\u001b[0m\u001b[0;34m[\u001b[0m\u001b[0;34m'beef'\u001b[0m\u001b[0;34m,\u001b[0m\u001b[0;34m'shrimp'\u001b[0m\u001b[0;34m,\u001b[0m\u001b[0;34m'egg'\u001b[0m\u001b[0;34m]\u001b[0m\u001b[0;34m)\u001b[0m\u001b[0;34m\u001b[0m\u001b[0;34m\u001b[0m\u001b[0m\n\u001b[0m",
      "\u001b[0;31mTypeError\u001b[0m: Burrito() takes no arguments"
     ]
    }
   ],
   "source": [
    "favorite_burrito= Burrito(['beef','shrimp','egg'])"
   ]
  },
  {
   "cell_type": "code",
   "execution_count": null,
   "id": "bfebf8ef",
   "metadata": {
    "deletable": false,
    "editable": false,
    "nbgrader": {
     "cell_type": "code",
     "checksum": "36356574c7adccf6a6e9030bae74d9f2",
     "grade": true,
     "grade_id": "cell-fb0ec96a89994593",
     "locked": true,
     "points": 5,
     "schema_version": 3,
     "solution": false,
     "task": false
    }
   },
   "outputs": [],
   "source": [
    "# Tests for Q5b, worth 10 points. Note: hidden tests.\n",
    "assert len(favorite_burrito.contents) == 3\n"
   ]
  },
  {
   "cell_type": "code",
   "execution_count": null,
   "id": "e40a7eb2",
   "metadata": {
    "deletable": false,
    "editable": false,
    "nbgrader": {
     "cell_type": "code",
     "checksum": "cdce54411c4232644226ba638df80f3f",
     "grade": true,
     "grade_id": "cell-a7773ff181fa8041",
     "locked": true,
     "points": 5,
     "schema_version": 3,
     "solution": false,
     "task": false
    }
   },
   "outputs": [],
   "source": [
    "# Q5b test cell #2"
   ]
  },
  {
   "cell_type": "markdown",
   "id": "f04ffb6f",
   "metadata": {
    "deletable": false,
    "editable": false,
    "nbgrader": {
     "cell_type": "markdown",
     "checksum": "50bbd7d8ea6f86534ab9ba8a04a25e54",
     "grade": false,
     "grade_id": "cell-cc7c0e3293b98f19",
     "locked": true,
     "schema_version": 3,
     "solution": false,
     "task": false
    }
   },
   "source": [
    "## Q5c\n",
    "### Test `add_fries` method.\n",
    "Test your add fries method below."
   ]
  },
  {
   "cell_type": "code",
   "execution_count": 17,
   "id": "d5127057",
   "metadata": {
    "deletable": false,
    "nbgrader": {
     "cell_type": "code",
     "checksum": "ad9ea4c4f20e96af91c4631587aaad25",
     "grade": false,
     "grade_id": "cell-78cefe7646d503ad",
     "locked": false,
     "schema_version": 3,
     "solution": true,
     "task": false
    }
   },
   "outputs": [
    {
     "data": {
      "text/plain": [
       "['carne asada', 'guac', 'pico', ' fries']"
      ]
     },
     "execution_count": 17,
     "metadata": {},
     "output_type": "execute_result"
    }
   ],
   "source": [
    "favorite_burrito.add_fries()\n",
    "favorite_burrito.contents"
   ]
  },
  {
   "cell_type": "code",
   "execution_count": 28,
   "id": "712445ea",
   "metadata": {
    "deletable": false,
    "editable": false,
    "nbgrader": {
     "cell_type": "code",
     "checksum": "f5213f536b36b9fa0edf3e7eb6d56891",
     "grade": true,
     "grade_id": "cell-1aa9b59a88a6d2b2",
     "locked": true,
     "points": 10,
     "schema_version": 3,
     "solution": false,
     "task": false
    }
   },
   "outputs": [],
   "source": [
    "# Tests for Q5c, worth 10 points.\n",
    "assert 'fries' in favorite_burrito.contents\n",
    "assert favorite_burrito.is_california == True "
   ]
  },
  {
   "cell_type": "code",
   "execution_count": null,
   "id": "ca90ff4b",
   "metadata": {},
   "outputs": [],
   "source": []
  }
 ],
 "metadata": {
  "kernelspec": {
   "display_name": "Python 3 (ipykernel)",
   "language": "python",
   "name": "python3"
  },
  "language_info": {
   "codemirror_mode": {
    "name": "ipython",
    "version": 3
   },
   "file_extension": ".py",
   "mimetype": "text/x-python",
   "name": "python",
   "nbconvert_exporter": "python",
   "pygments_lexer": "ipython3",
   "version": "3.9.5"
  }
 },
 "nbformat": 4,
 "nbformat_minor": 5
}
