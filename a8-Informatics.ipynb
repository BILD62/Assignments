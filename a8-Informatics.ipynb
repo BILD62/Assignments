{
 "cells": [
  {
   "cell_type": "markdown",
   "id": "8e15a2c0",
   "metadata": {
    "deletable": false,
    "editable": false,
    "nbgrader": {
     "cell_type": "markdown",
     "checksum": "6936bcea748ca74055edd6bab130530f",
     "grade": false,
     "grade_id": "cell-d2c311c0cc65e046",
     "locked": true,
     "schema_version": 3,
     "solution": false
    }
   },
   "source": [
    "# Informatics\n",
    "Our final assignment is focused on the content from Week 9. Completing this assignment will be greatly aided by the Neuroinformatics lecture slides as well as the Jupyter Notebook we worked through in class."
   ]
  },
  {
   "cell_type": "markdown",
   "id": "c8c1f439",
   "metadata": {
    "deletable": false,
    "editable": false,
    "nbgrader": {
     "cell_type": "markdown",
     "checksum": "eb241c07b0e5702015a68b78ab8e29b5",
     "grade": false,
     "grade_id": "cell-9764e30725a0d231",
     "locked": true,
     "schema_version": 3,
     "solution": false
    }
   },
   "source": [
    "## Q1\n",
    "\n",
    "What is the name for \"The field of computational science that has to do with the analysis of sequences of biological molecules.\"? Write it as a string and assign it to `Q1_answer` below."
   ]
  },
  {
   "cell_type": "code",
   "execution_count": null,
   "id": "280a4abb",
   "metadata": {
    "deletable": false,
    "nbgrader": {
     "cell_type": "code",
     "checksum": "2679037b20b5a7816686d528649b9fa0",
     "grade": false,
     "grade_id": "cell-dca2b40e11753d34",
     "locked": false,
     "schema_version": 3,
     "solution": true
    }
   },
   "outputs": [],
   "source": [
    "# YOUR CODE HERE\n",
    "raise NotImplementedError()"
   ]
  },
  {
   "cell_type": "code",
   "execution_count": null,
   "id": "66161db5",
   "metadata": {
    "deletable": false,
    "editable": false,
    "nbgrader": {
     "cell_type": "code",
     "checksum": "a2cd1258cecd1b9eaaa8d3c14b5446b4",
     "grade": true,
     "grade_id": "cell-30e87cc24c8a1796",
     "locked": true,
     "points": 2.5,
     "schema_version": 3,
     "solution": false
    }
   },
   "outputs": [],
   "source": [
    "# Tests for Q1, including hidden tests (2.5 pts)\n",
    "assert isinstance(Q1_answer,str)"
   ]
  },
  {
   "cell_type": "markdown",
   "id": "c0a98846",
   "metadata": {
    "deletable": false,
    "editable": false,
    "nbgrader": {
     "cell_type": "markdown",
     "checksum": "6729381e5a12bdc6f37fc6fc6defbbb4",
     "grade": false,
     "grade_id": "cell-5f49e5dacadfb1c4",
     "locked": true,
     "schema_version": 3,
     "solution": false
    }
   },
   "source": [
    "## Q2\n",
    "What is an API?\n",
    "\n",
    "* A - An application that acts as a messenger between two software components to communicate and takes requests, translates, and returns responses\n",
    "* B - A way to organize genomics data\n",
    "* C - An 'application performance index' which tells you the speed of a module\n",
    "* D - An advanced way to package Python modules\n",
    "\n",
    "Assign your answer to `Q2_answer` below. For example, if you wanted to answer `D` you should write `Q2_answer = 'D'`."
   ]
  },
  {
   "cell_type": "code",
   "execution_count": null,
   "id": "b0289cef",
   "metadata": {
    "deletable": false,
    "nbgrader": {
     "cell_type": "code",
     "checksum": "88ea03a9091734b8396147b47ceeedb2",
     "grade": false,
     "grade_id": "cell-fedc47a7e3add3e8",
     "locked": false,
     "schema_version": 3,
     "solution": true
    }
   },
   "outputs": [],
   "source": [
    "# YOUR CODE HERE\n",
    "raise NotImplementedError()"
   ]
  },
  {
   "cell_type": "code",
   "execution_count": null,
   "id": "961f5971",
   "metadata": {
    "deletable": false,
    "editable": false,
    "nbgrader": {
     "cell_type": "code",
     "checksum": "271c96ce992cb51c9980ec82c4026398",
     "grade": true,
     "grade_id": "cell-f9c8dbd9657fcef6",
     "locked": true,
     "points": 2.5,
     "schema_version": 3,
     "solution": false
    }
   },
   "outputs": [],
   "source": [
    "# Tests for Q2, including hidden tests (2.5 pts)\n",
    "assert isinstance(Q2_answer,str)"
   ]
  },
  {
   "cell_type": "markdown",
   "id": "c04ef141",
   "metadata": {
    "deletable": false,
    "editable": false,
    "nbgrader": {
     "cell_type": "markdown",
     "checksum": "24a8d110da94b8ec31dc9995f02981fc",
     "grade": false,
     "grade_id": "cell-0aa300486ccf7d6f",
     "locked": true,
     "schema_version": 3,
     "solution": false
    }
   },
   "source": [
    "## Q3\n",
    "Import the `Entrez` package from Bio (Biopython) below. **Hint**: We did this after installing our packages in the neuroinformatics notebook.\n",
    "\n",
    "<mark>**Note**: The cell below *will not* work unless you have already run `!pip install Bio --user` to install the Bio module. We did this during lecture.</mark>"
   ]
  },
  {
   "cell_type": "code",
   "execution_count": null,
   "id": "10819df6",
   "metadata": {
    "deletable": false,
    "nbgrader": {
     "cell_type": "code",
     "checksum": "5afcc1b083d76eb9ac1096bf162a3cae",
     "grade": false,
     "grade_id": "cell-56693ce2aa3e3e63",
     "locked": false,
     "schema_version": 3,
     "solution": true
    }
   },
   "outputs": [],
   "source": [
    "# YOUR CODE HERE\n",
    "raise NotImplementedError()"
   ]
  },
  {
   "cell_type": "code",
   "execution_count": null,
   "id": "366f9087",
   "metadata": {
    "deletable": false,
    "editable": false,
    "nbgrader": {
     "cell_type": "code",
     "checksum": "12ce51b383d41ad19997d4ff46848626",
     "grade": true,
     "grade_id": "cell-c9d787339d4342f4",
     "locked": true,
     "points": 5,
     "schema_version": 3,
     "solution": false
    }
   },
   "outputs": [],
   "source": [
    "## Tests for Q3, 5 pts\n",
    "import inspect\n",
    "assert inspect.ismodule(Entrez)"
   ]
  },
  {
   "cell_type": "markdown",
   "id": "c9defb8b",
   "metadata": {
    "deletable": false,
    "editable": false,
    "nbgrader": {
     "cell_type": "markdown",
     "checksum": "fe9238e7e4384257934e739c238341a1",
     "grade": false,
     "grade_id": "cell-60f12a9565889930",
     "locked": true,
     "schema_version": 3,
     "solution": false
    }
   },
   "source": [
    "## Q4\n",
    "1. Use `einfo` to generate a list of databases accessible in Entrez. Assign this to handle.\n",
    "2. Use the `read()` method of Entrez on the `handle` and assign this output to `databases`.\n",
    "3. Assign the list *within* the `databases` dictionary (the value to the `DbList` key) to `database_list`. In the end, `database_list` should be a list of databases, which are each strings. **Hint**: Inspect the `databases` object. What is the first key in the dictionary?"
   ]
  },
  {
   "cell_type": "code",
   "execution_count": null,
   "id": "90e63bd7",
   "metadata": {
    "deletable": false,
    "nbgrader": {
     "cell_type": "code",
     "checksum": "c6d4eb6e29c89e09c69fb78b3539e13f",
     "grade": false,
     "grade_id": "cell-7400f7930ecc79ed",
     "locked": false,
     "schema_version": 3,
     "solution": true
    }
   },
   "outputs": [],
   "source": [
    "Entrez.email = ... # Optional step to add your email\n",
    "\n",
    "# YOUR CODE HERE\n",
    "raise NotImplementedError()"
   ]
  },
  {
   "cell_type": "code",
   "execution_count": null,
   "id": "ceead8ac",
   "metadata": {
    "deletable": false,
    "editable": false,
    "nbgrader": {
     "cell_type": "code",
     "checksum": "9f49f78c9963152ae441e9b9682bd6d1",
     "grade": true,
     "grade_id": "cell-4a70b35390bc8f49",
     "locked": true,
     "points": 2.5,
     "schema_version": 3,
     "solution": false
    }
   },
   "outputs": [],
   "source": [
    "# Tests for Q4 (2.5 pts)\n",
    "assert isinstance(databases,dict)\n",
    "assert len(databases) == 1"
   ]
  },
  {
   "cell_type": "code",
   "execution_count": null,
   "id": "1b809bdf",
   "metadata": {
    "deletable": false,
    "editable": false,
    "nbgrader": {
     "cell_type": "code",
     "checksum": "9c7b7b546fa7dd663203d3d57abd6b48",
     "grade": true,
     "grade_id": "cell-006095b2b99d6d07",
     "locked": true,
     "points": 2.5,
     "schema_version": 3,
     "solution": false,
     "task": false
    }
   },
   "outputs": [],
   "source": [
    "# Hidden tests for Q4 (2.5 pts)"
   ]
  },
  {
   "cell_type": "markdown",
   "id": "6d3464a4",
   "metadata": {
    "deletable": false,
    "editable": false,
    "nbgrader": {
     "cell_type": "markdown",
     "checksum": "f41c44c5ccd54c89d6b42c781f596e29",
     "grade": false,
     "grade_id": "cell-b1212eeef01e3508",
     "locked": true,
     "schema_version": 3,
     "solution": false
    }
   },
   "source": [
    "## Q5\n",
    "For **each** of the databases in `database_list`, pull out the description of the database. \n",
    "\n",
    "In order to so, follow these steps:\n",
    "1. Initialize an empty dictionary called `db_dictionary`.\n",
    "2. Set up a for loop that iterates over each database in `database_list`.\n",
    "3. Within the loop, generate `handle` which is the output of `Entrez.einfo()` for the database in that loop iteration. In other words, you can use `Entrez.einfo(db=db)`, since `db` will update on each loop.\n",
    "4. Read the handle using `Entrez.read()` and assign that to a variable called `info`.\n",
    "5. Get the dictionary assigned to the `DbInfo` key from within `info` and assign that to `this_db`.\n",
    "6. Assign the `Description` within `this_db` to a new entry in your empty dictionary, with the name of the database as the key. For example, `db_dictionary[db] = this_db['Description']`. <mark>**At the end of this loop, db_dictionary should be a dictionary where each key is the name of a database, and the value is a description of the database.**</mark>\n",
    "\n",
    "Here is a skeleton of the code:\n",
    "\n",
    "``` \n",
    "db_dictionary = {}        # Step 1\n",
    "\n",
    "for db in database_list:  # Step 2\n",
    "    handle = ...          # Step 3\n",
    "    info = ...            # Step 4\n",
    "    this_db = ...         # Step 5\n",
    "    db_dictionary[db] = this_db['Description']\n",
    "```\n"
   ]
  },
  {
   "cell_type": "code",
   "execution_count": null,
   "id": "287b26f4",
   "metadata": {
    "deletable": false,
    "nbgrader": {
     "cell_type": "code",
     "checksum": "19aa31546289a0acd237c5f81d733559",
     "grade": false,
     "grade_id": "cell-4ad5db994294fa0d",
     "locked": false,
     "schema_version": 3,
     "solution": true
    }
   },
   "outputs": [],
   "source": [
    "# YOUR CODE HERE\n",
    "raise NotImplementedError()"
   ]
  },
  {
   "cell_type": "code",
   "execution_count": null,
   "id": "0892ac49",
   "metadata": {
    "deletable": false,
    "editable": false,
    "nbgrader": {
     "cell_type": "code",
     "checksum": "18ddab7c94c0ddc595466515b253c7b7",
     "grade": true,
     "grade_id": "cell-3f0d78905a58d89e",
     "locked": true,
     "points": 10,
     "schema_version": 3,
     "solution": false
    }
   },
   "outputs": [],
   "source": [
    "# Tests for Q5 (10 pts)\n",
    "assert isinstance(db_dictionary,dict)"
   ]
  },
  {
   "cell_type": "code",
   "execution_count": null,
   "id": "38895c10",
   "metadata": {
    "deletable": false,
    "editable": false,
    "nbgrader": {
     "cell_type": "code",
     "checksum": "05aac9352793165e9cc690311b9d3ec2",
     "grade": true,
     "grade_id": "cell-5f002d76d6124251",
     "locked": true,
     "points": 5,
     "schema_version": 3,
     "solution": false,
     "task": false
    }
   },
   "outputs": [],
   "source": [
    "# Hidden tests for Q5 (5 pts)"
   ]
  },
  {
   "cell_type": "markdown",
   "id": "9a5a3697",
   "metadata": {
    "deletable": false,
    "editable": false,
    "nbgrader": {
     "cell_type": "markdown",
     "checksum": "b958d71284600f53f1180c1f8317ec38",
     "grade": false,
     "grade_id": "cell-024c3dc1c6d760ab",
     "locked": true,
     "schema_version": 3,
     "solution": false
    }
   },
   "source": [
    "## Q6\n",
    "1. Use `esearch` to look for papers in pubmed that mention 'cardiovascular disease' and assign this handle to `pub_handle`. Return the first 100 results, sorted by relevance. [The esearch help page is here](https://www.ncbi.nlm.nih.gov/books/NBK25499/#chapter4.ESearch).\n",
    "2. Using the `read()` method, assign the output of this search to `pub_record`.\n",
    "3. Assign the IDs for these (contained in `IdList`) to `paper_ids`."
   ]
  },
  {
   "cell_type": "code",
   "execution_count": null,
   "id": "5a7c68b8",
   "metadata": {
    "deletable": false,
    "nbgrader": {
     "cell_type": "code",
     "checksum": "ce7c7e3fb746e1faae59601a0a3cc47f",
     "grade": false,
     "grade_id": "cell-0c77abedc8548d4f",
     "locked": false,
     "schema_version": 3,
     "solution": true
    }
   },
   "outputs": [],
   "source": [
    "# YOUR CODE HERE\n",
    "raise NotImplementedError()"
   ]
  },
  {
   "cell_type": "code",
   "execution_count": null,
   "id": "18895cab",
   "metadata": {
    "deletable": false,
    "editable": false,
    "nbgrader": {
     "cell_type": "code",
     "checksum": "971ba1d2ae8604ce37d3a6050d79549f",
     "grade": true,
     "grade_id": "cell-88b7b7074ad7f4cb",
     "locked": true,
     "points": 5,
     "schema_version": 3,
     "solution": false
    }
   },
   "outputs": [],
   "source": [
    "# Tests for Q6 (5 pts)\n",
    "assert isinstance(paper_ids,list)\n",
    "assert len(paper_ids) == 100"
   ]
  },
  {
   "cell_type": "code",
   "execution_count": null,
   "id": "a8b44c28",
   "metadata": {
    "deletable": false,
    "editable": false,
    "nbgrader": {
     "cell_type": "code",
     "checksum": "9d672bd7722b50fc84c27e803163e9df",
     "grade": true,
     "grade_id": "cell-093977b0018aa6c4",
     "locked": true,
     "points": 5,
     "schema_version": 3,
     "solution": false
    }
   },
   "outputs": [],
   "source": [
    "# Hidden tests for Q6 (5 pts)"
   ]
  },
  {
   "cell_type": "markdown",
   "id": "284f90f0",
   "metadata": {
    "deletable": false,
    "editable": false,
    "nbgrader": {
     "cell_type": "markdown",
     "checksum": "3a85204b96b0d68eb3bbde399db88d90",
     "grade": false,
     "grade_id": "cell-df368f8ebb840dc9",
     "locked": true,
     "schema_version": 3,
     "solution": false
    }
   },
   "source": [
    "## Q7\n",
    "1. Use `efetch` to get the abstract for the **very first paper** in your `paper_ids` above and assign it to `abstract_handle`. Hint: you need to give `efetch` three arguments: `db`, `id`, and `rettype`.\n",
    "2. Use `read()` on your handle and assign it to `abstract`.\n",
    "\n",
    "Abstract should be an bytes `xml` (kind of messy) object that contains the abstract, along with lots of other information. If you are getting a \"Bio.Entrez.Parser.DictionaryElement\" instead of a bytes object, make sure you are using the syntax `handle.read()` and try again. "
   ]
  },
  {
   "cell_type": "code",
   "execution_count": null,
   "id": "9f6cf9aa",
   "metadata": {
    "deletable": false,
    "nbgrader": {
     "cell_type": "code",
     "checksum": "b3b3b9903da1b3bc54a34284d2ba69d4",
     "grade": false,
     "grade_id": "cell-56a3fe7e38bfa57b",
     "locked": false,
     "schema_version": 3,
     "solution": true
    }
   },
   "outputs": [],
   "source": [
    "# YOUR CODE HERE\n",
    "raise NotImplementedError()"
   ]
  },
  {
   "cell_type": "code",
   "execution_count": null,
   "id": "9fda9d01",
   "metadata": {
    "deletable": false,
    "editable": false,
    "nbgrader": {
     "cell_type": "code",
     "checksum": "c49ded6bea1a7d129c812c456a98c70a",
     "grade": true,
     "grade_id": "cell-fcd671dad0d6b869",
     "locked": true,
     "points": 2.5,
     "schema_version": 3,
     "solution": false
    }
   },
   "outputs": [],
   "source": [
    "# Tests for Q7, worth 2.5 points\n",
    "assert isinstance(abstract,bytes)"
   ]
  },
  {
   "cell_type": "code",
   "execution_count": null,
   "id": "e50bc510",
   "metadata": {
    "deletable": false,
    "editable": false,
    "nbgrader": {
     "cell_type": "code",
     "checksum": "8b50cf7a3f47c5a0ffba91e463494e26",
     "grade": true,
     "grade_id": "cell-8673574466a3a00f",
     "locked": true,
     "points": 2.5,
     "schema_version": 3,
     "solution": false,
     "task": false
    }
   },
   "outputs": [],
   "source": [
    "# Hidden tests for Q7, worth 2.5 points"
   ]
  },
  {
   "cell_type": "markdown",
   "id": "798ddc6c",
   "metadata": {
    "deletable": false,
    "editable": false,
    "nbgrader": {
     "cell_type": "markdown",
     "checksum": "544f7ef399858b1be53899300527f434",
     "grade": false,
     "grade_id": "cell-c3e8d748eea5286b",
     "locked": true,
     "schema_version": 3,
     "solution": false
    }
   },
   "source": [
    "## Q8\n",
    "Finally, let's check if our abstract mentions 'blood pressure'.\n",
    "\n",
    "1. First, turn the abstract into a string called `abstract_str`.\n",
    "2. Then, create a boolean variable, `bp_bool` that reflects whether the abstract contains the string 'blood pressure'."
   ]
  },
  {
   "cell_type": "code",
   "execution_count": null,
   "id": "dc5e537e",
   "metadata": {
    "deletable": false,
    "nbgrader": {
     "cell_type": "code",
     "checksum": "6383d56585fea6b68c1d694c3cbad538",
     "grade": false,
     "grade_id": "cell-1b0903221728b832",
     "locked": false,
     "schema_version": 3,
     "solution": true
    }
   },
   "outputs": [],
   "source": [
    "# YOUR CODE HERE\n",
    "raise NotImplementedError()"
   ]
  },
  {
   "cell_type": "code",
   "execution_count": null,
   "id": "215ec590",
   "metadata": {
    "deletable": false,
    "editable": false,
    "nbgrader": {
     "cell_type": "code",
     "checksum": "9a02696485185403ec7815ace24b7294",
     "grade": true,
     "grade_id": "cell-d5418c99702a206b",
     "locked": true,
     "points": 2.5,
     "schema_version": 3,
     "solution": false,
     "task": false
    }
   },
   "outputs": [],
   "source": [
    "## Tests for Q8, 2.5 points\n",
    "assert isinstance(bp_bool,bool)\n",
    "assert isinstance(abstract_str,str)"
   ]
  },
  {
   "cell_type": "code",
   "execution_count": null,
   "id": "3b9903a5",
   "metadata": {
    "deletable": false,
    "editable": false,
    "nbgrader": {
     "cell_type": "code",
     "checksum": "6667d8cb1e3af2ae2bdfb948a5266097",
     "grade": true,
     "grade_id": "cell-b09fcf4aa42f980a",
     "locked": true,
     "points": 2.5,
     "schema_version": 3,
     "solution": false
    }
   },
   "outputs": [],
   "source": [
    "## Hidden tests for Q8, 2.5 points"
   ]
  }
 ],
 "metadata": {
  "kernelspec": {
   "display_name": "Python 3 (ipykernel)",
   "language": "python",
   "name": "python3"
  },
  "language_info": {
   "codemirror_mode": {
    "name": "ipython",
    "version": 3
   },
   "file_extension": ".py",
   "mimetype": "text/x-python",
   "name": "python",
   "nbconvert_exporter": "python",
   "pygments_lexer": "ipython3",
   "version": "3.9.5"
  }
 },
 "nbformat": 4,
 "nbformat_minor": 5
}
