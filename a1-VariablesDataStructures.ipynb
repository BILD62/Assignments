{
 "cells": [
  {
   "cell_type": "markdown",
   "metadata": {
    "deletable": false,
    "editable": false,
    "nbgrader": {
     "cell_type": "markdown",
     "checksum": "e134b8747c7c3c32f12424a8d38617fd",
     "grade": false,
     "grade_id": "cell-4be53d3332b4be9b",
     "locked": true,
     "schema_version": 3,
     "solution": false
    }
   },
   "source": [
    "# Assignment 1: Programming Fundamentals\n",
    "\n",
    "**PLEASE DO NOT CHANGE THE NAME OF THIS FILE.**\n",
    "\n",
    "**PLEASE DO NOT COPY & PASTE OR DELETE CELLS INCLUDED IN THE ASSIGNMENT.**\n",
    "\n",
    "\n",
    "## How to complete assignments\n",
    "\n",
    "Whenever you see:\n",
    "\n",
    "```\n",
    "# YOUR CODE HERE\n",
    "raise NotImplementedError()\n",
    "```\n",
    "\n",
    "You need to **replace (meaning, delete) these lines of code with code that answers the questions** and meets the specified criteria. Make sure you remove the 'raise' line when you do this (or your notebook will raise an error, regardless of any other code, and thus fail the grading tests).\n",
    "\n",
    "You should write the answer to the questions in those cells (the ones with `# YOUR CODE HERE`), but you can also add extra cells to explore / investigate things if you need / want to. \n",
    "\n",
    "Any cell with `assert` statements in it is a test cell. You should not try to change or delete these cells. Note that there might be more than one assert that tests a particular question. \n",
    "\n",
    "If a test does fail, reading the error that is printed out should let you know which test failed, which may be useful for fixing it.\n",
    "\n",
    "Note that some cells, including the test cells, may be read only, which means they won't let you edit them. If you cannot edit a cell - that is normal, and you shouldn't need to edit that cell.\n",
    "\n",
    "\n",
    "## Tips & Tricks\n",
    "\n",
    "The following are a couple tips & tricks that may help you if you get stuck on anything.\n",
    "\n",
    "#### Printing Variables\n",
    "You can (and should) print and check variables as you go. This allows you to check what values they hold, and fix things if anything unexpected happens.\n",
    "\n",
    "#### Restarting the Kernel\n",
    "- If you run cells out of order, you can end up overwriting things in your namespace. \n",
    "- If things seem to go weird, a good first step is to restart the kernel, which you can do from the kernel menu above.\n",
    "- Even if everything seems to be working, it's a nice check to 'Restart & Run All', to make sure everything runs properly in order."
   ]
  },
  {
   "cell_type": "markdown",
   "metadata": {
    "deletable": false,
    "editable": false,
    "nbgrader": {
     "cell_type": "markdown",
     "checksum": "86f5d07f5b2189cbbc6062def9aa622c",
     "grade": false,
     "grade_id": "cell-2379195456db25ad",
     "locked": true,
     "schema_version": 3,
     "solution": false
    }
   },
   "source": [
    "# Part I: Defining & manipulating variables\n",
    "\n",
    "## Q1\n",
    "Create the following variables:\n",
    "- a variable called `number` that stores the value 57\n",
    "- a variable called `decimal` that stores the value 9.32\n",
    "- a variable called `word` that stores the value 'BILD62'\n",
    "- a variable called `int_dec`, created by casting `decimal` into an int"
   ]
  },
  {
   "cell_type": "code",
   "execution_count": null,
   "metadata": {
    "deletable": false,
    "nbgrader": {
     "cell_type": "code",
     "checksum": "99cf508c1f6d21c780ca0646933d6494",
     "grade": false,
     "grade_id": "cell-4aadfe98d815fd0a",
     "locked": false,
     "schema_version": 3,
     "solution": true
    }
   },
   "outputs": [],
   "source": [
    "# Create the variables\n",
    "\n",
    "# YOUR CODE HERE\n",
    "raise NotImplementedError()"
   ]
  },
  {
   "cell_type": "code",
   "execution_count": null,
   "metadata": {
    "deletable": false,
    "editable": false,
    "nbgrader": {
     "cell_type": "code",
     "checksum": "51bd6c3b0529c49a301876cc0522e496",
     "grade": true,
     "grade_id": "cell-c87cc98841b96e7d",
     "locked": true,
     "points": 10,
     "schema_version": 3,
     "solution": false
    }
   },
   "outputs": [],
   "source": [
    "## Tests for Q1, worth 10 points\n",
    "\n",
    "# Check that variable `number` is an int, and has the correct value\n",
    "assert isinstance(number, int)\n",
    "assert number == 57\n",
    "\n",
    "# Check that variable `decimal` is a float, and has the correct value\n",
    "assert isinstance(decimal, float)\n",
    "assert decimal == 9.32\n",
    "\n",
    "# Check that variable `words` is a string, and has the correct value\n",
    "assert isinstance(word, str)\n",
    "assert word == \"BILD62\"\n",
    "\n",
    "# Check that variable `int_dec is an int, and has the correct value\n",
    "assert isinstance(int_dec, int)\n",
    "assert int_dec == 9"
   ]
  },
  {
   "cell_type": "markdown",
   "metadata": {
    "deletable": false,
    "editable": false,
    "nbgrader": {
     "cell_type": "markdown",
     "checksum": "ff03b80fe52ef477dd72eb2d0e44ccb6",
     "grade": false,
     "grade_id": "cell-0f1da66e83a7e76e",
     "locked": true,
     "schema_version": 3,
     "solution": false
    }
   },
   "source": [
    "## Q2\n",
    "\n",
    "Create three different lists:\n",
    "\n",
    "- A list called string_list that contains three strings (can be any strings)\n",
    "- A list called float_list that contains three float numbers (can by any floats)\n",
    "- A list called int_list that contains three integers (can be any integers)\n",
    "- Then, create a new list, called nested_list which contains the three lists you created above."
   ]
  },
  {
   "cell_type": "code",
   "execution_count": null,
   "metadata": {
    "deletable": false,
    "nbgrader": {
     "cell_type": "code",
     "checksum": "233db31f5691cd0be41849371adba838",
     "grade": false,
     "grade_id": "cell-951cc83732d3279e",
     "locked": false,
     "schema_version": 3,
     "solution": true
    }
   },
   "outputs": [],
   "source": [
    "# YOUR CODE HERE\n",
    "raise NotImplementedError()"
   ]
  },
  {
   "cell_type": "code",
   "execution_count": null,
   "metadata": {
    "deletable": false,
    "editable": false,
    "nbgrader": {
     "cell_type": "code",
     "checksum": "2450027770f7164bfaf7122b25417069",
     "grade": true,
     "grade_id": "cell-8ddb65b5010b4510",
     "locked": true,
     "points": 10,
     "schema_version": 3,
     "solution": false
    }
   },
   "outputs": [],
   "source": [
    "# Tests for Q2, worth 10 points\n",
    "\n",
    "assert isinstance(string_list, list)\n",
    "assert len(string_list) == 3\n",
    "assert isinstance(string_list[0], str)\n",
    "\n",
    "assert isinstance(float_list, list)\n",
    "assert len(float_list) == 3\n",
    "assert isinstance(float_list[0], float)\n",
    "\n",
    "assert isinstance(int_list, list)\n",
    "assert len(int_list) == 3\n",
    "assert isinstance(int_list[0], int)\n",
    "\n",
    "assert isinstance(nested_list, list)\n",
    "assert len(nested_list) == 3\n",
    "assert isinstance(nested_list[0], list)"
   ]
  },
  {
   "cell_type": "markdown",
   "metadata": {
    "deletable": false,
    "editable": false,
    "nbgrader": {
     "cell_type": "markdown",
     "checksum": "adf2e9afb1d670860e388adba920f6ef",
     "grade": false,
     "grade_id": "cell-5aa3fee74f736610",
     "locked": true,
     "schema_version": 3,
     "solution": false
    }
   },
   "source": [
    "# Part II: Building an mRNA sequence\n",
    "\n",
    "Let's build an mRNA sequence from scratch. We need the entire sequence to start with our start codon, `AUG`.  After, we'll create a string of nucleotides for **three** Alanine codons (`GCU`) followed by a [stop codon](https://www.genome.gov/genetics-glossary/Stop-Codon), `UAA`.\n",
    "\n",
    "(For a refresher on how this works, see [this Khan Academy article](https://www.khanacademy.org/science/ap-biology/gene-expression-and-regulation/translation/a/the-genetic-code-discovery-and-properties).)\n",
    "\n",
    "## Q3\n",
    "Build this sequence by following these steps:\n",
    "1. Create the triple Alanine sequence by multiplying `GCU` time three. Assign this to a variable called `alanine_3`.\n",
    "2. Build the entire sequence by adding the start codon, `alanine_3`, and your stop codon. Assign this to a variable called `mRNA`.\n"
   ]
  },
  {
   "cell_type": "code",
   "execution_count": null,
   "metadata": {
    "deletable": false,
    "nbgrader": {
     "cell_type": "code",
     "checksum": "aa0d0cb209a2e12be1ab6c5d8c47ade2",
     "grade": false,
     "grade_id": "cell-e7ca57e918e66ef7",
     "locked": false,
     "schema_version": 3,
     "solution": true
    }
   },
   "outputs": [],
   "source": [
    "# YOUR CODE HERE\n",
    "raise NotImplementedError()"
   ]
  },
  {
   "cell_type": "code",
   "execution_count": null,
   "metadata": {
    "deletable": false,
    "editable": false,
    "nbgrader": {
     "cell_type": "code",
     "checksum": "99fa7c29f5c186c0031771723b6f2b3d",
     "grade": true,
     "grade_id": "cell-9ff25b74d116076f",
     "locked": true,
     "points": 10,
     "schema_version": 3,
     "solution": false
    }
   },
   "outputs": [],
   "source": [
    "# Tests for Q3, worth 10 points total  [Note: hidden tests]\n",
    "\n",
    "assert isinstance(alanine_3, str)\n",
    "assert isinstance(mRNA, str)\n"
   ]
  },
  {
   "cell_type": "markdown",
   "metadata": {
    "deletable": false,
    "editable": false,
    "nbgrader": {
     "cell_type": "markdown",
     "checksum": "68d982ce86970633a467c68c9537fe9c",
     "grade": false,
     "grade_id": "cell-6c8026b6af133b16",
     "locked": true,
     "schema_version": 3,
     "solution": false
    }
   },
   "source": [
    "# Part III: Indexing & slicing lists\n",
    "\n",
    "For Part III, the following lists are provided for you. Make sure you run the following cell."
   ]
  },
  {
   "cell_type": "code",
   "execution_count": null,
   "metadata": {},
   "outputs": [],
   "source": [
    "list_1 = [10, 20, 30, 40]\n",
    "list_2 = [13, 15, 17, 19, 21, 23]\n",
    "list_3 = [1, 2, 3, 4, 5, 6, 7, 8, 9, 10, 11]\n",
    "list_4 = [21, 9, 98, 289, 938]"
   ]
  },
  {
   "cell_type": "markdown",
   "metadata": {
    "deletable": false,
    "editable": false,
    "nbgrader": {
     "cell_type": "markdown",
     "checksum": "e4d7af94d6dd5264e476107b6dc92e19",
     "grade": false,
     "grade_id": "cell-dec7f3e5ec4810a1",
     "locked": true,
     "schema_version": 3,
     "solution": false
    }
   },
   "source": [
    "## Q5\n",
    "\n",
    "Do the following using indexing:\n",
    "\n",
    "- Store the first value in list_1 a variable called index_1\n",
    "- Store the last value in list_2 to a variable called index_2\n",
    "- Store the first four values of list_3 to a variable called index_3\n",
    "- Store the last four values of list_4 to a variable called index_4"
   ]
  },
  {
   "cell_type": "code",
   "execution_count": null,
   "metadata": {
    "deletable": false,
    "nbgrader": {
     "cell_type": "code",
     "checksum": "a2d9e285ce4917ce68a0b6bd6618a190",
     "grade": false,
     "grade_id": "cell-eed94ec7e065c79f",
     "locked": false,
     "schema_version": 3,
     "solution": true
    }
   },
   "outputs": [],
   "source": [
    "# YOUR CODE HERE\n",
    "raise NotImplementedError()"
   ]
  },
  {
   "cell_type": "code",
   "execution_count": null,
   "metadata": {
    "deletable": false,
    "editable": false,
    "nbgrader": {
     "cell_type": "code",
     "checksum": "d4743476fe272b3bc047846b9709a367",
     "grade": true,
     "grade_id": "cell-e3f5b918d384c782",
     "locked": true,
     "points": 10,
     "schema_version": 3,
     "solution": false
    }
   },
   "outputs": [],
   "source": [
    "# Tests for Q5, worth 10 points total  [Note: hidden tests]\n",
    "\n",
    "assert isinstance(index_1, int)\n",
    "assert isinstance(index_2, int)\n",
    "assert len(index_3) == 4\n",
    "assert len(index_4) == 4\n"
   ]
  },
  {
   "cell_type": "markdown",
   "metadata": {
    "deletable": false,
    "editable": false,
    "nbgrader": {
     "cell_type": "markdown",
     "checksum": "6aa5a28feddb55ab70b33dcfac824743",
     "grade": false,
     "grade_id": "cell-cec3af9dc8b60275",
     "locked": true,
     "schema_version": 3,
     "solution": false
    }
   },
   "source": [
    "# Part IV: Create a gene dictionary\n",
    "Here, we'll create a dictionary of genes that are expressed in the brain. Choose any of the genes above to put into your dictionary:\n",
    "\n",
    "| Symbol | Full name                                |\n",
    "|--------|------------------------------------------|\n",
    "| BDNF   | brain derived neurotropic factor         |\n",
    "| DISC1  | disrupted in schizophrenia 1             |\n",
    "| PAX5   | paired box 5                             |\n",
    "| MECP2  | methyl CpG binding protein 2             |\n",
    "| SNAP25 | synaptosomal nerve-associated protein 25 |\n",
    "\n",
    "\n",
    "## Q6\n",
    "In the cell below, create a gene dictionary called `gene_dict` for three different genes from the list above. For each entry, the `key` should be a string that is the gene symbol, and the `value` should be the full name."
   ]
  },
  {
   "cell_type": "code",
   "execution_count": null,
   "metadata": {
    "deletable": false,
    "nbgrader": {
     "cell_type": "code",
     "checksum": "a30a0228c36923a8c0b2b2ceb0394296",
     "grade": false,
     "grade_id": "cell-2328a4cfec50de9d",
     "locked": false,
     "schema_version": 3,
     "solution": true
    }
   },
   "outputs": [],
   "source": [
    "# YOUR CODE HERE\n",
    "raise NotImplementedError()"
   ]
  },
  {
   "cell_type": "code",
   "execution_count": null,
   "metadata": {
    "deletable": false,
    "editable": false,
    "nbgrader": {
     "cell_type": "code",
     "checksum": "6925efa96f40b06baf139d4e1ec0079b",
     "grade": true,
     "grade_id": "cell-c40baa9b0749b996",
     "locked": true,
     "points": 10,
     "schema_version": 3,
     "solution": false
    }
   },
   "outputs": [],
   "source": [
    "# Tests for Q6, worth 10 points [Note: hidden tests]\n",
    "\n",
    "assert isinstance(gene_dict, dict)\n"
   ]
  }
 ],
 "metadata": {
  "kernelspec": {
   "display_name": "Python 3 (ipykernel)",
   "language": "python",
   "name": "python3"
  },
  "language_info": {
   "codemirror_mode": {
    "name": "ipython",
    "version": 3
   },
   "file_extension": ".py",
   "mimetype": "text/x-python",
   "name": "python",
   "nbconvert_exporter": "python",
   "pygments_lexer": "ipython3",
   "version": "3.9.5"
  }
 },
 "nbformat": 4,
 "nbformat_minor": 2
}
